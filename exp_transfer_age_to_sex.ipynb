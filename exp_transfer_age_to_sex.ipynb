{
 "cells": [
  {
   "cell_type": "code",
   "execution_count": 1,
   "metadata": {},
   "outputs": [
    {
     "name": "stderr",
     "output_type": "stream",
     "text": [
      "2023-10-26 10:10:29.719041: I tensorflow/core/util/port.cc:110] oneDNN custom operations are on. You may see slightly different numerical results due to floating-point round-off errors from different computation orders. To turn them off, set the environment variable `TF_ENABLE_ONEDNN_OPTS=0`.\n",
      "2023-10-26 10:10:30.300823: I tensorflow/core/platform/cpu_feature_guard.cc:183] This TensorFlow binary is optimized to use available CPU instructions in performance-critical operations.\n",
      "To enable the following instructions: SSE3 SSE4.1 SSE4.2 AVX, in other operations, rebuild TensorFlow with the appropriate compiler flags.\n"
     ]
    }
   ],
   "source": [
    "import tensorflow as tf\n",
    "from tensorflow import keras\n",
    "import numpy as np\n",
    "from pathlib import Path"
   ]
  },
  {
   "cell_type": "code",
   "execution_count": 2,
   "metadata": {},
   "outputs": [
    {
     "name": "stderr",
     "output_type": "stream",
     "text": [
      "2023-10-26 10:10:34.625513: I tensorflow/core/common_runtime/gpu/gpu_device.cc:1636] Created device /job:localhost/replica:0/task:0/device:GPU:0 with 31042 MB memory:  -> device: 0, name: Tesla V100-SXM2-32GB, pci bus id: 0000:18:00.0, compute capability: 7.0\n"
     ]
    }
   ],
   "source": [
    "DATA_PATH = Path(\"/scratch/ajb5d/ecg/tfrecords/\")\n",
    "TRAIN_RECS = list(DATA_PATH.glob(\"train*.tfrecords\"))\n",
    "VAL_RECS = list(DATA_PATH.glob(\"val*.tfrecords\"))\n",
    "\n",
    "BATCH_SIZE = 64\n",
    "\n",
    "record_format = {\n",
    "    'ecg/data': tf.io.FixedLenSequenceFeature([], tf.float32, allow_missing=True),\n",
    "    'age': tf.io.FixedLenFeature([], tf.float32),\n",
    "    'gender': tf.io.FixedLenFeature([], tf.int64),\n",
    "}\n",
    "\n",
    "def _parse_record(record):\n",
    "    example = tf.io.parse_single_example(record, record_format)\n",
    "    ecg_data = tf.reshape(example['ecg/data'], [5000,12])\n",
    "    label = example['gender']\n",
    "    return ecg_data, label\n",
    "\n",
    "def load_dataset(filenames):\n",
    "    ignore_order = tf.data.Options()\n",
    "    ignore_order.experimental_deterministic = False\n",
    "    dataset = tf.data.TFRecordDataset(filenames)\n",
    "    dataset = dataset.with_options(ignore_order)\n",
    "    dataset = dataset.map(_parse_record, num_parallel_calls=tf.data.AUTOTUNE)\n",
    "    return dataset\n",
    "\n",
    "def get_dataset(filenames, labeled=True):\n",
    "    dataset = load_dataset(filenames)\n",
    "    dataset = dataset.shuffle(2048)\n",
    "    dataset = dataset.prefetch(buffer_size=tf.data.AUTOTUNE)\n",
    "    dataset = dataset.batch(BATCH_SIZE)\n",
    "    return dataset\n",
    "\n",
    "train_dataset = get_dataset(TRAIN_RECS)\n",
    "val_dataset = get_dataset(VAL_RECS)"
   ]
  },
  {
   "cell_type": "code",
   "execution_count": 3,
   "metadata": {},
   "outputs": [],
   "source": [
    "from datetime import datetime\n",
    "import os\n",
    "\n",
    "def make_checkpoint_dir(data_path, label):\n",
    "    current_datetime = datetime.now()\n",
    "    formatted_datetime = current_datetime.strftime(\"%Y-%m-%d_%H-%M-%S\")\n",
    "    output_dir = f\"{label}-{formatted_datetime}\"\n",
    "    output_path = f\"{data_path}/{output_dir}\"\n",
    "    \n",
    "    if not os.path.exists(output_path):\n",
    "        os.makedirs(output_path)\n",
    "    \n",
    "    return output_path"
   ]
  },
  {
   "cell_type": "code",
   "execution_count": 4,
   "metadata": {},
   "outputs": [],
   "source": [
    "model = keras.models.load_model(\"data/models/resnet-age.keras\")"
   ]
  },
  {
   "cell_type": "code",
   "execution_count": 5,
   "metadata": {},
   "outputs": [],
   "source": [
    "for i in range(len(model.layers)):\n",
    "    model.layers[i].trainable = False"
   ]
  },
  {
   "cell_type": "code",
   "execution_count": 6,
   "metadata": {},
   "outputs": [],
   "source": [
    "x = model.layers[-2].output\n",
    "x = tf.keras.layers.Dense(128)(x)\n",
    "x = tf.keras.layers.Dense(1, activation='sigmoid', name = \"tl_dense_3\")(x)\n",
    "\n",
    "new_model = keras.Model(inputs=model.input,outputs=x)\n",
    "\n",
    "new_model.compile(\n",
    "    optimizer='adam',\n",
    "    loss=tf.keras.losses.BinaryCrossentropy(),\n",
    "    metrics=['accuracy', tf.keras.metrics.AUC()]\n",
    ")"
   ]
  },
  {
   "cell_type": "code",
   "execution_count": 7,
   "metadata": {},
   "outputs": [
    {
     "name": "stdout",
     "output_type": "stream",
     "text": [
      "Epoch 1/10\n"
     ]
    },
    {
     "name": "stderr",
     "output_type": "stream",
     "text": [
      "2023-10-26 10:10:43.329420: I tensorflow/compiler/xla/stream_executor/cuda/cuda_dnn.cc:432] Loaded cuDNN version 8904\n",
      "2023-10-26 10:10:45.131210: I tensorflow/compiler/xla/service/service.cc:168] XLA service 0x7f12dd8439d0 initialized for platform CUDA (this does not guarantee that XLA will be used). Devices:\n",
      "2023-10-26 10:10:45.131244: I tensorflow/compiler/xla/service/service.cc:176]   StreamExecutor device (0): Tesla V100-SXM2-32GB, Compute Capability 7.0\n",
      "2023-10-26 10:10:45.199973: I tensorflow/compiler/mlir/tensorflow/utils/dump_mlir_util.cc:255] disabling MLIR crash reproducer, set env var `MLIR_CRASH_REPRODUCER_DIRECTORY` to enable.\n",
      "2023-10-26 10:10:45.654748: I ./tensorflow/compiler/jit/device_compiler.h:186] Compiled cluster using XLA!  This line is logged at most once for the lifetime of the process.\n"
     ]
    },
    {
     "name": "stdout",
     "output_type": "stream",
     "text": [
      "   7851/Unknown - 231s 29ms/step - loss: 0.5096 - accuracy: 0.7516 - auc: 0.8298INFO:tensorflow:Assets written to: data/models/cnn-tl-gender-2023-10-26_10-10-41/assets\n"
     ]
    },
    {
     "name": "stderr",
     "output_type": "stream",
     "text": [
      "INFO:tensorflow:Assets written to: data/models/cnn-tl-gender-2023-10-26_10-10-41/assets\n"
     ]
    },
    {
     "name": "stdout",
     "output_type": "stream",
     "text": [
      "7851/7851 [==============================] - 282s 35ms/step - loss: 0.5096 - accuracy: 0.7516 - auc: 0.8298 - val_loss: 0.5158 - val_accuracy: 0.7449 - val_auc: 0.8250 - lr: 0.0010\n",
      "Epoch 2/10\n",
      "7849/7851 [============================>.] - ETA: 0s - loss: 0.4934 - accuracy: 0.7608 - auc: 0.8409INFO:tensorflow:Assets written to: data/models/cnn-tl-gender-2023-10-26_10-10-41/assets\n"
     ]
    },
    {
     "name": "stderr",
     "output_type": "stream",
     "text": [
      "INFO:tensorflow:Assets written to: data/models/cnn-tl-gender-2023-10-26_10-10-41/assets\n"
     ]
    },
    {
     "name": "stdout",
     "output_type": "stream",
     "text": [
      "7851/7851 [==============================] - 276s 35ms/step - loss: 0.4934 - accuracy: 0.7609 - auc: 0.8409 - val_loss: 0.5610 - val_accuracy: 0.7236 - val_auc: 0.8189 - lr: 0.0010\n",
      "Epoch 3/10\n",
      "7849/7851 [============================>.] - ETA: 0s - loss: 0.4825 - accuracy: 0.7683 - auc: 0.8489INFO:tensorflow:Assets written to: data/models/cnn-tl-gender-2023-10-26_10-10-41/assets\n"
     ]
    },
    {
     "name": "stderr",
     "output_type": "stream",
     "text": [
      "INFO:tensorflow:Assets written to: data/models/cnn-tl-gender-2023-10-26_10-10-41/assets\n"
     ]
    },
    {
     "name": "stdout",
     "output_type": "stream",
     "text": [
      "7851/7851 [==============================] - 276s 35ms/step - loss: 0.4825 - accuracy: 0.7683 - auc: 0.8489 - val_loss: 0.5508 - val_accuracy: 0.7340 - val_auc: 0.8085 - lr: 0.0010\n",
      "Epoch 4/10\n",
      "7849/7851 [============================>.] - ETA: 0s - loss: 0.4725 - accuracy: 0.7752 - auc: 0.8561INFO:tensorflow:Assets written to: data/models/cnn-tl-gender-2023-10-26_10-10-41/assets\n"
     ]
    },
    {
     "name": "stderr",
     "output_type": "stream",
     "text": [
      "INFO:tensorflow:Assets written to: data/models/cnn-tl-gender-2023-10-26_10-10-41/assets\n"
     ]
    },
    {
     "name": "stdout",
     "output_type": "stream",
     "text": [
      "7851/7851 [==============================] - 276s 35ms/step - loss: 0.4725 - accuracy: 0.7752 - auc: 0.8561 - val_loss: 0.5575 - val_accuracy: 0.7309 - val_auc: 0.8162 - lr: 0.0010\n",
      "Epoch 5/10\n",
      "7849/7851 [============================>.] - ETA: 0s - loss: 0.4649 - accuracy: 0.7801 - auc: 0.8612INFO:tensorflow:Assets written to: data/models/cnn-tl-gender-2023-10-26_10-10-41/assets\n"
     ]
    },
    {
     "name": "stderr",
     "output_type": "stream",
     "text": [
      "INFO:tensorflow:Assets written to: data/models/cnn-tl-gender-2023-10-26_10-10-41/assets\n"
     ]
    },
    {
     "name": "stdout",
     "output_type": "stream",
     "text": [
      "7851/7851 [==============================] - 276s 35ms/step - loss: 0.4649 - accuracy: 0.7801 - auc: 0.8612 - val_loss: 0.5545 - val_accuracy: 0.7337 - val_auc: 0.8091 - lr: 0.0010\n",
      "Epoch 6/10\n",
      "7849/7851 [============================>.] - ETA: 0s - loss: 0.4569 - accuracy: 0.7855 - auc: 0.8666INFO:tensorflow:Assets written to: data/models/cnn-tl-gender-2023-10-26_10-10-41/assets\n"
     ]
    },
    {
     "name": "stderr",
     "output_type": "stream",
     "text": [
      "INFO:tensorflow:Assets written to: data/models/cnn-tl-gender-2023-10-26_10-10-41/assets\n"
     ]
    },
    {
     "name": "stdout",
     "output_type": "stream",
     "text": [
      "7851/7851 [==============================] - 276s 35ms/step - loss: 0.4569 - accuracy: 0.7855 - auc: 0.8666 - val_loss: 0.5645 - val_accuracy: 0.7282 - val_auc: 0.8046 - lr: 0.0010\n",
      "Epoch 7/10\n",
      "7849/7851 [============================>.] - ETA: 0s - loss: 0.4517 - accuracy: 0.7884 - auc: 0.8700INFO:tensorflow:Assets written to: data/models/cnn-tl-gender-2023-10-26_10-10-41/assets\n"
     ]
    },
    {
     "name": "stderr",
     "output_type": "stream",
     "text": [
      "INFO:tensorflow:Assets written to: data/models/cnn-tl-gender-2023-10-26_10-10-41/assets\n"
     ]
    },
    {
     "name": "stdout",
     "output_type": "stream",
     "text": [
      "7851/7851 [==============================] - 276s 35ms/step - loss: 0.4517 - accuracy: 0.7884 - auc: 0.8700 - val_loss: 0.5906 - val_accuracy: 0.7193 - val_auc: 0.8082 - lr: 0.0010\n",
      "Epoch 8/10\n",
      "7849/7851 [============================>.] - ETA: 0s - loss: 0.4461 - accuracy: 0.7921 - auc: 0.8735INFO:tensorflow:Assets written to: data/models/cnn-tl-gender-2023-10-26_10-10-41/assets\n"
     ]
    },
    {
     "name": "stderr",
     "output_type": "stream",
     "text": [
      "INFO:tensorflow:Assets written to: data/models/cnn-tl-gender-2023-10-26_10-10-41/assets\n"
     ]
    },
    {
     "name": "stdout",
     "output_type": "stream",
     "text": [
      "7851/7851 [==============================] - 276s 35ms/step - loss: 0.4461 - accuracy: 0.7921 - auc: 0.8735 - val_loss: 0.5785 - val_accuracy: 0.7268 - val_auc: 0.8086 - lr: 0.0010\n",
      "Epoch 9/10\n",
      "7849/7851 [============================>.] - ETA: 0s - loss: 0.4432 - accuracy: 0.7926 - auc: 0.8753INFO:tensorflow:Assets written to: data/models/cnn-tl-gender-2023-10-26_10-10-41/assets\n"
     ]
    },
    {
     "name": "stderr",
     "output_type": "stream",
     "text": [
      "INFO:tensorflow:Assets written to: data/models/cnn-tl-gender-2023-10-26_10-10-41/assets\n"
     ]
    },
    {
     "name": "stdout",
     "output_type": "stream",
     "text": [
      "7851/7851 [==============================] - 276s 35ms/step - loss: 0.4431 - accuracy: 0.7927 - auc: 0.8753 - val_loss: 0.6239 - val_accuracy: 0.6992 - val_auc: 0.7941 - lr: 0.0010\n",
      "Epoch 10/10\n",
      "7849/7851 [============================>.] - ETA: 0s - loss: 0.4395 - accuracy: 0.7957 - auc: 0.8776INFO:tensorflow:Assets written to: data/models/cnn-tl-gender-2023-10-26_10-10-41/assets\n"
     ]
    },
    {
     "name": "stderr",
     "output_type": "stream",
     "text": [
      "INFO:tensorflow:Assets written to: data/models/cnn-tl-gender-2023-10-26_10-10-41/assets\n"
     ]
    },
    {
     "name": "stdout",
     "output_type": "stream",
     "text": [
      "7851/7851 [==============================] - 276s 35ms/step - loss: 0.4395 - accuracy: 0.7957 - auc: 0.8776 - val_loss: 0.6084 - val_accuracy: 0.7102 - val_auc: 0.7937 - lr: 0.0010\n"
     ]
    },
    {
     "data": {
      "text/plain": [
       "<keras.src.callbacks.History at 0x7f13605e2d40>"
      ]
     },
     "execution_count": 7,
     "metadata": {},
     "output_type": "execute_result"
    }
   ],
   "source": [
    "callbacks = [\n",
    "    tf.keras.callbacks.TerminateOnNaN(),\n",
    "    tf.keras.callbacks.ReduceLROnPlateau(),\n",
    "    tf.keras.callbacks.ModelCheckpoint(make_checkpoint_dir(\"data/models\", \"cnn-tl-gender\"))\n",
    "]\n",
    "\n",
    "new_model.fit(train_dataset, epochs=10, validation_data=val_dataset, callbacks=callbacks)"
   ]
  },
  {
   "cell_type": "code",
   "execution_count": null,
   "metadata": {},
   "outputs": [],
   "source": []
  }
 ],
 "metadata": {
  "kernelspec": {
   "display_name": "Tensorflow 2.13.0",
   "language": "python",
   "name": "tensorflow-2.13.0"
  },
  "language_info": {
   "codemirror_mode": {
    "name": "ipython",
    "version": 3
   },
   "file_extension": ".py",
   "mimetype": "text/x-python",
   "name": "python",
   "nbconvert_exporter": "python",
   "pygments_lexer": "ipython3",
   "version": "3.10.12"
  }
 },
 "nbformat": 4,
 "nbformat_minor": 4
}
