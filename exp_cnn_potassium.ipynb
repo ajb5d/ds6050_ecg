{
 "cells": [
  {
   "cell_type": "code",
   "execution_count": 1,
   "metadata": {},
   "outputs": [
    {
     "name": "stderr",
     "output_type": "stream",
     "text": [
      "2023-10-30 16:10:08.099044: I tensorflow/core/platform/cpu_feature_guard.cc:183] This TensorFlow binary is optimized to use available CPU instructions in performance-critical operations.\n",
      "To enable the following instructions: SSE3 SSE4.1 SSE4.2 AVX, in other operations, rebuild TensorFlow with the appropriate compiler flags.\n"
     ]
    }
   ],
   "source": [
    "import tensorflow as tf\n",
    "import numpy as np\n",
    "from pathlib import Path"
   ]
  },
  {
   "cell_type": "code",
   "execution_count": 2,
   "metadata": {},
   "outputs": [],
   "source": [
    "DATA_PATH = Path(\"/scratch/ajb5d/ecg/tfrecords/\")\n",
    "TRAIN_RECS = list(DATA_PATH.glob(\"train*.tfrecords\"))\n",
    "VAL_RECS = list(DATA_PATH.glob(\"val*.tfrecords\"))"
   ]
  },
  {
   "cell_type": "code",
   "execution_count": 3,
   "metadata": {},
   "outputs": [],
   "source": [
    "BATCH_SIZE = 64\n",
    "\n",
    "record_format = {\n",
    "    'ecg/data': tf.io.FixedLenSequenceFeature([], tf.float32, allow_missing=True),\n",
    "    'age': tf.io.FixedLenFeature([], tf.float32),\n",
    "    'potassium': tf.io.FixedLenFeature([], tf.float32),\n",
    "    'gender': tf.io.FixedLenFeature([], tf.int64),\n",
    "}\n",
    "\n",
    "def _parse_record(record):\n",
    "    example = tf.io.parse_single_example(record, record_format)\n",
    "    ecg_data = tf.reshape(example['ecg/data'], [5000,12])\n",
    "    label = example['potassium']\n",
    "    return ecg_data, label\n",
    "\n",
    "def drop_na_ages(x,y):\n",
    "    return not tf.math.reduce_any(tf.math.is_nan(y))\n",
    "\n",
    "def load_dataset(filenames):\n",
    "    ignore_order = tf.data.Options()\n",
    "    ignore_order.experimental_deterministic = False\n",
    "    dataset = tf.data.TFRecordDataset(filenames)\n",
    "    dataset = dataset.with_options(ignore_order)\n",
    "    dataset = dataset.map(_parse_record, num_parallel_calls=tf.data.AUTOTUNE)\n",
    "    dataset = dataset.filter(drop_na_ages)\n",
    "    return dataset\n",
    "\n",
    "def get_dataset(filenames, labeled=True):\n",
    "    dataset = load_dataset(filenames)\n",
    "    dataset = dataset.shuffle(2048)\n",
    "    dataset = dataset.prefetch(buffer_size=tf.data.AUTOTUNE)\n",
    "    dataset = dataset.batch(BATCH_SIZE)\n",
    "    return dataset"
   ]
  },
  {
   "cell_type": "code",
   "execution_count": 4,
   "metadata": {},
   "outputs": [
    {
     "name": "stderr",
     "output_type": "stream",
     "text": [
      "2023-10-30 16:10:12.998035: I tensorflow/core/common_runtime/gpu/gpu_device.cc:1636] Created device /job:localhost/replica:0/task:0/device:GPU:0 with 78791 MB memory:  -> device: 0, name: NVIDIA A100-SXM4-80GB, pci bus id: 0000:bd:00.0, compute capability: 8.0\n"
     ]
    }
   ],
   "source": [
    "train_dataset = get_dataset(TRAIN_RECS)\n",
    "val_dataset = get_dataset(VAL_RECS)"
   ]
  },
  {
   "cell_type": "code",
   "execution_count": 5,
   "metadata": {},
   "outputs": [],
   "source": [
    "# tf.keras.mixed_precision.set_global_policy('mixed_float16')"
   ]
  },
  {
   "cell_type": "code",
   "execution_count": 6,
   "metadata": {},
   "outputs": [],
   "source": [
    "def conv_block(x, n, k, mp, groups = 12):\n",
    "    x = tf.keras.layers.Conv1D(n * groups, k, padding='same', groups = groups)(x)\n",
    "    x = tf.keras.layers.BatchNormalization()(x)\n",
    "    x = tf.keras.layers.Activation('relu')(x)\n",
    "    if mp:\n",
    "        x = tf.keras.layers.MaxPooling1D(mp)(x)\n",
    "\n",
    "    return x\n",
    "\n",
    "input_layer = tf.keras.layers.Input(shape=(5000, 12))\n",
    "x = input_layer\n",
    "\n",
    "x = conv_block(x, 16, 7, 2)\n",
    "x = conv_block(x, 16, 5, 4)\n",
    "x = conv_block(x, 32, 5, 2)\n",
    "x = conv_block(x, 32, 5, 4)\n",
    "x = conv_block(x, 64, 5, 2)\n",
    "x = conv_block(x, 64, 3, 2)\n",
    "x = conv_block(x, 64, 3, 2)\n",
    "x = conv_block(x, 64, 3, 2)\n",
    "\n",
    "x = tf.keras.layers.Conv1D(128, 12, padding = 'same', data_format = 'channels_first')(x)\n",
    "x = tf.keras.layers.BatchNormalization()(x)\n",
    "x = tf.keras.layers.Activation('relu')(x)\n",
    "x = tf.keras.layers.MaxPooling1D()(x)\n",
    "\n",
    "x = tf.keras.layers.Flatten()(x)\n",
    "x = tf.keras.layers.Dense(128)(x)\n",
    "x = tf.keras.layers.BatchNormalization()(x)\n",
    "x = tf.keras.layers.Activation('relu')(x)\n",
    "x = tf.keras.layers.Dropout(0.5)(x)\n",
    "x = tf.keras.layers.Dense(64)(x)\n",
    "x = tf.keras.layers.BatchNormalization()(x)\n",
    "x = tf.keras.layers.Activation('relu')(x)\n",
    "x = tf.keras.layers.Dropout(0.5)(x)\n",
    "x = tf.keras.layers.Dense(1)(x)\n",
    "\n",
    "model = tf.keras.models.Model(input_layer, x)\n",
    "\n",
    "model.compile(\n",
    "    optimizer='adam',\n",
    "    loss=tf.keras.losses.MeanSquaredError(),\n",
    "    metrics=['mse', 'mae']\n",
    ")"
   ]
  },
  {
   "cell_type": "code",
   "execution_count": 7,
   "metadata": {},
   "outputs": [],
   "source": [
    "from datetime import datetime\n",
    "import os\n",
    "\n",
    "def make_checkpoint_dir(data_path, label):\n",
    "    current_datetime = datetime.now()\n",
    "    formatted_datetime = current_datetime.strftime(\"%Y-%m-%d_%H-%M-%S\")\n",
    "    output_dir = f\"{label}-{formatted_datetime}\"\n",
    "    output_path = f\"{data_path}/{output_dir}\"\n",
    "    \n",
    "    if not os.path.exists(output_path):\n",
    "        os.makedirs(output_path)\n",
    "    \n",
    "    return output_path"
   ]
  },
  {
   "cell_type": "code",
   "execution_count": 8,
   "metadata": {},
   "outputs": [
    {
     "name": "stdout",
     "output_type": "stream",
     "text": [
      "Epoch 1/10\n"
     ]
    },
    {
     "name": "stderr",
     "output_type": "stream",
     "text": [
      "2023-10-30 16:10:18.289705: I tensorflow/compiler/xla/service/service.cc:168] XLA service 0x55aeb72fe3b0 initialized for platform CUDA (this does not guarantee that XLA will be used). Devices:\n",
      "2023-10-30 16:10:18.290099: I tensorflow/compiler/xla/service/service.cc:176]   StreamExecutor device (0): NVIDIA A100-SXM4-80GB, Compute Capability 8.0\n",
      "2023-10-30 16:10:18.490850: I tensorflow/compiler/xla/stream_executor/cuda/cuda_dnn.cc:432] Loaded cuDNN version 8904\n",
      "2023-10-30 16:10:20.136095: I ./tensorflow/compiler/jit/device_compiler.h:186] Compiled cluster using XLA!  This line is logged at most once for the lifetime of the process.\n",
      "2023-10-30 16:10:22.103326: I tensorflow/compiler/xla/stream_executor/cuda/cuda_blas.cc:625] TensorFloat-32 will be used for the matrix multiplication. This will only be logged once.\n",
      "2023-10-30 16:10:22.358460: I tensorflow/compiler/mlir/tensorflow/utils/dump_mlir_util.cc:255] disabling MLIR crash reproducer, set env var `MLIR_CRASH_REPRODUCER_DIRECTORY` to enable.\n"
     ]
    },
    {
     "name": "stdout",
     "output_type": "stream",
     "text": [
      "   4248/Unknown - 357s 80ms/step - loss: 1.2119 - mse: 1.2119 - mae: 0.8056"
     ]
    },
    {
     "name": "stderr",
     "output_type": "stream",
     "text": [
      "2023-10-30 16:16:11.157714: I tensorflow/core/framework/local_rendezvous.cc:405] Local rendezvous recv item cancelled. Key hash: 16263120092429597367\n",
      "2023-10-30 16:16:11.157790: I tensorflow/core/framework/local_rendezvous.cc:405] Local rendezvous recv item cancelled. Key hash: 6257262231560064895\n"
     ]
    },
    {
     "name": "stdout",
     "output_type": "stream",
     "text": [
      "INFO:tensorflow:Assets written to: data/models/cnn-potassium-2023-10-30_16-10-14/assets\n"
     ]
    },
    {
     "name": "stderr",
     "output_type": "stream",
     "text": [
      "INFO:tensorflow:Assets written to: data/models/cnn-potassium-2023-10-30_16-10-14/assets\n"
     ]
    },
    {
     "name": "stdout",
     "output_type": "stream",
     "text": [
      "4248/4248 [==============================] - 388s 87ms/step - loss: 1.2119 - mse: 1.2119 - mae: 0.8056 - val_loss: 0.8290 - val_mse: 0.8290 - val_mae: 0.6452 - lr: 0.0010\n",
      "Epoch 2/10\n",
      "4247/4248 [============================>.] - ETA: 0s - loss: 0.6400 - mse: 0.6400 - mae: 0.5713INFO:tensorflow:Assets written to: data/models/cnn-potassium-2023-10-30_16-10-14/assets\n"
     ]
    },
    {
     "name": "stderr",
     "output_type": "stream",
     "text": [
      "INFO:tensorflow:Assets written to: data/models/cnn-potassium-2023-10-30_16-10-14/assets\n"
     ]
    },
    {
     "name": "stdout",
     "output_type": "stream",
     "text": [
      "4248/4248 [==============================] - 359s 84ms/step - loss: 0.6400 - mse: 0.6400 - mae: 0.5712 - val_loss: 0.5082 - val_mse: 0.5082 - val_mae: 0.4922 - lr: 0.0010\n",
      "Epoch 3/10\n",
      "4248/4248 [==============================] - ETA: 0s - loss: 0.5308 - mse: 0.5308 - mae: 0.5048INFO:tensorflow:Assets written to: data/models/cnn-potassium-2023-10-30_16-10-14/assets\n"
     ]
    },
    {
     "name": "stderr",
     "output_type": "stream",
     "text": [
      "INFO:tensorflow:Assets written to: data/models/cnn-potassium-2023-10-30_16-10-14/assets\n"
     ]
    },
    {
     "name": "stdout",
     "output_type": "stream",
     "text": [
      "4248/4248 [==============================] - 356s 84ms/step - loss: 0.5308 - mse: 0.5308 - mae: 0.5048 - val_loss: 0.5224 - val_mse: 0.5224 - val_mae: 0.5015 - lr: 0.0010\n",
      "Epoch 4/10\n",
      "4248/4248 [==============================] - ETA: 0s - loss: 0.5028 - mse: 0.5028 - mae: 0.4879INFO:tensorflow:Assets written to: data/models/cnn-potassium-2023-10-30_16-10-14/assets\n"
     ]
    },
    {
     "name": "stderr",
     "output_type": "stream",
     "text": [
      "INFO:tensorflow:Assets written to: data/models/cnn-potassium-2023-10-30_16-10-14/assets\n"
     ]
    },
    {
     "name": "stdout",
     "output_type": "stream",
     "text": [
      "4248/4248 [==============================] - 355s 84ms/step - loss: 0.5028 - mse: 0.5028 - mae: 0.4879 - val_loss: 0.5090 - val_mse: 0.5090 - val_mae: 0.4752 - lr: 0.0010\n",
      "Epoch 5/10\n",
      "4248/4248 [==============================] - ETA: 0s - loss: 0.4959 - mse: 0.4959 - mae: 0.4844INFO:tensorflow:Assets written to: data/models/cnn-potassium-2023-10-30_16-10-14/assets\n"
     ]
    },
    {
     "name": "stderr",
     "output_type": "stream",
     "text": [
      "INFO:tensorflow:Assets written to: data/models/cnn-potassium-2023-10-30_16-10-14/assets\n"
     ]
    },
    {
     "name": "stdout",
     "output_type": "stream",
     "text": [
      "4248/4248 [==============================] - 356s 84ms/step - loss: 0.4959 - mse: 0.4959 - mae: 0.4844 - val_loss: 0.5044 - val_mse: 0.5044 - val_mae: 0.4760 - lr: 0.0010\n",
      "Epoch 6/10\n",
      "4247/4248 [============================>.] - ETA: 0s - loss: 0.4917 - mse: 0.4917 - mae: 0.4819INFO:tensorflow:Assets written to: data/models/cnn-potassium-2023-10-30_16-10-14/assets\n"
     ]
    },
    {
     "name": "stderr",
     "output_type": "stream",
     "text": [
      "INFO:tensorflow:Assets written to: data/models/cnn-potassium-2023-10-30_16-10-14/assets\n"
     ]
    },
    {
     "name": "stdout",
     "output_type": "stream",
     "text": [
      "4248/4248 [==============================] - 369s 87ms/step - loss: 0.4917 - mse: 0.4917 - mae: 0.4819 - val_loss: 0.5104 - val_mse: 0.5104 - val_mae: 0.4743 - lr: 0.0010\n",
      "Epoch 7/10\n",
      "4248/4248 [==============================] - ETA: 0s - loss: 0.4876 - mse: 0.4876 - mae: 0.4796INFO:tensorflow:Assets written to: data/models/cnn-potassium-2023-10-30_16-10-14/assets\n"
     ]
    },
    {
     "name": "stderr",
     "output_type": "stream",
     "text": [
      "INFO:tensorflow:Assets written to: data/models/cnn-potassium-2023-10-30_16-10-14/assets\n"
     ]
    },
    {
     "name": "stdout",
     "output_type": "stream",
     "text": [
      "4248/4248 [==============================] - 361s 85ms/step - loss: 0.4876 - mse: 0.4876 - mae: 0.4796 - val_loss: 0.4965 - val_mse: 0.4965 - val_mae: 0.4807 - lr: 0.0010\n",
      "Epoch 8/10\n",
      "4248/4248 [==============================] - ETA: 0s - loss: 0.4840 - mse: 0.4840 - mae: 0.4782INFO:tensorflow:Assets written to: data/models/cnn-potassium-2023-10-30_16-10-14/assets\n"
     ]
    },
    {
     "name": "stderr",
     "output_type": "stream",
     "text": [
      "INFO:tensorflow:Assets written to: data/models/cnn-potassium-2023-10-30_16-10-14/assets\n"
     ]
    },
    {
     "name": "stdout",
     "output_type": "stream",
     "text": [
      "4248/4248 [==============================] - 359s 84ms/step - loss: 0.4840 - mse: 0.4840 - mae: 0.4782 - val_loss: 0.4856 - val_mse: 0.4856 - val_mae: 0.4742 - lr: 0.0010\n",
      "Epoch 9/10\n",
      "4248/4248 [==============================] - ETA: 0s - loss: 0.4813 - mse: 0.4813 - mae: 0.4768INFO:tensorflow:Assets written to: data/models/cnn-potassium-2023-10-30_16-10-14/assets\n"
     ]
    },
    {
     "name": "stderr",
     "output_type": "stream",
     "text": [
      "INFO:tensorflow:Assets written to: data/models/cnn-potassium-2023-10-30_16-10-14/assets\n"
     ]
    },
    {
     "name": "stdout",
     "output_type": "stream",
     "text": [
      "4248/4248 [==============================] - 359s 84ms/step - loss: 0.4813 - mse: 0.4813 - mae: 0.4768 - val_loss: 0.5102 - val_mse: 0.5102 - val_mae: 0.4714 - lr: 0.0010\n",
      "Epoch 10/10\n",
      "4248/4248 [==============================] - ETA: 0s - loss: 0.4766 - mse: 0.4766 - mae: 0.4749INFO:tensorflow:Assets written to: data/models/cnn-potassium-2023-10-30_16-10-14/assets\n"
     ]
    },
    {
     "name": "stderr",
     "output_type": "stream",
     "text": [
      "INFO:tensorflow:Assets written to: data/models/cnn-potassium-2023-10-30_16-10-14/assets\n"
     ]
    },
    {
     "name": "stdout",
     "output_type": "stream",
     "text": [
      "4248/4248 [==============================] - 366s 86ms/step - loss: 0.4766 - mse: 0.4766 - mae: 0.4749 - val_loss: 0.5130 - val_mse: 0.5130 - val_mae: 0.4715 - lr: 0.0010\n"
     ]
    },
    {
     "data": {
      "text/plain": [
       "<keras.src.callbacks.History at 0x7fd9ac255ae0>"
      ]
     },
     "execution_count": 8,
     "metadata": {},
     "output_type": "execute_result"
    }
   ],
   "source": [
    "callbacks = [\n",
    "    tf.keras.callbacks.TerminateOnNaN(),\n",
    "    tf.keras.callbacks.ReduceLROnPlateau(),\n",
    "    tf.keras.callbacks.ModelCheckpoint(make_checkpoint_dir(\"data/models\", \"cnn-potassium\"))\n",
    "]\n",
    "\n",
    "model.fit(train_dataset, epochs=10, validation_data=val_dataset, callbacks=callbacks)"
   ]
  },
  {
   "cell_type": "code",
   "execution_count": 9,
   "metadata": {},
   "outputs": [],
   "source": [
    "model.save(\"data/models/cnn-potassium.keras\")"
   ]
  },
  {
   "cell_type": "code",
   "execution_count": null,
   "metadata": {},
   "outputs": [],
   "source": []
  }
 ],
 "metadata": {
  "kernelspec": {
   "display_name": "Tensorflow 2.13.0",
   "language": "python",
   "name": "tensorflow-2.13.0"
  },
  "language_info": {
   "codemirror_mode": {
    "name": "ipython",
    "version": 3
   },
   "file_extension": ".py",
   "mimetype": "text/x-python",
   "name": "python",
   "nbconvert_exporter": "python",
   "pygments_lexer": "ipython3",
   "version": "3.10.12"
  }
 },
 "nbformat": 4,
 "nbformat_minor": 4
}
