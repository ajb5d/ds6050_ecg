{
 "cells": [
  {
   "cell_type": "code",
   "execution_count": 1,
   "metadata": {},
   "outputs": [
    {
     "name": "stderr",
     "output_type": "stream",
     "text": [
      "2023-10-16 08:30:00.965912: I tensorflow/core/platform/cpu_feature_guard.cc:183] This TensorFlow binary is optimized to use available CPU instructions in performance-critical operations.\n",
      "To enable the following instructions: SSE3 SSE4.1 SSE4.2 AVX, in other operations, rebuild TensorFlow with the appropriate compiler flags.\n"
     ]
    }
   ],
   "source": [
    "import tensorflow as tf\n",
    "import numpy as np\n",
    "from pathlib import Path"
   ]
  },
  {
   "cell_type": "code",
   "execution_count": 2,
   "metadata": {},
   "outputs": [],
   "source": [
    "DATA_PATH = Path(\"/scratch/ajb5d/ecg/tfrecords/\")\n",
    "TRAIN_RECS = list(DATA_PATH.glob(\"train*.tfrecords\"))\n",
    "VAL_RECS = list(DATA_PATH.glob(\"train*.tfrecords\"))"
   ]
  },
  {
   "cell_type": "code",
   "execution_count": 3,
   "metadata": {},
   "outputs": [],
   "source": [
    "BATCH_SIZE = 128\n",
    "\n",
    "record_format = {\n",
    "    'ecg/data': tf.io.FixedLenSequenceFeature([], tf.float32, allow_missing=True),\n",
    "    'age': tf.io.FixedLenFeature([], tf.float32),\n",
    "    'gender': tf.io.FixedLenFeature([], tf.int64),\n",
    "}\n",
    "\n",
    "def _parse_record(record):\n",
    "    example = tf.io.parse_single_example(record, record_format)\n",
    "    ecg_data = tf.reshape(example['ecg/data'], [5000,12])\n",
    "    # label = (example['age'] - 50) / 100\n",
    "    label = example['gender']\n",
    "    return ecg_data[:,1], label\n",
    "\n",
    "def load_dataset(filenames):\n",
    "    ignore_order = tf.data.Options()\n",
    "    ignore_order.experimental_deterministic = False\n",
    "    dataset = tf.data.TFRecordDataset(filenames)\n",
    "    dataset = dataset.with_options(ignore_order)\n",
    "    dataset = dataset.map(_parse_record, num_parallel_calls=tf.data.AUTOTUNE)\n",
    "    return dataset\n",
    "\n",
    "def get_dataset(filenames, labeled=True):\n",
    "    dataset = load_dataset(filenames)\n",
    "    dataset = dataset.shuffle(2048)\n",
    "    dataset = dataset.prefetch(buffer_size=tf.data.AUTOTUNE)\n",
    "    dataset = dataset.batch(BATCH_SIZE)\n",
    "    return dataset"
   ]
  },
  {
   "cell_type": "code",
   "execution_count": 4,
   "metadata": {},
   "outputs": [
    {
     "name": "stderr",
     "output_type": "stream",
     "text": [
      "2023-10-16 08:30:05.703487: I tensorflow/core/common_runtime/gpu/gpu_device.cc:1636] Created device /job:localhost/replica:0/task:0/device:GPU:0 with 46594 MB memory:  -> device: 0, name: NVIDIA RTX A6000, pci bus id: 0000:81:00.0, compute capability: 8.6\n"
     ]
    }
   ],
   "source": [
    "train_dataset = get_dataset(TRAIN_RECS)\n",
    "val_dataset = get_dataset(VAL_RECS)"
   ]
  },
  {
   "cell_type": "code",
   "execution_count": 9,
   "metadata": {},
   "outputs": [],
   "source": [
    "def conv_block(x, n, k, mp):\n",
    "    x = tf.keras.layers.Conv1D(n, k, padding='same')(x)\n",
    "    x = tf.keras.layers.BatchNormalization()(x)\n",
    "    x = tf.keras.layers.Activation('relu')(x)\n",
    "    if mp:\n",
    "        x = tf.keras.layers.MaxPooling1D()(x)\n",
    "\n",
    "    return x\n",
    "\n",
    "kernel_initializer = 'he_normal'\n",
    "input_layer = tf.keras.layers.Input(shape=(5000))\n",
    "x = input_layer\n",
    "x = tf.keras.layers.Reshape((5000, 1))(x)\n",
    "\n",
    "x = conv_block(x, 16, 7, 2)\n",
    "x = conv_block(x, 16, 5, 4)\n",
    "x = conv_block(x, 32, 5, 2)\n",
    "x = conv_block(x, 32, 5, 4)\n",
    "x = conv_block(x, 64, 5, 2)\n",
    "x = conv_block(x, 64, 3, 2)\n",
    "x = conv_block(x, 64, 3, 2)\n",
    "x = conv_block(x, 64, 3, 2)\n",
    "\n",
    "x = tf.keras.layers.Flatten()(x)\n",
    "x = tf.keras.layers.Dense(128)(x)\n",
    "x = tf.keras.layers.BatchNormalization()(x)\n",
    "x = tf.keras.layers.Activation('relu')(x)\n",
    "x = tf.keras.layers.Dropout(0.5)(x)\n",
    "x = tf.keras.layers.Dense(64)(x)\n",
    "x = tf.keras.layers.BatchNormalization()(x)\n",
    "x = tf.keras.layers.Activation('relu')(x)\n",
    "x = tf.keras.layers.Dropout(0.5)(x)\n",
    "x = tf.keras.layers.Dense(1, activation='sigmoid')(x)\n",
    "\n",
    "model = tf.keras.models.Model(input_layer, x)\n",
    "\n",
    "model.compile(\n",
    "    optimizer=tf.keras.optimizers.legacy.Adam(learning_rate=0.001),\n",
    "    loss=tf.keras.losses.BinaryCrossentropy(),\n",
    "    metrics=['accuracy', tf.keras.metrics.AUC()]\n",
    ")"
   ]
  },
  {
   "cell_type": "code",
   "execution_count": 10,
   "metadata": {},
   "outputs": [
    {
     "name": "stdout",
     "output_type": "stream",
     "text": [
      "Epoch 1/20\n"
     ]
    },
    {
     "name": "stderr",
     "output_type": "stream",
     "text": [
      "2023-10-16 08:31:04.696714: I tensorflow/compiler/xla/stream_executor/cuda/cuda_dnn.cc:432] Loaded cuDNN version 8904\n",
      "2023-10-16 08:31:05.498067: I tensorflow/compiler/xla/stream_executor/cuda/cuda_blas.cc:625] TensorFloat-32 will be used for the matrix multiplication. This will only be logged once.\n"
     ]
    },
    {
     "name": "stdout",
     "output_type": "stream",
     "text": [
      "321/321 [==============================] - 27s 69ms/step - loss: 0.6628 - accuracy: 0.6325 - auc: 0.6841 - val_loss: 0.6907 - val_accuracy: 0.6209 - val_auc: 0.7392\n",
      "Epoch 2/20\n",
      "321/321 [==============================] - 21s 65ms/step - loss: 0.5577 - accuracy: 0.7136 - auc: 0.7878 - val_loss: 0.6603 - val_accuracy: 0.6693 - val_auc: 0.7803\n",
      "Epoch 3/20\n",
      "321/321 [==============================] - 21s 64ms/step - loss: 0.5257 - accuracy: 0.7382 - auc: 0.8165 - val_loss: 0.6211 - val_accuracy: 0.6604 - val_auc: 0.7997\n",
      "Epoch 4/20\n",
      "321/321 [==============================] - 21s 64ms/step - loss: 0.5039 - accuracy: 0.7538 - auc: 0.8338 - val_loss: 0.6826 - val_accuracy: 0.6087 - val_auc: 0.8033\n",
      "Epoch 5/20\n",
      "321/321 [==============================] - 21s 64ms/step - loss: 0.4874 - accuracy: 0.7666 - auc: 0.8463 - val_loss: 0.9176 - val_accuracy: 0.5546 - val_auc: 0.7760\n",
      "Epoch 6/20\n",
      "321/321 [==============================] - 21s 64ms/step - loss: 0.4726 - accuracy: 0.7729 - auc: 0.8558 - val_loss: 0.6045 - val_accuracy: 0.6725 - val_auc: 0.8446\n",
      "Epoch 7/20\n",
      "321/321 [==============================] - 21s 64ms/step - loss: 0.4596 - accuracy: 0.7842 - auc: 0.8651 - val_loss: 0.6178 - val_accuracy: 0.6389 - val_auc: 0.8124\n",
      "Epoch 8/20\n",
      "321/321 [==============================] - 21s 64ms/step - loss: 0.4365 - accuracy: 0.7974 - auc: 0.8794 - val_loss: 0.6088 - val_accuracy: 0.6814 - val_auc: 0.8528\n",
      "Epoch 9/20\n",
      "321/321 [==============================] - 17s 51ms/step - loss: 0.4243 - accuracy: 0.8069 - auc: 0.8869 - val_loss: 1.0227 - val_accuracy: 0.5644 - val_auc: 0.8250\n",
      "Epoch 10/20\n",
      "321/321 [==============================] - 21s 64ms/step - loss: 0.4054 - accuracy: 0.8148 - auc: 0.8972 - val_loss: 0.4434 - val_accuracy: 0.7898 - val_auc: 0.8832\n",
      "Epoch 11/20\n",
      "321/321 [==============================] - 21s 64ms/step - loss: 0.3838 - accuracy: 0.8269 - auc: 0.9088 - val_loss: 0.4730 - val_accuracy: 0.7647 - val_auc: 0.8898\n",
      "Epoch 12/20\n",
      "321/321 [==============================] - 17s 51ms/step - loss: 0.3672 - accuracy: 0.8372 - auc: 0.9167 - val_loss: 0.3937 - val_accuracy: 0.8188 - val_auc: 0.9031\n",
      "Epoch 13/20\n",
      "321/321 [==============================] - 21s 64ms/step - loss: 0.3454 - accuracy: 0.8487 - auc: 0.9267 - val_loss: 0.8109 - val_accuracy: 0.6711 - val_auc: 0.8650\n",
      "Epoch 14/20\n",
      "321/321 [==============================] - 21s 64ms/step - loss: 0.3261 - accuracy: 0.8591 - auc: 0.9349 - val_loss: 0.3788 - val_accuracy: 0.8280 - val_auc: 0.9110\n",
      "Epoch 15/20\n",
      "321/321 [==============================] - 21s 64ms/step - loss: 0.3031 - accuracy: 0.8715 - auc: 0.9441 - val_loss: 0.4621 - val_accuracy: 0.7819 - val_auc: 0.9172\n",
      "Epoch 16/20\n",
      "321/321 [==============================] - 21s 64ms/step - loss: 0.2760 - accuracy: 0.8822 - auc: 0.9535 - val_loss: 0.3626 - val_accuracy: 0.8389 - val_auc: 0.9331\n",
      "Epoch 17/20\n",
      "321/321 [==============================] - 21s 64ms/step - loss: 0.2596 - accuracy: 0.8918 - auc: 0.9589 - val_loss: 0.4553 - val_accuracy: 0.8069 - val_auc: 0.9305\n",
      "Epoch 18/20\n",
      "321/321 [==============================] - 21s 64ms/step - loss: 0.2423 - accuracy: 0.8998 - auc: 0.9641 - val_loss: 0.3678 - val_accuracy: 0.8410 - val_auc: 0.9420\n",
      "Epoch 19/20\n",
      "321/321 [==============================] - 21s 64ms/step - loss: 0.2269 - accuracy: 0.9078 - auc: 0.9686 - val_loss: 0.3709 - val_accuracy: 0.8413 - val_auc: 0.9445\n",
      "Epoch 20/20\n",
      "321/321 [==============================] - 21s 64ms/step - loss: 0.2046 - accuracy: 0.9173 - auc: 0.9743 - val_loss: 0.4688 - val_accuracy: 0.8190 - val_auc: 0.9436\n"
     ]
    },
    {
     "data": {
      "text/plain": [
       "<keras.src.callbacks.History at 0x7fa7022a24d0>"
      ]
     },
     "execution_count": 10,
     "metadata": {},
     "output_type": "execute_result"
    }
   ],
   "source": [
    "callbacks = [\n",
    "    tf.keras.callbacks.TerminateOnNaN(),\n",
    "]\n",
    "\n",
    "model.fit(train_dataset, epochs=20, validation_data=val_dataset, callbacks=callbacks)"
   ]
  },
  {
   "cell_type": "code",
   "execution_count": null,
   "metadata": {},
   "outputs": [],
   "source": []
  }
 ],
 "metadata": {
  "kernelspec": {
   "display_name": "Tensorflow 2.13.0",
   "language": "python",
   "name": "tensorflow-2.13.0"
  },
  "language_info": {
   "codemirror_mode": {
    "name": "ipython",
    "version": 3
   },
   "file_extension": ".py",
   "mimetype": "text/x-python",
   "name": "python",
   "nbconvert_exporter": "python",
   "pygments_lexer": "ipython3",
   "version": "3.10.12"
  }
 },
 "nbformat": 4,
 "nbformat_minor": 4
}
