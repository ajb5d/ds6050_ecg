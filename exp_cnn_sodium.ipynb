{
 "cells": [
  {
   "cell_type": "code",
   "execution_count": 5,
   "metadata": {},
   "outputs": [],
   "source": [
    "import tensorflow as tf\n",
    "import numpy as np\n",
    "from pathlib import Path"
   ]
  },
  {
   "cell_type": "code",
   "execution_count": 6,
   "metadata": {},
   "outputs": [],
   "source": [
    "DATA_PATH = Path(\"/scratch/ajb5d/ecg/tfrecords/\")\n",
    "TRAIN_RECS = list(DATA_PATH.glob(\"train*.tfrecords\"))\n",
    "VAL_RECS = list(DATA_PATH.glob(\"val*.tfrecords\"))"
   ]
  },
  {
   "cell_type": "code",
   "execution_count": 7,
   "metadata": {},
   "outputs": [],
   "source": [
    "BATCH_SIZE = 64\n",
    "\n",
    "record_format = {\n",
    "    'ecg/data': tf.io.FixedLenSequenceFeature([], tf.float32, allow_missing=True),\n",
    "    'age': tf.io.FixedLenFeature([], tf.float32),\n",
    "    'sodium': tf.io.FixedLenFeature([], tf.float32),\n",
    "}\n",
    "\n",
    "def _parse_record(record):\n",
    "    example = tf.io.parse_single_example(record, record_format)\n",
    "    ecg_data = tf.reshape(example['ecg/data'], [5000,12])\n",
    "    label = example['sodium']\n",
    "    return ecg_data, label\n",
    "\n",
    "def drop_na_ages(x,y):\n",
    "    return not tf.math.reduce_any(tf.math.is_nan(y))\n",
    "\n",
    "def load_dataset(filenames):\n",
    "    ignore_order = tf.data.Options()\n",
    "    ignore_order.experimental_deterministic = False\n",
    "    dataset = tf.data.TFRecordDataset(filenames)\n",
    "    dataset = dataset.with_options(ignore_order)\n",
    "    dataset = dataset.map(_parse_record, num_parallel_calls=tf.data.AUTOTUNE)\n",
    "    dataset = dataset.filter(drop_na_ages)\n",
    "    return dataset\n",
    "\n",
    "def get_dataset(filenames, labeled=True):\n",
    "    dataset = load_dataset(filenames)\n",
    "    dataset = dataset.shuffle(2048)\n",
    "    dataset = dataset.prefetch(buffer_size=tf.data.AUTOTUNE)\n",
    "    dataset = dataset.batch(BATCH_SIZE)\n",
    "    return dataset"
   ]
  },
  {
   "cell_type": "code",
   "execution_count": 8,
   "metadata": {},
   "outputs": [],
   "source": [
    "train_dataset = get_dataset(TRAIN_RECS)\n",
    "val_dataset = get_dataset(VAL_RECS)"
   ]
  },
  {
   "cell_type": "code",
   "execution_count": 9,
   "metadata": {},
   "outputs": [],
   "source": [
    "# tf.keras.mixed_precision.set_global_policy('mixed_float16')"
   ]
  },
  {
   "cell_type": "code",
   "execution_count": 10,
   "metadata": {},
   "outputs": [],
   "source": [
    "def conv_block(x, n, k, mp, groups = 12):\n",
    "    x = tf.keras.layers.Conv1D(n * groups, k, padding='same', groups = groups)(x)\n",
    "    x = tf.keras.layers.BatchNormalization()(x)\n",
    "    x = tf.keras.layers.Activation('relu')(x)\n",
    "    if mp:\n",
    "        x = tf.keras.layers.MaxPooling1D(mp)(x)\n",
    "\n",
    "    return x\n",
    "\n",
    "input_layer = tf.keras.layers.Input(shape=(5000, 12))\n",
    "x = input_layer\n",
    "\n",
    "x = conv_block(x, 16, 7, 2)\n",
    "x = conv_block(x, 16, 5, 4)\n",
    "x = conv_block(x, 32, 5, 2)\n",
    "x = conv_block(x, 32, 5, 4)\n",
    "x = conv_block(x, 64, 5, 2)\n",
    "x = conv_block(x, 64, 3, 2)\n",
    "x = conv_block(x, 64, 3, 2)\n",
    "x = conv_block(x, 64, 3, 2)\n",
    "\n",
    "x = tf.keras.layers.Conv1D(128, 12, padding = 'same', data_format = 'channels_first')(x)\n",
    "x = tf.keras.layers.BatchNormalization()(x)\n",
    "x = tf.keras.layers.Activation('relu')(x)\n",
    "x = tf.keras.layers.MaxPooling1D()(x)\n",
    "\n",
    "x = tf.keras.layers.Flatten()(x)\n",
    "x = tf.keras.layers.Dense(128)(x)\n",
    "x = tf.keras.layers.BatchNormalization()(x)\n",
    "x = tf.keras.layers.Activation('relu')(x)\n",
    "x = tf.keras.layers.Dropout(0.5)(x)\n",
    "x = tf.keras.layers.Dense(64)(x)\n",
    "x = tf.keras.layers.BatchNormalization()(x)\n",
    "x = tf.keras.layers.Activation('relu')(x)\n",
    "x = tf.keras.layers.Dropout(0.5)(x)\n",
    "x = tf.keras.layers.Dense(1)(x)\n",
    "\n",
    "model = tf.keras.models.Model(input_layer, x)\n",
    "\n",
    "model.compile(\n",
    "    optimizer='adam',\n",
    "    loss=tf.keras.losses.MeanSquaredError(),\n",
    "    metrics=['mse', 'mae']\n",
    ")"
   ]
  },
  {
   "cell_type": "code",
   "execution_count": 11,
   "metadata": {},
   "outputs": [],
   "source": [
    "from datetime import datetime\n",
    "import os\n",
    "\n",
    "def make_checkpoint_dir(data_path, label):\n",
    "    current_datetime = datetime.now()\n",
    "    formatted_datetime = current_datetime.strftime(\"%Y-%m-%d_%H-%M-%S\")\n",
    "    output_dir = f\"{label}-{formatted_datetime}\"\n",
    "    output_path = f\"{data_path}/{output_dir}\"\n",
    "    \n",
    "    if not os.path.exists(output_path):\n",
    "        os.makedirs(output_path)\n",
    "    \n",
    "    return output_path\n",
    "\n",
    "model_name = \"cnn-potassium\"\n",
    "output_path = make_checkpoint_dir(\"data/models\", model_name)\n",
    "\n",
    "print(f\"Model: {model_name} Run Path: {output_path}\")"
   ]
  },
  {
   "cell_type": "code",
   "execution_count": null,
   "metadata": {},
   "outputs": [
    {
     "name": "stdout",
     "output_type": "stream",
     "text": [
      "Epoch 1/10\n"
     ]
    },
    {
     "name": "stderr",
     "output_type": "stream",
     "text": [
      "2023-10-31 09:19:02.179085: I tensorflow/compiler/xla/service/service.cc:168] XLA service 0x56180db14dc0 initialized for platform CUDA (this does not guarantee that XLA will be used). Devices:\n",
      "2023-10-31 09:19:02.179144: I tensorflow/compiler/xla/service/service.cc:176]   StreamExecutor device (0): NVIDIA A100-SXM4-40GB, Compute Capability 8.0\n",
      "2023-10-31 09:19:02.306179: I tensorflow/compiler/xla/stream_executor/cuda/cuda_dnn.cc:432] Loaded cuDNN version 8904\n",
      "2023-10-31 09:19:03.550261: I ./tensorflow/compiler/jit/device_compiler.h:186] Compiled cluster using XLA!  This line is logged at most once for the lifetime of the process.\n",
      "2023-10-31 09:19:05.184999: I tensorflow/compiler/xla/stream_executor/cuda/cuda_blas.cc:625] TensorFloat-32 will be used for the matrix multiplication. This will only be logged once.\n",
      "2023-10-31 09:19:05.367601: I tensorflow/compiler/mlir/tensorflow/utils/dump_mlir_util.cc:255] disabling MLIR crash reproducer, set env var `MLIR_CRASH_REPRODUCER_DIRECTORY` to enable.\n"
     ]
    },
    {
     "name": "stdout",
     "output_type": "stream",
     "text": [
      "   4212/Unknown - 368s 83ms/step - loss: 2837.2769 - mse: 2837.2769 - mae: 35.5184"
     ]
    },
    {
     "name": "stderr",
     "output_type": "stream",
     "text": [
      "2023-10-31 09:25:05.414175: I tensorflow/core/framework/local_rendezvous.cc:405] Local rendezvous recv item cancelled. Key hash: 18421638274924574341\n"
     ]
    },
    {
     "name": "stdout",
     "output_type": "stream",
     "text": [
      "INFO:tensorflow:Assets written to: data/models/cnn-potassium-2023-10-31_09-18-57/assets\n"
     ]
    },
    {
     "name": "stderr",
     "output_type": "stream",
     "text": [
      "INFO:tensorflow:Assets written to: data/models/cnn-potassium-2023-10-31_09-18-57/assets\n"
     ]
    },
    {
     "name": "stdout",
     "output_type": "stream",
     "text": [
      "4212/4212 [==============================] - 392s 88ms/step - loss: 2837.2769 - mse: 2837.2769 - mae: 35.5184 - val_loss: 45.4926 - val_mse: 45.4926 - val_mae: 5.5072 - lr: 0.0010\n",
      "Epoch 2/10\n",
      "4211/4212 [============================>.] - ETA: 0s - loss: 369.9953 - mse: 369.9953 - mae: 15.2162INFO:tensorflow:Assets written to: data/models/cnn-potassium-2023-10-31_09-18-57/assets\n"
     ]
    },
    {
     "name": "stderr",
     "output_type": "stream",
     "text": [
      "INFO:tensorflow:Assets written to: data/models/cnn-potassium-2023-10-31_09-18-57/assets\n"
     ]
    },
    {
     "name": "stdout",
     "output_type": "stream",
     "text": [
      "4212/4212 [==============================] - 368s 87ms/step - loss: 370.0524 - mse: 370.0524 - mae: 15.2170 - val_loss: 204.4138 - val_mse: 204.4138 - val_mae: 9.6792 - lr: 0.0010\n",
      "Epoch 3/10\n",
      "4211/4212 [============================>.] - ETA: 0s - loss: 334.3490 - mse: 334.3490 - mae: 14.5007INFO:tensorflow:Assets written to: data/models/cnn-potassium-2023-10-31_09-18-57/assets\n"
     ]
    },
    {
     "name": "stderr",
     "output_type": "stream",
     "text": [
      "INFO:tensorflow:Assets written to: data/models/cnn-potassium-2023-10-31_09-18-57/assets\n"
     ]
    },
    {
     "name": "stdout",
     "output_type": "stream",
     "text": [
      "4212/4212 [==============================] - 364s 86ms/step - loss: 334.3640 - mse: 334.3640 - mae: 14.5010 - val_loss: 57.2814 - val_mse: 57.2814 - val_mae: 6.5290 - lr: 0.0010\n",
      "Epoch 4/10\n",
      "4211/4212 [============================>.] - ETA: 0s - loss: 313.8308 - mse: 313.8308 - mae: 14.0560INFO:tensorflow:Assets written to: data/models/cnn-potassium-2023-10-31_09-18-57/assets\n"
     ]
    },
    {
     "name": "stderr",
     "output_type": "stream",
     "text": [
      "INFO:tensorflow:Assets written to: data/models/cnn-potassium-2023-10-31_09-18-57/assets\n"
     ]
    },
    {
     "name": "stdout",
     "output_type": "stream",
     "text": [
      "4212/4212 [==============================] - 363s 86ms/step - loss: 313.8453 - mse: 313.8453 - mae: 14.0563 - val_loss: 294.0240 - val_mse: 294.0240 - val_mae: 8.5854 - lr: 0.0010\n",
      "Epoch 5/10\n",
      "4211/4212 [============================>.] - ETA: 0s - loss: 298.5791 - mse: 298.5791 - mae: 13.7233INFO:tensorflow:Assets written to: data/models/cnn-potassium-2023-10-31_09-18-57/assets\n"
     ]
    },
    {
     "name": "stderr",
     "output_type": "stream",
     "text": [
      "INFO:tensorflow:Assets written to: data/models/cnn-potassium-2023-10-31_09-18-57/assets\n"
     ]
    },
    {
     "name": "stdout",
     "output_type": "stream",
     "text": [
      "4212/4212 [==============================] - 366s 87ms/step - loss: 298.5815 - mse: 298.5815 - mae: 13.7234 - val_loss: 60.3682 - val_mse: 60.3682 - val_mae: 4.2268 - lr: 0.0010\n",
      "Epoch 6/10\n",
      "4211/4212 [============================>.] - ETA: 0s - loss: 282.8687 - mse: 282.8687 - mae: 13.3678INFO:tensorflow:Assets written to: data/models/cnn-potassium-2023-10-31_09-18-57/assets\n"
     ]
    },
    {
     "name": "stderr",
     "output_type": "stream",
     "text": [
      "INFO:tensorflow:Assets written to: data/models/cnn-potassium-2023-10-31_09-18-57/assets\n"
     ]
    },
    {
     "name": "stdout",
     "output_type": "stream",
     "text": [
      "4212/4212 [==============================] - 364s 86ms/step - loss: 282.8831 - mse: 282.8831 - mae: 13.3680 - val_loss: 27.5736 - val_mse: 27.5736 - val_mae: 3.7208 - lr: 0.0010\n",
      "Epoch 7/10\n",
      "4211/4212 [============================>.] - ETA: 0s - loss: 266.1040 - mse: 266.1040 - mae: 12.9700INFO:tensorflow:Assets written to: data/models/cnn-potassium-2023-10-31_09-18-57/assets\n"
     ]
    },
    {
     "name": "stderr",
     "output_type": "stream",
     "text": [
      "INFO:tensorflow:Assets written to: data/models/cnn-potassium-2023-10-31_09-18-57/assets\n"
     ]
    },
    {
     "name": "stdout",
     "output_type": "stream",
     "text": [
      "4212/4212 [==============================] - 364s 86ms/step - loss: 266.1084 - mse: 266.1084 - mae: 12.9701 - val_loss: 47.0628 - val_mse: 47.0628 - val_mae: 4.2473 - lr: 0.0010\n",
      "Epoch 8/10\n",
      "4211/4212 [============================>.] - ETA: 0s - loss: 248.7193 - mse: 248.7193 - mae: 12.5618INFO:tensorflow:Assets written to: data/models/cnn-potassium-2023-10-31_09-18-57/assets\n"
     ]
    },
    {
     "name": "stderr",
     "output_type": "stream",
     "text": [
      "INFO:tensorflow:Assets written to: data/models/cnn-potassium-2023-10-31_09-18-57/assets\n"
     ]
    },
    {
     "name": "stdout",
     "output_type": "stream",
     "text": [
      "4212/4212 [==============================] - 368s 87ms/step - loss: 248.7204 - mse: 248.7204 - mae: 12.5618 - val_loss: 97.5744 - val_mse: 97.5744 - val_mae: 4.6080 - lr: 0.0010\n",
      "Epoch 9/10\n",
      "4211/4212 [============================>.] - ETA: 0s - loss: 235.1552 - mse: 235.1552 - mae: 12.2347INFO:tensorflow:Assets written to: data/models/cnn-potassium-2023-10-31_09-18-57/assets\n"
     ]
    },
    {
     "name": "stderr",
     "output_type": "stream",
     "text": [
      "INFO:tensorflow:Assets written to: data/models/cnn-potassium-2023-10-31_09-18-57/assets\n"
     ]
    },
    {
     "name": "stdout",
     "output_type": "stream",
     "text": [
      "4212/4212 [==============================] - 365s 86ms/step - loss: 235.1511 - mse: 235.1511 - mae: 12.2346 - val_loss: 90.3255 - val_mse: 90.3255 - val_mae: 4.3296 - lr: 0.0010\n",
      "Epoch 10/10\n",
      "3923/4212 [==========================>...] - ETA: 23s - loss: 223.4917 - mse: 223.4917 - mae: 11.9291"
     ]
    }
   ],
   "source": [
    "callbacks = [\n",
    "    tf.keras.callbacks.TerminateOnNaN(),\n",
    "    tf.keras.callbacks.ReduceLROnPlateau(),\n",
    "    tf.keras.callbacks.ModelCheckpoint(output_path, save_best=True),\n",
    "    tf.keras.callbacks.CSVLogger(f\"data/models/{model_name}-history.csv\")\n",
    "]\n",
    "\n",
    "history = model.fit(train_dataset, epochs=50, validation_data=val_dataset, callbacks=callbacks)"
   ]
  },
  {
   "cell_type": "code",
   "execution_count": null,
   "metadata": {},
   "outputs": [],
   "source": [
    "model.save(f\"data/models/{model_name}.keras\")"
   ]
  },
  {
   "cell_type": "code",
   "execution_count": null,
   "metadata": {},
   "outputs": [],
   "source": []
  }
 ],
 "metadata": {
  "kernelspec": {
   "display_name": "Tensorflow 2.13.0",
   "language": "python",
   "name": "tensorflow-2.13.0"
  },
  "language_info": {
   "codemirror_mode": {
    "name": "ipython",
    "version": 3
   },
   "file_extension": ".py",
   "mimetype": "text/x-python",
   "name": "python",
   "nbconvert_exporter": "python",
   "pygments_lexer": "ipython3",
   "version": "3.10.12"
  }
 },
 "nbformat": 4,
 "nbformat_minor": 4
}
