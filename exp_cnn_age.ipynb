{
 "cells": [
  {
   "cell_type": "code",
   "execution_count": 1,
   "metadata": {},
   "outputs": [
    {
     "name": "stderr",
     "output_type": "stream",
     "text": [
      "2023-10-17 11:02:12.481261: I tensorflow/core/platform/cpu_feature_guard.cc:183] This TensorFlow binary is optimized to use available CPU instructions in performance-critical operations.\n",
      "To enable the following instructions: SSE3 SSE4.1 SSE4.2 AVX, in other operations, rebuild TensorFlow with the appropriate compiler flags.\n"
     ]
    }
   ],
   "source": [
    "import tensorflow as tf\n",
    "import numpy as np\n",
    "from pathlib import Path"
   ]
  },
  {
   "cell_type": "code",
   "execution_count": 2,
   "metadata": {},
   "outputs": [],
   "source": [
    "DATA_PATH = Path(\"/scratch/ajb5d/ecg/tfrecords/\")\n",
    "TRAIN_RECS = list(DATA_PATH.glob(\"train*.tfrecords\"))\n",
    "VAL_RECS = list(DATA_PATH.glob(\"train*.tfrecords\"))"
   ]
  },
  {
   "cell_type": "code",
   "execution_count": 3,
   "metadata": {},
   "outputs": [],
   "source": [
    "BATCH_SIZE = 64\n",
    "\n",
    "record_format = {\n",
    "    'ecg/data': tf.io.FixedLenSequenceFeature([], tf.float32, allow_missing=True),\n",
    "    'age': tf.io.FixedLenFeature([], tf.float32),\n",
    "    'gender': tf.io.FixedLenFeature([], tf.int64),\n",
    "}\n",
    "\n",
    "def _parse_record(record):\n",
    "    example = tf.io.parse_single_example(record, record_format)\n",
    "    ecg_data = tf.reshape(example['ecg/data'], [5000,12])\n",
    "    label = example['age']\n",
    "    return ecg_data, label\n",
    "\n",
    "def drop_na_ages(x,y):\n",
    "    return not tf.math.reduce_any(tf.math.is_nan(y))\n",
    "\n",
    "def age_lt_90(x,y):\n",
    "    return tf.math.reduce_all(tf.math.less_equal(y, tf.constant([90.0])))\n",
    "\n",
    "def load_dataset(filenames):\n",
    "    ignore_order = tf.data.Options()\n",
    "    ignore_order.experimental_deterministic = False\n",
    "    dataset = tf.data.TFRecordDataset(filenames)\n",
    "    dataset = dataset.with_options(ignore_order)\n",
    "    dataset = dataset.map(_parse_record, num_parallel_calls=tf.data.AUTOTUNE)\n",
    "    dataset = dataset.filter(drop_na_ages)\n",
    "    dataset = dataset.filter(age_lt_90)\n",
    "    return dataset\n",
    "\n",
    "def get_dataset(filenames, labeled=True):\n",
    "    dataset = load_dataset(filenames)\n",
    "    dataset = dataset.shuffle(2048)\n",
    "    dataset = dataset.prefetch(buffer_size=tf.data.AUTOTUNE)\n",
    "    dataset = dataset.batch(BATCH_SIZE)\n",
    "    return dataset"
   ]
  },
  {
   "cell_type": "code",
   "execution_count": 4,
   "metadata": {},
   "outputs": [
    {
     "name": "stderr",
     "output_type": "stream",
     "text": [
      "2023-10-17 11:02:18.660518: I tensorflow/core/common_runtime/gpu/gpu_device.cc:1636] Created device /job:localhost/replica:0/task:0/device:GPU:0 with 46582 MB memory:  -> device: 0, name: NVIDIA RTX A6000, pci bus id: 0000:01:00.0, compute capability: 8.6\n"
     ]
    }
   ],
   "source": [
    "train_dataset = get_dataset(TRAIN_RECS)\n",
    "val_dataset = get_dataset(VAL_RECS)"
   ]
  },
  {
   "cell_type": "code",
   "execution_count": 5,
   "metadata": {},
   "outputs": [],
   "source": [
    "# tf.keras.mixed_precision.set_global_policy('mixed_float16')"
   ]
  },
  {
   "cell_type": "code",
   "execution_count": 6,
   "metadata": {},
   "outputs": [],
   "source": [
    "def conv_block(x, n, k, mp, groups = 12):\n",
    "    x = tf.keras.layers.Conv1D(n * groups, k, padding='same', groups = groups)(x)\n",
    "    x = tf.keras.layers.BatchNormalization()(x)\n",
    "    x = tf.keras.layers.Activation('relu')(x)\n",
    "    if mp:\n",
    "        x = tf.keras.layers.MaxPooling1D(mp)(x)\n",
    "\n",
    "    return x\n",
    "\n",
    "input_layer = tf.keras.layers.Input(shape=(5000, 12))\n",
    "x = input_layer\n",
    "\n",
    "x = conv_block(x, 16, 7, 2)\n",
    "x = conv_block(x, 16, 5, 4)\n",
    "x = conv_block(x, 32, 5, 2)\n",
    "x = conv_block(x, 32, 5, 4)\n",
    "x = conv_block(x, 64, 5, 2)\n",
    "x = conv_block(x, 64, 3, 2)\n",
    "x = conv_block(x, 64, 3, 2)\n",
    "x = conv_block(x, 64, 3, 2)\n",
    "\n",
    "x = tf.keras.layers.Conv1D(128, 12, padding = 'same', data_format = 'channels_first')(x)\n",
    "x = tf.keras.layers.BatchNormalization()(x)\n",
    "x = tf.keras.layers.Activation('relu')(x)\n",
    "x = tf.keras.layers.MaxPooling1D()(x)\n",
    "\n",
    "x = tf.keras.layers.Flatten()(x)\n",
    "x = tf.keras.layers.Dense(128)(x)\n",
    "x = tf.keras.layers.BatchNormalization()(x)\n",
    "x = tf.keras.layers.Activation('relu')(x)\n",
    "x = tf.keras.layers.Dropout(0.5)(x)\n",
    "x = tf.keras.layers.Dense(64)(x)\n",
    "x = tf.keras.layers.BatchNormalization()(x)\n",
    "x = tf.keras.layers.Activation('relu')(x)\n",
    "x = tf.keras.layers.Dropout(0.5)(x)\n",
    "x = tf.keras.layers.Dense(1)(x)\n",
    "\n",
    "model = tf.keras.models.Model(input_layer, x)\n",
    "\n",
    "model.compile(\n",
    "    optimizer='adam',\n",
    "    loss=tf.keras.losses.MeanSquaredError(),\n",
    "    metrics=['mse', 'mae']\n",
    ")"
   ]
  },
  {
   "cell_type": "code",
   "execution_count": 7,
   "metadata": {},
   "outputs": [],
   "source": [
    "from datetime import datetime\n",
    "import os\n",
    "\n",
    "def make_checkpoint_dir(data_path, label):\n",
    "    current_datetime = datetime.now()\n",
    "    formatted_datetime = current_datetime.strftime(\"%Y-%m-%d_%H-%M-%S\")\n",
    "    output_dir = f\"{label}-{formatted_datetime}\"\n",
    "    output_path = f\"{data_path}/{output_dir}\"\n",
    "    \n",
    "    if not os.path.exists(output_path):\n",
    "        os.makedirs(output_path)\n",
    "    \n",
    "    return output_path"
   ]
  },
  {
   "cell_type": "code",
   "execution_count": 8,
   "metadata": {},
   "outputs": [
    {
     "name": "stdout",
     "output_type": "stream",
     "text": [
      "Epoch 1/10\n"
     ]
    },
    {
     "name": "stderr",
     "output_type": "stream",
     "text": [
      "2023-10-17 11:02:24.836632: I tensorflow/compiler/xla/service/service.cc:168] XLA service 0x5585e4c656e0 initialized for platform CUDA (this does not guarantee that XLA will be used). Devices:\n",
      "2023-10-17 11:02:24.836684: I tensorflow/compiler/xla/service/service.cc:176]   StreamExecutor device (0): NVIDIA RTX A6000, Compute Capability 8.6\n",
      "2023-10-17 11:02:24.969510: I tensorflow/compiler/xla/stream_executor/cuda/cuda_dnn.cc:432] Loaded cuDNN version 8904\n",
      "2023-10-17 11:02:26.392739: I ./tensorflow/compiler/jit/device_compiler.h:186] Compiled cluster using XLA!  This line is logged at most once for the lifetime of the process.\n",
      "2023-10-17 11:02:28.656230: I tensorflow/compiler/xla/stream_executor/cuda/cuda_blas.cc:625] TensorFloat-32 will be used for the matrix multiplication. This will only be logged once.\n",
      "2023-10-17 11:02:28.894386: I tensorflow/compiler/mlir/tensorflow/utils/dump_mlir_util.cc:255] disabling MLIR crash reproducer, set env var `MLIR_CRASH_REPRODUCER_DIRECTORY` to enable.\n"
     ]
    },
    {
     "name": "stdout",
     "output_type": "stream",
     "text": [
      "   7479/Unknown - 773s 101ms/step - loss: 444.3855 - mse: 444.3855 - mae: 15.2362INFO:tensorflow:Assets written to: data/models/cnn-age-2023-10-17_11-02-20/assets\n"
     ]
    },
    {
     "name": "stderr",
     "output_type": "stream",
     "text": [
      "INFO:tensorflow:Assets written to: data/models/cnn-age-2023-10-17_11-02-20/assets\n"
     ]
    },
    {
     "name": "stdout",
     "output_type": "stream",
     "text": [
      "7479/7479 [==============================] - 907s 119ms/step - loss: 444.3855 - mse: 444.3855 - mae: 15.2362 - val_loss: 139.6660 - val_mse: 139.6660 - val_mae: 9.5143 - lr: 0.0010\n",
      "Epoch 2/10\n",
      "7479/7479 [==============================] - ETA: 0s - loss: 187.7240 - mse: 187.7240 - mae: 10.9002INFO:tensorflow:Assets written to: data/models/cnn-age-2023-10-17_11-02-20/assets\n"
     ]
    },
    {
     "name": "stderr",
     "output_type": "stream",
     "text": [
      "INFO:tensorflow:Assets written to: data/models/cnn-age-2023-10-17_11-02-20/assets\n"
     ]
    },
    {
     "name": "stdout",
     "output_type": "stream",
     "text": [
      "7479/7479 [==============================] - 883s 118ms/step - loss: 187.7240 - mse: 187.7240 - mae: 10.9002 - val_loss: 125.3647 - val_mse: 125.3647 - val_mae: 8.8738 - lr: 0.0010\n",
      "Epoch 3/10\n",
      "7479/7479 [==============================] - ETA: 0s - loss: 172.3625 - mse: 172.3625 - mae: 10.4493INFO:tensorflow:Assets written to: data/models/cnn-age-2023-10-17_11-02-20/assets\n"
     ]
    },
    {
     "name": "stderr",
     "output_type": "stream",
     "text": [
      "INFO:tensorflow:Assets written to: data/models/cnn-age-2023-10-17_11-02-20/assets\n"
     ]
    },
    {
     "name": "stdout",
     "output_type": "stream",
     "text": [
      "7479/7479 [==============================] - 881s 118ms/step - loss: 172.3625 - mse: 172.3625 - mae: 10.4493 - val_loss: 136.7909 - val_mse: 136.7909 - val_mae: 9.3655 - lr: 0.0010\n",
      "Epoch 4/10\n",
      "7479/7479 [==============================] - ETA: 0s - loss: 161.2479 - mse: 161.2479 - mae: 10.1119INFO:tensorflow:Assets written to: data/models/cnn-age-2023-10-17_11-02-20/assets\n"
     ]
    },
    {
     "name": "stderr",
     "output_type": "stream",
     "text": [
      "INFO:tensorflow:Assets written to: data/models/cnn-age-2023-10-17_11-02-20/assets\n"
     ]
    },
    {
     "name": "stdout",
     "output_type": "stream",
     "text": [
      "7479/7479 [==============================] - 880s 118ms/step - loss: 161.2479 - mse: 161.2479 - mae: 10.1119 - val_loss: 120.7360 - val_mse: 120.7360 - val_mae: 8.7760 - lr: 0.0010\n",
      "Epoch 5/10\n",
      "7479/7479 [==============================] - ETA: 0s - loss: 153.1761 - mse: 153.1761 - mae: 9.8434INFO:tensorflow:Assets written to: data/models/cnn-age-2023-10-17_11-02-20/assets\n"
     ]
    },
    {
     "name": "stderr",
     "output_type": "stream",
     "text": [
      "INFO:tensorflow:Assets written to: data/models/cnn-age-2023-10-17_11-02-20/assets\n"
     ]
    },
    {
     "name": "stdout",
     "output_type": "stream",
     "text": [
      "7479/7479 [==============================] - 884s 118ms/step - loss: 153.1761 - mse: 153.1761 - mae: 9.8434 - val_loss: 116.4041 - val_mse: 116.4041 - val_mae: 8.5090 - lr: 0.0010\n",
      "Epoch 6/10\n",
      "7479/7479 [==============================] - ETA: 0s - loss: 146.1331 - mse: 146.1331 - mae: 9.6149INFO:tensorflow:Assets written to: data/models/cnn-age-2023-10-17_11-02-20/assets\n"
     ]
    },
    {
     "name": "stderr",
     "output_type": "stream",
     "text": [
      "INFO:tensorflow:Assets written to: data/models/cnn-age-2023-10-17_11-02-20/assets\n"
     ]
    },
    {
     "name": "stdout",
     "output_type": "stream",
     "text": [
      "7479/7479 [==============================] - 882s 118ms/step - loss: 146.1331 - mse: 146.1331 - mae: 9.6149 - val_loss: 139.3971 - val_mse: 139.3971 - val_mae: 9.2000 - lr: 0.0010\n",
      "Epoch 7/10\n",
      "7479/7479 [==============================] - ETA: 0s - loss: 140.0184 - mse: 140.0184 - mae: 9.4032INFO:tensorflow:Assets written to: data/models/cnn-age-2023-10-17_11-02-20/assets\n"
     ]
    },
    {
     "name": "stderr",
     "output_type": "stream",
     "text": [
      "INFO:tensorflow:Assets written to: data/models/cnn-age-2023-10-17_11-02-20/assets\n"
     ]
    },
    {
     "name": "stdout",
     "output_type": "stream",
     "text": [
      "7479/7479 [==============================] - 880s 118ms/step - loss: 140.0184 - mse: 140.0184 - mae: 9.4032 - val_loss: 120.3941 - val_mse: 120.3941 - val_mae: 8.6499 - lr: 0.0010\n",
      "Epoch 8/10\n",
      "7479/7479 [==============================] - ETA: 0s - loss: 134.3425 - mse: 134.3425 - mae: 9.2107INFO:tensorflow:Assets written to: data/models/cnn-age-2023-10-17_11-02-20/assets\n"
     ]
    },
    {
     "name": "stderr",
     "output_type": "stream",
     "text": [
      "INFO:tensorflow:Assets written to: data/models/cnn-age-2023-10-17_11-02-20/assets\n"
     ]
    },
    {
     "name": "stdout",
     "output_type": "stream",
     "text": [
      "7479/7479 [==============================] - 881s 118ms/step - loss: 134.3425 - mse: 134.3425 - mae: 9.2107 - val_loss: 111.0324 - val_mse: 111.0324 - val_mae: 8.3506 - lr: 0.0010\n",
      "Epoch 9/10\n",
      "7479/7479 [==============================] - ETA: 0s - loss: 128.8280 - mse: 128.8280 - mae: 9.0186INFO:tensorflow:Assets written to: data/models/cnn-age-2023-10-17_11-02-20/assets\n"
     ]
    },
    {
     "name": "stderr",
     "output_type": "stream",
     "text": [
      "INFO:tensorflow:Assets written to: data/models/cnn-age-2023-10-17_11-02-20/assets\n"
     ]
    },
    {
     "name": "stdout",
     "output_type": "stream",
     "text": [
      "7479/7479 [==============================] - 880s 118ms/step - loss: 128.8280 - mse: 128.8280 - mae: 9.0186 - val_loss: 116.6657 - val_mse: 116.6657 - val_mae: 8.4377 - lr: 0.0010\n",
      "Epoch 10/10\n",
      "7479/7479 [==============================] - ETA: 0s - loss: 123.7718 - mse: 123.7718 - mae: 8.8392INFO:tensorflow:Assets written to: data/models/cnn-age-2023-10-17_11-02-20/assets\n"
     ]
    },
    {
     "name": "stderr",
     "output_type": "stream",
     "text": [
      "INFO:tensorflow:Assets written to: data/models/cnn-age-2023-10-17_11-02-20/assets\n"
     ]
    },
    {
     "name": "stdout",
     "output_type": "stream",
     "text": [
      "7479/7479 [==============================] - 885s 118ms/step - loss: 123.7718 - mse: 123.7718 - mae: 8.8392 - val_loss: 124.8845 - val_mse: 124.8845 - val_mae: 8.7287 - lr: 0.0010\n"
     ]
    },
    {
     "data": {
      "text/plain": [
       "<keras.src.callbacks.History at 0x7efe0042c820>"
      ]
     },
     "execution_count": 8,
     "metadata": {},
     "output_type": "execute_result"
    }
   ],
   "source": [
    "callbacks = [\n",
    "    tf.keras.callbacks.TerminateOnNaN(),\n",
    "    tf.keras.callbacks.ReduceLROnPlateau(),\n",
    "    tf.keras.callbacks.ModelCheckpoint(make_checkpoint_dir(\"data/models\", \"cnn-age\"))\n",
    "]\n",
    "\n",
    "model.fit(train_dataset, epochs=10, validation_data=val_dataset, callbacks=callbacks)"
   ]
  },
  {
   "cell_type": "code",
   "execution_count": 9,
   "metadata": {},
   "outputs": [],
   "source": [
    "model.save(\"data/models/cnn-age.keras\")"
   ]
  },
  {
   "cell_type": "code",
   "execution_count": null,
   "metadata": {},
   "outputs": [],
   "source": []
  }
 ],
 "metadata": {
  "kernelspec": {
   "display_name": "Tensorflow 2.13.0",
   "language": "python",
   "name": "tensorflow-2.13.0"
  },
  "language_info": {
   "codemirror_mode": {
    "name": "ipython",
    "version": 3
   },
   "file_extension": ".py",
   "mimetype": "text/x-python",
   "name": "python",
   "nbconvert_exporter": "python",
   "pygments_lexer": "ipython3",
   "version": "3.10.12"
  }
 },
 "nbformat": 4,
 "nbformat_minor": 4
}
