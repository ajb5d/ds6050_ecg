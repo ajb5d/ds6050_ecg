{
 "cells": [
  {
   "cell_type": "code",
   "execution_count": 1,
   "metadata": {},
   "outputs": [
    {
     "name": "stderr",
     "output_type": "stream",
     "text": [
      "2023-10-16 13:19:37.030544: I tensorflow/core/platform/cpu_feature_guard.cc:183] This TensorFlow binary is optimized to use available CPU instructions in performance-critical operations.\n",
      "To enable the following instructions: SSE3 SSE4.1 SSE4.2 AVX, in other operations, rebuild TensorFlow with the appropriate compiler flags.\n"
     ]
    }
   ],
   "source": [
    "import tensorflow as tf\n",
    "import numpy as np\n",
    "from pathlib import Path"
   ]
  },
  {
   "cell_type": "code",
   "execution_count": 2,
   "metadata": {},
   "outputs": [],
   "source": [
    "DATA_PATH = Path(\"/scratch/ajb5d/ecg/tfrecords/\")\n",
    "TRAIN_RECS = list(DATA_PATH.glob(\"train*.tfrecords\"))\n",
    "VAL_RECS = list(DATA_PATH.glob(\"train*.tfrecords\"))"
   ]
  },
  {
   "cell_type": "code",
   "execution_count": 9,
   "metadata": {},
   "outputs": [],
   "source": [
    "BATCH_SIZE = 128\n",
    "\n",
    "record_format = {\n",
    "    'ecg/data': tf.io.FixedLenSequenceFeature([], tf.float32, allow_missing=True),\n",
    "    'age': tf.io.FixedLenFeature([], tf.float32),\n",
    "    'gender': tf.io.FixedLenFeature([], tf.int64),\n",
    "}\n",
    "\n",
    "def _parse_record(record):\n",
    "    example = tf.io.parse_single_example(record, record_format)\n",
    "    ecg_data = tf.reshape(example['ecg/data'], [5000,12])\n",
    "    # label = (example['age'] - 50) / 100\n",
    "    label = example['age']\n",
    "    return ecg_data[:,1], label\n",
    "\n",
    "def drop_na_ages(x,y):\n",
    "    return not tf.math.reduce_any(tf.math.is_nan(y))\n",
    "\n",
    "def load_dataset(filenames):\n",
    "    ignore_order = tf.data.Options()\n",
    "    ignore_order.experimental_deterministic = False\n",
    "    dataset = tf.data.TFRecordDataset(filenames)\n",
    "    dataset = dataset.with_options(ignore_order)\n",
    "    dataset = dataset.map(_parse_record, num_parallel_calls=tf.data.AUTOTUNE)\n",
    "    dataset = dataset.filter(drop_na_ages)\n",
    "    return dataset\n",
    "\n",
    "def get_dataset(filenames, labeled=True):\n",
    "    dataset = load_dataset(filenames)\n",
    "    dataset = dataset.shuffle(2048)\n",
    "    dataset = dataset.prefetch(buffer_size=tf.data.AUTOTUNE)\n",
    "    dataset = dataset.batch(BATCH_SIZE)\n",
    "    return dataset"
   ]
  },
  {
   "cell_type": "code",
   "execution_count": 10,
   "metadata": {},
   "outputs": [],
   "source": [
    "train_dataset = get_dataset(TRAIN_RECS)\n",
    "val_dataset = get_dataset(VAL_RECS)"
   ]
  },
  {
   "cell_type": "code",
   "execution_count": 13,
   "metadata": {},
   "outputs": [],
   "source": [
    "def conv_block(x, n, k, mp):\n",
    "    x = tf.keras.layers.Conv1D(n, k, padding='same')(x)\n",
    "    x = tf.keras.layers.BatchNormalization()(x)\n",
    "    x = tf.keras.layers.Activation('relu')(x)\n",
    "    if mp:\n",
    "        x = tf.keras.layers.MaxPooling1D()(x)\n",
    "\n",
    "    return x\n",
    "\n",
    "kernel_initializer = 'he_normal'\n",
    "input_layer = tf.keras.layers.Input(shape=(5000))\n",
    "x = input_layer\n",
    "x = tf.keras.layers.Reshape((5000, 1))(x)\n",
    "\n",
    "x = conv_block(x, 16, 7, 2)\n",
    "x = conv_block(x, 16, 5, 4)\n",
    "x = conv_block(x, 32, 5, 2)\n",
    "x = conv_block(x, 32, 5, 4)\n",
    "x = conv_block(x, 64, 5, 2)\n",
    "x = conv_block(x, 64, 3, 2)\n",
    "x = conv_block(x, 64, 3, 2)\n",
    "x = conv_block(x, 64, 3, 2)\n",
    "\n",
    "x = tf.keras.layers.Flatten()(x)\n",
    "x = tf.keras.layers.Dense(128)(x)\n",
    "x = tf.keras.layers.BatchNormalization()(x)\n",
    "x = tf.keras.layers.Activation('relu')(x)\n",
    "x = tf.keras.layers.Dropout(0.5)(x)\n",
    "x = tf.keras.layers.Dense(64)(x)\n",
    "x = tf.keras.layers.BatchNormalization()(x)\n",
    "x = tf.keras.layers.Activation('relu')(x)\n",
    "x = tf.keras.layers.Dropout(0.5)(x)\n",
    "x = tf.keras.layers.Dense(1)(x)\n",
    "\n",
    "model = tf.keras.models.Model(input_layer, x)\n",
    "\n",
    "model.compile(\n",
    "    optimizer='adam',\n",
    "    loss=tf.keras.losses.MeanSquaredError(),\n",
    "    metrics=['mse', 'mae']\n",
    ")"
   ]
  },
  {
   "cell_type": "code",
   "execution_count": null,
   "metadata": {},
   "outputs": [
    {
     "name": "stdout",
     "output_type": "stream",
     "text": [
      "Epoch 1/10\n"
     ]
    },
    {
     "name": "stderr",
     "output_type": "stream",
     "text": [
      "2023-10-16 13:29:04.702919: I tensorflow/compiler/xla/service/service.cc:168] XLA service 0x7feb88ac5b00 initialized for platform CUDA (this does not guarantee that XLA will be used). Devices:\n",
      "2023-10-16 13:29:04.704493: I tensorflow/compiler/xla/service/service.cc:176]   StreamExecutor device (0): NVIDIA RTX A6000, Compute Capability 8.6\n",
      "2023-10-16 13:29:04.840817: I tensorflow/compiler/mlir/tensorflow/utils/dump_mlir_util.cc:255] disabling MLIR crash reproducer, set env var `MLIR_CRASH_REPRODUCER_DIRECTORY` to enable.\n",
      "2023-10-16 13:29:05.617953: I ./tensorflow/compiler/jit/device_compiler.h:186] Compiled cluster using XLA!  This line is logged at most once for the lifetime of the process.\n"
     ]
    },
    {
     "name": "stdout",
     "output_type": "stream",
     "text": [
      "3904/3904 [==============================] - 312s 78ms/step - loss: 626.9379 - mse: 626.9379 - mae: 18.3059 - val_loss: 188.3338 - val_mse: 188.3338 - val_mae: 10.8005\n",
      "Epoch 2/10\n",
      "3904/3904 [==============================] - 264s 68ms/step - loss: 220.2998 - mse: 220.2998 - mae: 11.7982 - val_loss: 159.6990 - val_mse: 159.6990 - val_mae: 9.9987\n",
      "Epoch 3/10\n",
      "3904/3904 [==============================] - 265s 68ms/step - loss: 204.0125 - mse: 204.0125 - mae: 11.3689 - val_loss: 142.6672 - val_mse: 142.6672 - val_mae: 9.4516\n",
      "Epoch 4/10\n",
      "3904/3904 [==============================] - 265s 68ms/step - loss: 192.9807 - mse: 192.9807 - mae: 11.0467 - val_loss: 177.1965 - val_mse: 177.1965 - val_mae: 10.4363\n",
      "Epoch 5/10\n",
      "3904/3904 [==============================] - 264s 68ms/step - loss: 183.6500 - mse: 183.6500 - mae: 10.7720 - val_loss: 238.8665 - val_mse: 238.8665 - val_mae: 12.1500\n",
      "Epoch 6/10\n",
      "3904/3904 [==============================] - 264s 68ms/step - loss: 176.0502 - mse: 176.0502 - mae: 10.5475 - val_loss: 181.0213 - val_mse: 181.0213 - val_mae: 10.5634\n",
      "Epoch 7/10\n",
      "3904/3904 [==============================] - 265s 68ms/step - loss: 169.6667 - mse: 169.6667 - mae: 10.3596 - val_loss: 172.8708 - val_mse: 172.8708 - val_mae: 10.3224\n",
      "Epoch 8/10\n",
      "3904/3904 [==============================] - 265s 68ms/step - loss: 164.3598 - mse: 164.3598 - mae: 10.1904 - val_loss: 189.0452 - val_mse: 189.0452 - val_mae: 10.7829\n",
      "Epoch 9/10\n",
      "3904/3904 [==============================] - 267s 68ms/step - loss: 159.8351 - mse: 159.8351 - mae: 10.0440 - val_loss: 176.5864 - val_mse: 176.5864 - val_mae: 10.4523\n"
     ]
    }
   ],
   "source": [
    "callbacks = [\n",
    "    tf.keras.callbacks.TerminateOnNaN(),\n",
    "]\n",
    "\n",
    "model.fit(train_dataset, epochs=10, validation_data=val_dataset, callbacks=callbacks)"
   ]
  },
  {
   "cell_type": "code",
   "execution_count": null,
   "metadata": {},
   "outputs": [],
   "source": []
  }
 ],
 "metadata": {
  "kernelspec": {
   "display_name": "Tensorflow 2.13.0",
   "language": "python",
   "name": "tensorflow-2.13.0"
  },
  "language_info": {
   "codemirror_mode": {
    "name": "ipython",
    "version": 3
   },
   "file_extension": ".py",
   "mimetype": "text/x-python",
   "name": "python",
   "nbconvert_exporter": "python",
   "pygments_lexer": "ipython3",
   "version": "3.10.12"
  }
 },
 "nbformat": 4,
 "nbformat_minor": 4
}
