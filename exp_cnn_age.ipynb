{
 "cells": [
  {
   "cell_type": "code",
   "execution_count": 13,
   "metadata": {},
   "outputs": [],
   "source": [
    "import tensorflow as tf\n",
    "import numpy as np\n",
    "from pathlib import Path"
   ]
  },
  {
   "cell_type": "code",
   "execution_count": 2,
   "metadata": {},
   "outputs": [],
   "source": [
    "DATA_PATH = Path(\"/scratch/ajb5d/ecg/tfrecords/\")\n",
    "TRAIN_RECS = list(DATA_PATH.glob(\"train*.tfrecords\"))\n",
    "VAL_RECS = list(DATA_PATH.glob(\"val*.tfrecords\"))"
   ]
  },
  {
   "cell_type": "code",
   "execution_count": 3,
   "metadata": {},
   "outputs": [],
   "source": [
    "BATCH_SIZE = 64\n",
    "\n",
    "record_format = {\n",
    "    'ecg/data': tf.io.FixedLenSequenceFeature([], tf.float32, allow_missing=True),\n",
    "    'age': tf.io.FixedLenFeature([], tf.float32),\n",
    "    'gender': tf.io.FixedLenFeature([], tf.int64),\n",
    "}\n",
    "\n",
    "def _parse_record(record):\n",
    "    example = tf.io.parse_single_example(record, record_format)\n",
    "    ecg_data = tf.reshape(example['ecg/data'], [5000,12])\n",
    "    label = example['age']\n",
    "    return ecg_data, label\n",
    "\n",
    "def drop_na_ages(x,y):\n",
    "    return not tf.math.reduce_any(tf.math.is_nan(y))\n",
    "\n",
    "def age_lt_90(x,y):\n",
    "    return tf.math.reduce_all(tf.math.less_equal(y, tf.constant([90.0])))\n",
    "\n",
    "def load_dataset(filenames):\n",
    "    ignore_order = tf.data.Options()\n",
    "    ignore_order.experimental_deterministic = False\n",
    "    dataset = tf.data.TFRecordDataset(filenames)\n",
    "    dataset = dataset.with_options(ignore_order)\n",
    "    dataset = dataset.map(_parse_record, num_parallel_calls=tf.data.AUTOTUNE)\n",
    "    dataset = dataset.filter(drop_na_ages)\n",
    "    dataset = dataset.filter(age_lt_90)\n",
    "    return dataset\n",
    "\n",
    "def get_dataset(filenames, labeled=True):\n",
    "    dataset = load_dataset(filenames)\n",
    "    dataset = dataset.shuffle(2048)\n",
    "    dataset = dataset.prefetch(buffer_size=tf.data.AUTOTUNE)\n",
    "    dataset = dataset.batch(BATCH_SIZE)\n",
    "    return dataset"
   ]
  },
  {
   "cell_type": "code",
   "execution_count": 4,
   "metadata": {},
   "outputs": [
    {
     "name": "stderr",
     "output_type": "stream",
     "text": [
      "2023-11-29 09:25:25.832283: I tensorflow/core/common_runtime/gpu/gpu_device.cc:1636] Created device /job:localhost/replica:0/task:0/device:GPU:0 with 78823 MB memory:  -> device: 0, name: NVIDIA A100-SXM4-80GB, pci bus id: 0000:87:00.0, compute capability: 8.0\n"
     ]
    }
   ],
   "source": [
    "train_dataset = get_dataset(TRAIN_RECS)\n",
    "val_dataset = get_dataset(VAL_RECS)"
   ]
  },
  {
   "cell_type": "code",
   "execution_count": 6,
   "metadata": {},
   "outputs": [],
   "source": [
    "def conv_block(x, n, k, mp, groups = 12):\n",
    "    x = tf.keras.layers.Conv1D(n * groups, k, padding='same', groups = groups)(x)\n",
    "    x = tf.keras.layers.BatchNormalization()(x)\n",
    "    x = tf.keras.layers.Activation('relu')(x)\n",
    "    if mp:\n",
    "        x = tf.keras.layers.MaxPooling1D(mp)(x)\n",
    "\n",
    "    return x\n",
    "\n",
    "input_layer = tf.keras.layers.Input(shape=(5000, 12))\n",
    "x = input_layer\n",
    "\n",
    "x = conv_block(x, 16, 7, 2)\n",
    "x = conv_block(x, 16, 5, 4)\n",
    "x = conv_block(x, 32, 5, 2)\n",
    "x = conv_block(x, 32, 5, 4)\n",
    "x = conv_block(x, 64, 5, 2)\n",
    "x = conv_block(x, 64, 3, 2)\n",
    "x = conv_block(x, 64, 3, 2)\n",
    "x = conv_block(x, 64, 3, 2)\n",
    "\n",
    "x = tf.keras.layers.Conv1D(128, 12, padding = 'same', data_format = 'channels_first')(x)\n",
    "x = tf.keras.layers.BatchNormalization()(x)\n",
    "x = tf.keras.layers.Activation('relu')(x)\n",
    "x = tf.keras.layers.MaxPooling1D()(x)\n",
    "\n",
    "x = tf.keras.layers.Flatten()(x)\n",
    "x = tf.keras.layers.Dense(128)(x)\n",
    "x = tf.keras.layers.BatchNormalization()(x)\n",
    "x = tf.keras.layers.Activation('relu')(x)\n",
    "x = tf.keras.layers.Dropout(0.5)(x)\n",
    "x = tf.keras.layers.Dense(64)(x)\n",
    "x = tf.keras.layers.BatchNormalization()(x)\n",
    "x = tf.keras.layers.Activation('relu')(x)\n",
    "x = tf.keras.layers.Dropout(0.5)(x)\n",
    "x = tf.keras.layers.Dense(1)(x)\n",
    "\n",
    "model = tf.keras.models.Model(input_layer, x)\n",
    "\n",
    "model.compile(\n",
    "    optimizer='adam',\n",
    "    loss=tf.keras.losses.MeanSquaredError(),\n",
    "    metrics=['mse', 'mae']\n",
    ")"
   ]
  },
  {
   "cell_type": "code",
   "execution_count": null,
   "metadata": {},
   "outputs": [],
   "source": [
    "from datetime import datetime\n",
    "import os\n",
    "\n",
    "def make_checkpoint_dir(data_path, label):\n",
    "    current_datetime = datetime.now()\n",
    "    formatted_datetime = current_datetime.strftime(\"%Y-%m-%d_%H-%M-%S\")\n",
    "    output_dir = f\"{label}-{formatted_datetime}\"\n",
    "    output_path = f\"{data_path}/{output_dir}\"\n",
    "    \n",
    "    if not os.path.exists(output_path):\n",
    "        os.makedirs(output_path)\n",
    "    \n",
    "    return output_path\n",
    "\n",
    "model_name = \"cnn-age\"\n",
    "output_path = make_checkpoint_dir(\"data/models\", model_name)\n",
    "\n",
    "print(f\"Model: {model_name} Run Path: {output_path}\")"
   ]
  },
  {
   "cell_type": "code",
   "execution_count": 8,
   "metadata": {},
   "outputs": [
    {
     "name": "stdout",
     "output_type": "stream",
     "text": [
      "Epoch 1/2\n"
     ]
    },
    {
     "name": "stderr",
     "output_type": "stream",
     "text": [
      "2023-11-29 09:25:36.567187: I tensorflow/compiler/xla/service/service.cc:168] XLA service 0x55cdc5cd6a60 initialized for platform CUDA (this does not guarantee that XLA will be used). Devices:\n",
      "2023-11-29 09:25:36.567588: I tensorflow/compiler/xla/service/service.cc:176]   StreamExecutor device (0): NVIDIA A100-SXM4-80GB, Compute Capability 8.0\n",
      "2023-11-29 09:25:36.671012: I tensorflow/compiler/xla/stream_executor/cuda/cuda_dnn.cc:432] Loaded cuDNN version 8904\n",
      "2023-11-29 09:25:38.211728: I ./tensorflow/compiler/jit/device_compiler.h:186] Compiled cluster using XLA!  This line is logged at most once for the lifetime of the process.\n",
      "2023-11-29 09:25:40.031814: I tensorflow/compiler/xla/stream_executor/cuda/cuda_blas.cc:625] TensorFloat-32 will be used for the matrix multiplication. This will only be logged once.\n",
      "2023-11-29 09:25:40.205708: I tensorflow/compiler/mlir/tensorflow/utils/dump_mlir_util.cc:255] disabling MLIR crash reproducer, set env var `MLIR_CRASH_REPRODUCER_DIRECTORY` to enable.\n"
     ]
    },
    {
     "name": "stdout",
     "output_type": "stream",
     "text": [
      "   7479/Unknown - 685s 89ms/step - loss: 415.8427 - mse: 415.8427 - mae: 14.8430INFO:tensorflow:Assets written to: data/models/cnn-age-2023-11-29_09-25-29/assets\n"
     ]
    },
    {
     "name": "stderr",
     "output_type": "stream",
     "text": [
      "INFO:tensorflow:Assets written to: data/models/cnn-age-2023-11-29_09-25-29/assets\n"
     ]
    },
    {
     "name": "stdout",
     "output_type": "stream",
     "text": [
      "7479/7479 [==============================] - 730s 95ms/step - loss: 415.8427 - mse: 415.8427 - mae: 14.8430 - val_loss: 161.0133 - val_mse: 161.0133 - val_mae: 10.2466 - lr: 0.0010\n",
      "Epoch 2/2\n",
      "7479/7479 [==============================] - ETA: 0s - loss: 188.4316 - mse: 188.4316 - mae: 10.9230INFO:tensorflow:Assets written to: data/models/cnn-age-2023-11-29_09-25-29/assets\n"
     ]
    },
    {
     "name": "stderr",
     "output_type": "stream",
     "text": [
      "INFO:tensorflow:Assets written to: data/models/cnn-age-2023-11-29_09-25-29/assets\n"
     ]
    },
    {
     "name": "stdout",
     "output_type": "stream",
     "text": [
      "7479/7479 [==============================] - 709s 95ms/step - loss: 188.4316 - mse: 188.4316 - mae: 10.9230 - val_loss: 134.0525 - val_mse: 134.0525 - val_mae: 9.0620 - lr: 0.0010\n"
     ]
    }
   ],
   "source": [
    "callbacks = [\n",
    "    tf.keras.callbacks.TerminateOnNaN(),\n",
    "    tf.keras.callbacks.ReduceLROnPlateau(),\n",
    "    tf.keras.callbacks.ModelCheckpoint(output_path, save_best=True),\n",
    "    tf.keras.callbacks.CSVLogger(f\"data/models/{model_name}-history.csv\")\n",
    "]\n",
    "\n",
    "history = model.fit(train_dataset, epochs=50, validation_data=val_dataset, callbacks=callbacks)"
   ]
  },
  {
   "cell_type": "code",
   "execution_count": 9,
   "metadata": {},
   "outputs": [],
   "source": [
    "model.save(f\"data/models/{model_name}.keras\")"
   ]
  }
 ],
 "metadata": {
  "kernelspec": {
   "display_name": "Tensorflow 2.13.0",
   "language": "python",
   "name": "tensorflow-2.13.0"
  },
  "language_info": {
   "codemirror_mode": {
    "name": "ipython",
    "version": 3
   },
   "file_extension": ".py",
   "mimetype": "text/x-python",
   "name": "python",
   "nbconvert_exporter": "python",
   "pygments_lexer": "ipython3",
   "version": "3.10.12"
  }
 },
 "nbformat": 4,
 "nbformat_minor": 4
}
