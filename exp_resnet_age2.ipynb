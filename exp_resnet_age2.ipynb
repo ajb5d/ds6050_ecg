{
 "cells": [
  {
   "cell_type": "code",
   "execution_count": 1,
   "metadata": {},
   "outputs": [
    {
     "name": "stderr",
     "output_type": "stream",
     "text": [
      "2023-10-20 12:50:27.693399: I tensorflow/core/platform/cpu_feature_guard.cc:183] This TensorFlow binary is optimized to use available CPU instructions in performance-critical operations.\n",
      "To enable the following instructions: SSE3 SSE4.1 SSE4.2 AVX, in other operations, rebuild TensorFlow with the appropriate compiler flags.\n"
     ]
    }
   ],
   "source": [
    "import tensorflow as tf\n",
    "from tensorflow.keras import layers\n",
    "import numpy as np\n",
    "from pathlib import Path"
   ]
  },
  {
   "cell_type": "code",
   "execution_count": 2,
   "metadata": {},
   "outputs": [],
   "source": [
    "DATA_PATH = Path(\"/scratch/ajb5d/ecg/tfrecords/\")\n",
    "TRAIN_RECS = list(DATA_PATH.glob(\"train*.tfrecords\"))\n",
    "VAL_RECS = list(DATA_PATH.glob(\"train*.tfrecords\"))"
   ]
  },
  {
   "cell_type": "code",
   "execution_count": 14,
   "metadata": {},
   "outputs": [],
   "source": [
    "BATCH_SIZE = 64\n",
    "\n",
    "record_format = {\n",
    "    'ecg/data': tf.io.FixedLenSequenceFeature([], tf.float32, allow_missing=True),\n",
    "    'age': tf.io.FixedLenFeature([], tf.float32),\n",
    "    'gender': tf.io.FixedLenFeature([], tf.int64),\n",
    "}\n",
    "\n",
    "def _parse_record(record):\n",
    "    example = tf.io.parse_single_example(record, record_format)\n",
    "    ecg_data = tf.reshape(example['ecg/data'], [5000,12])\n",
    "    label = example['age']\n",
    "    return (ecg_data, example['gender']), label\n",
    "\n",
    "@tf.function\n",
    "def drop_na_ages(x,y):\n",
    "    return not tf.math.reduce_any(tf.math.is_nan(y))\n",
    "\n",
    "@tf.function\n",
    "def age_lt_90(x,y):\n",
    "    return tf.math.reduce_all(tf.math.less_equal(y, tf.constant([90.0])))\n",
    "\n",
    "def load_dataset(filenames):\n",
    "    ignore_order = tf.data.Options()\n",
    "    ignore_order.experimental_deterministic = False\n",
    "    dataset = tf.data.TFRecordDataset(filenames)\n",
    "    dataset = dataset.with_options(ignore_order)\n",
    "    dataset = dataset.map(_parse_record, num_parallel_calls=tf.data.AUTOTUNE)\n",
    "    dataset = dataset.filter(drop_na_ages)\n",
    "    dataset = dataset.filter(age_lt_90)\n",
    "    return dataset\n",
    "\n",
    "def get_dataset(filenames, labeled=True):\n",
    "    dataset = load_dataset(filenames)\n",
    "    dataset = dataset.shuffle(2048)\n",
    "    dataset = dataset.prefetch(buffer_size=tf.data.AUTOTUNE)\n",
    "    dataset = dataset.batch(BATCH_SIZE)\n",
    "    return dataset"
   ]
  },
  {
   "cell_type": "code",
   "execution_count": 15,
   "metadata": {},
   "outputs": [],
   "source": [
    "from datetime import datetime\n",
    "import os\n",
    "\n",
    "def make_checkpoint_dir(data_path, label):\n",
    "    current_datetime = datetime.now()\n",
    "    formatted_datetime = current_datetime.strftime(\"%Y-%m-%d_%H-%M-%S\")\n",
    "    output_dir = f\"{label}-{formatted_datetime}\"\n",
    "    output_path = f\"{data_path}/{output_dir}\"\n",
    "    \n",
    "    if not os.path.exists(output_path):\n",
    "        os.makedirs(output_path)\n",
    "    \n",
    "    return output_path"
   ]
  },
  {
   "cell_type": "code",
   "execution_count": 16,
   "metadata": {},
   "outputs": [],
   "source": [
    "train_dataset = get_dataset(TRAIN_RECS)\n",
    "val_dataset = get_dataset(VAL_RECS)"
   ]
  },
  {
   "cell_type": "code",
   "execution_count": 6,
   "metadata": {},
   "outputs": [],
   "source": [
    "# tf.keras.mixed_precision.set_global_policy('mixed_float16')"
   ]
  },
  {
   "cell_type": "code",
   "execution_count": 20,
   "metadata": {},
   "outputs": [],
   "source": [
    "def residual_unit(x, y, n_samples_out, n_filters_out, prefix, kernel_size = 16):\n",
    "    n_samples_in = y.shape[1]\n",
    "    downsample = n_samples_in // n_samples_out\n",
    "    n_filters_in = y.shape[2]\n",
    "    \n",
    "    if downsample == 1:\n",
    "        y = y\n",
    "    else:\n",
    "        y = layers.MaxPooling1D(downsample, strides=downsample, padding='same', name = f\"{prefix}_mp_opt\")(y)\n",
    "        \n",
    "    if n_filters_in != n_filters_out:\n",
    "        y = layers.Conv1D(n_filters_out, 1, padding='same', use_bias=False, name = f\"{prefix}_conv_opt\")(y)\n",
    "        \n",
    "    x = layers.Conv1D(n_filters_out, kernel_size, padding='same', use_bias=False, name = f\"{prefix}_conv1\")(x)\n",
    "    x = layers.BatchNormalization(name = f\"{prefix}_bn1\")(x)\n",
    "    x = layers.Activation(\"relu\", name = f\"{prefix}_act1\")(x)\n",
    "    x = layers.Dropout(0.2, name = f\"{prefix}_dropout1\")(x)\n",
    "    x = layers.Conv1D(n_filters_out, kernel_size, strides=downsample, padding='same', use_bias=False, name = f\"{prefix}_conv2\")(x)\n",
    "\n",
    "    x = layers.Add(name = f\"{prefix}_add\")([x,y])\n",
    "    y = x\n",
    "    x = layers.BatchNormalization(name = f\"{prefix}_bn2\")(x)\n",
    "    x = layers.Activation(\"relu\", name = f\"{prefix}_act2\")(x)\n",
    "    x = layers.Dropout(0.2, name = f\"{prefix}_dropout2\")(x)\n",
    "    return (x,y)\n",
    "    \n",
    "ecg_input_layer = tf.keras.layers.Input(shape=(5000,12), name=\"ecg_input\")\n",
    "age_input = tf.keras.layers.Input(shape=(1,), name=\"age_input\")\n",
    "x = layers.Conv1D(64, 16, padding='same', use_bias=False, name = \"conv_1\")(ecg_input_layer)\n",
    "x = layers.BatchNormalization(name=\"bn\")(x)\n",
    "x = layers.Activation(\"relu\", name=\"relu\")(x)\n",
    "\n",
    "x, y = residual_unit(x,x,1024,128, \"res1\")\n",
    "x, y = residual_unit(x,y,256,196, \"res2\")\n",
    "x, y = residual_unit(x,y,64,256, \"res3\")\n",
    "x, _ = residual_unit(x,y,16,320, \"res4\")\n",
    "\n",
    "x = tf.keras.layers.Flatten(name=\"flatten\")(x)\n",
    "x = tf.keras.layers.Add(name=\"add\")([x, age_input])\n",
    "x = tf.keras.layers.Dense(1, name=\"output\")(x)\n",
    "\n",
    "model = tf.keras.models.Model([ecg_input_layer, age_input], x)\n",
    "\n",
    "model.compile(\n",
    "    optimizer='adam',\n",
    "    loss=tf.keras.losses.MeanSquaredError(),\n",
    "    metrics=['mse', 'mae']\n",
    ")"
   ]
  },
  {
   "cell_type": "code",
   "execution_count": 21,
   "metadata": {},
   "outputs": [
    {
     "name": "stdout",
     "output_type": "stream",
     "text": [
      "Model: \"model_1\"\n",
      "__________________________________________________________________________________________________\n",
      " Layer (type)                Output Shape                 Param #   Connected to                  \n",
      "==================================================================================================\n",
      " ecg_input (InputLayer)      [(None, 5000, 12)]           0         []                            \n",
      "                                                                                                  \n",
      " conv_1 (Conv1D)             (None, 5000, 64)             12288     ['ecg_input[0][0]']           \n",
      "                                                                                                  \n",
      " bn (BatchNormalization)     (None, 5000, 64)             256       ['conv_1[0][0]']              \n",
      "                                                                                                  \n",
      " relu (Activation)           (None, 5000, 64)             0         ['bn[0][0]']                  \n",
      "                                                                                                  \n",
      " res1_conv1 (Conv1D)         (None, 5000, 128)            131072    ['relu[0][0]']                \n",
      "                                                                                                  \n",
      " res1_bn1 (BatchNormalizati  (None, 5000, 128)            512       ['res1_conv1[0][0]']          \n",
      " on)                                                                                              \n",
      "                                                                                                  \n",
      " res1_act1 (Activation)      (None, 5000, 128)            0         ['res1_bn1[0][0]']            \n",
      "                                                                                                  \n",
      " res1_dropout1 (Dropout)     (None, 5000, 128)            0         ['res1_act1[0][0]']           \n",
      "                                                                                                  \n",
      " res1_mp_opt (MaxPooling1D)  (None, 1250, 64)             0         ['relu[0][0]']                \n",
      "                                                                                                  \n",
      " res1_conv2 (Conv1D)         (None, 1250, 128)            262144    ['res1_dropout1[0][0]']       \n",
      "                                                                                                  \n",
      " res1_conv_opt (Conv1D)      (None, 1250, 128)            8192      ['res1_mp_opt[0][0]']         \n",
      "                                                                                                  \n",
      " res1_add (Add)              (None, 1250, 128)            0         ['res1_conv2[0][0]',          \n",
      "                                                                     'res1_conv_opt[0][0]']       \n",
      "                                                                                                  \n",
      " res1_bn2 (BatchNormalizati  (None, 1250, 128)            512       ['res1_add[0][0]']            \n",
      " on)                                                                                              \n",
      "                                                                                                  \n",
      " res1_act2 (Activation)      (None, 1250, 128)            0         ['res1_bn2[0][0]']            \n",
      "                                                                                                  \n",
      " res1_dropout2 (Dropout)     (None, 1250, 128)            0         ['res1_act2[0][0]']           \n",
      "                                                                                                  \n",
      " res2_conv1 (Conv1D)         (None, 1250, 196)            401408    ['res1_dropout2[0][0]']       \n",
      "                                                                                                  \n",
      " res2_bn1 (BatchNormalizati  (None, 1250, 196)            784       ['res2_conv1[0][0]']          \n",
      " on)                                                                                              \n",
      "                                                                                                  \n",
      " res2_act1 (Activation)      (None, 1250, 196)            0         ['res2_bn1[0][0]']            \n",
      "                                                                                                  \n",
      " res2_dropout1 (Dropout)     (None, 1250, 196)            0         ['res2_act1[0][0]']           \n",
      "                                                                                                  \n",
      " res2_mp_opt (MaxPooling1D)  (None, 313, 128)             0         ['res1_add[0][0]']            \n",
      "                                                                                                  \n",
      " res2_conv2 (Conv1D)         (None, 313, 196)             614656    ['res2_dropout1[0][0]']       \n",
      "                                                                                                  \n",
      " res2_conv_opt (Conv1D)      (None, 313, 196)             25088     ['res2_mp_opt[0][0]']         \n",
      "                                                                                                  \n",
      " res2_add (Add)              (None, 313, 196)             0         ['res2_conv2[0][0]',          \n",
      "                                                                     'res2_conv_opt[0][0]']       \n",
      "                                                                                                  \n",
      " res2_bn2 (BatchNormalizati  (None, 313, 196)             784       ['res2_add[0][0]']            \n",
      " on)                                                                                              \n",
      "                                                                                                  \n",
      " res2_act2 (Activation)      (None, 313, 196)             0         ['res2_bn2[0][0]']            \n",
      "                                                                                                  \n",
      " res2_dropout2 (Dropout)     (None, 313, 196)             0         ['res2_act2[0][0]']           \n",
      "                                                                                                  \n",
      " res3_conv1 (Conv1D)         (None, 313, 256)             802816    ['res2_dropout2[0][0]']       \n",
      "                                                                                                  \n",
      " res3_bn1 (BatchNormalizati  (None, 313, 256)             1024      ['res3_conv1[0][0]']          \n",
      " on)                                                                                              \n",
      "                                                                                                  \n",
      " res3_act1 (Activation)      (None, 313, 256)             0         ['res3_bn1[0][0]']            \n",
      "                                                                                                  \n",
      " res3_dropout1 (Dropout)     (None, 313, 256)             0         ['res3_act1[0][0]']           \n",
      "                                                                                                  \n",
      " res3_mp_opt (MaxPooling1D)  (None, 79, 196)              0         ['res2_add[0][0]']            \n",
      "                                                                                                  \n",
      " res3_conv2 (Conv1D)         (None, 79, 256)              1048576   ['res3_dropout1[0][0]']       \n",
      "                                                                                                  \n",
      " res3_conv_opt (Conv1D)      (None, 79, 256)              50176     ['res3_mp_opt[0][0]']         \n",
      "                                                                                                  \n",
      " res3_add (Add)              (None, 79, 256)              0         ['res3_conv2[0][0]',          \n",
      "                                                                     'res3_conv_opt[0][0]']       \n",
      "                                                                                                  \n",
      " res3_bn2 (BatchNormalizati  (None, 79, 256)              1024      ['res3_add[0][0]']            \n",
      " on)                                                                                              \n",
      "                                                                                                  \n",
      " res3_act2 (Activation)      (None, 79, 256)              0         ['res3_bn2[0][0]']            \n",
      "                                                                                                  \n",
      " res3_dropout2 (Dropout)     (None, 79, 256)              0         ['res3_act2[0][0]']           \n",
      "                                                                                                  \n",
      " res4_conv1 (Conv1D)         (None, 79, 320)              1310720   ['res3_dropout2[0][0]']       \n",
      "                                                                                                  \n",
      " res4_bn1 (BatchNormalizati  (None, 79, 320)              1280      ['res4_conv1[0][0]']          \n",
      " on)                                                                                              \n",
      "                                                                                                  \n",
      " res4_act1 (Activation)      (None, 79, 320)              0         ['res4_bn1[0][0]']            \n",
      "                                                                                                  \n",
      " res4_dropout1 (Dropout)     (None, 79, 320)              0         ['res4_act1[0][0]']           \n",
      "                                                                                                  \n",
      " res4_mp_opt (MaxPooling1D)  (None, 20, 256)              0         ['res3_add[0][0]']            \n",
      "                                                                                                  \n",
      " res4_conv2 (Conv1D)         (None, 20, 320)              1638400   ['res4_dropout1[0][0]']       \n",
      "                                                                                                  \n",
      " res4_conv_opt (Conv1D)      (None, 20, 320)              81920     ['res4_mp_opt[0][0]']         \n",
      "                                                                                                  \n",
      " res4_add (Add)              (None, 20, 320)              0         ['res4_conv2[0][0]',          \n",
      "                                                                     'res4_conv_opt[0][0]']       \n",
      "                                                                                                  \n",
      " res4_bn2 (BatchNormalizati  (None, 20, 320)              1280      ['res4_add[0][0]']            \n",
      " on)                                                                                              \n",
      "                                                                                                  \n",
      " res4_act2 (Activation)      (None, 20, 320)              0         ['res4_bn2[0][0]']            \n",
      "                                                                                                  \n",
      " res4_dropout2 (Dropout)     (None, 20, 320)              0         ['res4_act2[0][0]']           \n",
      "                                                                                                  \n",
      " flatten (Flatten)           (None, 6400)                 0         ['res4_dropout2[0][0]']       \n",
      "                                                                                                  \n",
      " age_input (InputLayer)      [(None, 1)]                  0         []                            \n",
      "                                                                                                  \n",
      " add (Add)                   (None, 6400)                 0         ['flatten[0][0]',             \n",
      "                                                                     'age_input[0][0]']           \n",
      "                                                                                                  \n",
      " output (Dense)              (None, 1)                    6401      ['add[0][0]']                 \n",
      "                                                                                                  \n",
      "==================================================================================================\n",
      "Total params: 6401313 (24.42 MB)\n",
      "Trainable params: 6397585 (24.40 MB)\n",
      "Non-trainable params: 3728 (14.56 KB)\n",
      "__________________________________________________________________________________________________\n"
     ]
    }
   ],
   "source": [
    "model.summary()"
   ]
  },
  {
   "cell_type": "code",
   "execution_count": 22,
   "metadata": {},
   "outputs": [
    {
     "name": "stdout",
     "output_type": "stream",
     "text": [
      "Epoch 1/10\n",
      "   7479/Unknown - 517s 68ms/step - loss: 132.6500 - mse: 132.6500 - mae: 9.0489"
     ]
    },
    {
     "name": "stderr",
     "output_type": "stream",
     "text": [
      "2023-10-20 13:12:32.855599: I tensorflow/core/framework/local_rendezvous.cc:405] Local rendezvous recv item cancelled. Key hash: 14541092026103740123\n",
      "2023-10-20 13:12:32.861908: I tensorflow/core/framework/local_rendezvous.cc:405] Local rendezvous recv item cancelled. Key hash: 12414231050322713288\n",
      "2023-10-20 13:12:32.861934: I tensorflow/core/framework/local_rendezvous.cc:405] Local rendezvous recv item cancelled. Key hash: 16180197146222263964\n",
      "2023-10-20 13:14:39.281965: I tensorflow/core/framework/local_rendezvous.cc:405] Local rendezvous recv item cancelled. Key hash: 15053203262210092414\n",
      "2023-10-20 13:14:39.287488: I tensorflow/core/framework/local_rendezvous.cc:405] Local rendezvous recv item cancelled. Key hash: 4340312151314173204\n",
      "2023-10-20 13:14:39.287520: I tensorflow/core/framework/local_rendezvous.cc:405] Local rendezvous recv item cancelled. Key hash: 10110123543950772168\n"
     ]
    },
    {
     "name": "stdout",
     "output_type": "stream",
     "text": [
      "INFO:tensorflow:Assets written to: data/models/resnet-age-2023-10-20_13-03-55/assets\n"
     ]
    },
    {
     "name": "stderr",
     "output_type": "stream",
     "text": [
      "INFO:tensorflow:Assets written to: data/models/resnet-age-2023-10-20_13-03-55/assets\n"
     ]
    },
    {
     "name": "stdout",
     "output_type": "stream",
     "text": [
      "7479/7479 [==============================] - 648s 86ms/step - loss: 132.6500 - mse: 132.6500 - mae: 9.0489 - val_loss: 166.9662 - val_mse: 166.9662 - val_mae: 10.1294 - lr: 0.0010\n",
      "Epoch 2/10\n",
      "7479/7479 [==============================] - ETA: 0s - loss: 110.9823 - mse: 110.9823 - mae: 8.3008INFO:tensorflow:Assets written to: data/models/resnet-age-2023-10-20_13-03-55/assets\n"
     ]
    },
    {
     "name": "stderr",
     "output_type": "stream",
     "text": [
      "INFO:tensorflow:Assets written to: data/models/resnet-age-2023-10-20_13-03-55/assets\n"
     ]
    },
    {
     "name": "stdout",
     "output_type": "stream",
     "text": [
      "7479/7479 [==============================] - 639s 85ms/step - loss: 110.9823 - mse: 110.9823 - mae: 8.3008 - val_loss: 121.0742 - val_mse: 121.0742 - val_mae: 8.6843 - lr: 0.0010\n",
      "Epoch 3/10\n",
      "7479/7479 [==============================] - ETA: 0s - loss: 103.3611 - mse: 103.3611 - mae: 8.0033INFO:tensorflow:Assets written to: data/models/resnet-age-2023-10-20_13-03-55/assets\n"
     ]
    },
    {
     "name": "stderr",
     "output_type": "stream",
     "text": [
      "INFO:tensorflow:Assets written to: data/models/resnet-age-2023-10-20_13-03-55/assets\n"
     ]
    },
    {
     "name": "stdout",
     "output_type": "stream",
     "text": [
      "7479/7479 [==============================] - 638s 85ms/step - loss: 103.3611 - mse: 103.3611 - mae: 8.0033 - val_loss: 111.4024 - val_mse: 111.4024 - val_mae: 8.3394 - lr: 0.0010\n",
      "Epoch 4/10\n",
      "7479/7479 [==============================] - ETA: 0s - loss: 97.9494 - mse: 97.9494 - mae: 7.7870INFO:tensorflow:Assets written to: data/models/resnet-age-2023-10-20_13-03-55/assets\n"
     ]
    },
    {
     "name": "stderr",
     "output_type": "stream",
     "text": [
      "INFO:tensorflow:Assets written to: data/models/resnet-age-2023-10-20_13-03-55/assets\n"
     ]
    },
    {
     "name": "stdout",
     "output_type": "stream",
     "text": [
      "7479/7479 [==============================] - 639s 85ms/step - loss: 97.9494 - mse: 97.9494 - mae: 7.7870 - val_loss: 107.6368 - val_mse: 107.6368 - val_mae: 8.2027 - lr: 0.0010\n",
      "Epoch 5/10\n",
      "7479/7479 [==============================] - ETA: 0s - loss: 92.7121 - mse: 92.7121 - mae: 7.5751INFO:tensorflow:Assets written to: data/models/resnet-age-2023-10-20_13-03-55/assets\n"
     ]
    },
    {
     "name": "stderr",
     "output_type": "stream",
     "text": [
      "INFO:tensorflow:Assets written to: data/models/resnet-age-2023-10-20_13-03-55/assets\n"
     ]
    },
    {
     "name": "stdout",
     "output_type": "stream",
     "text": [
      "7479/7479 [==============================] - 641s 86ms/step - loss: 92.7121 - mse: 92.7121 - mae: 7.5751 - val_loss: 105.1838 - val_mse: 105.1838 - val_mae: 8.1106 - lr: 0.0010\n",
      "Epoch 6/10\n",
      "7479/7479 [==============================] - ETA: 0s - loss: 88.2587 - mse: 88.2587 - mae: 7.3947INFO:tensorflow:Assets written to: data/models/resnet-age-2023-10-20_13-03-55/assets\n"
     ]
    },
    {
     "name": "stderr",
     "output_type": "stream",
     "text": [
      "INFO:tensorflow:Assets written to: data/models/resnet-age-2023-10-20_13-03-55/assets\n"
     ]
    },
    {
     "name": "stdout",
     "output_type": "stream",
     "text": [
      "7479/7479 [==============================] - 643s 86ms/step - loss: 88.2587 - mse: 88.2587 - mae: 7.3947 - val_loss: 97.3065 - val_mse: 97.3065 - val_mae: 7.8055 - lr: 0.0010\n",
      "Epoch 7/10\n",
      "7479/7479 [==============================] - ETA: 0s - loss: 83.9215 - mse: 83.9215 - mae: 7.2141INFO:tensorflow:Assets written to: data/models/resnet-age-2023-10-20_13-03-55/assets\n"
     ]
    },
    {
     "name": "stderr",
     "output_type": "stream",
     "text": [
      "INFO:tensorflow:Assets written to: data/models/resnet-age-2023-10-20_13-03-55/assets\n"
     ]
    },
    {
     "name": "stdout",
     "output_type": "stream",
     "text": [
      "7479/7479 [==============================] - 644s 86ms/step - loss: 83.9215 - mse: 83.9215 - mae: 7.2141 - val_loss: 96.4789 - val_mse: 96.4789 - val_mae: 7.7926 - lr: 0.0010\n",
      "Epoch 8/10\n",
      "7479/7479 [==============================] - ETA: 0s - loss: 79.6919 - mse: 79.6919 - mae: 7.0364INFO:tensorflow:Assets written to: data/models/resnet-age-2023-10-20_13-03-55/assets\n"
     ]
    },
    {
     "name": "stderr",
     "output_type": "stream",
     "text": [
      "INFO:tensorflow:Assets written to: data/models/resnet-age-2023-10-20_13-03-55/assets\n"
     ]
    },
    {
     "name": "stdout",
     "output_type": "stream",
     "text": [
      "7479/7479 [==============================] - 641s 86ms/step - loss: 79.6919 - mse: 79.6919 - mae: 7.0364 - val_loss: 99.2426 - val_mse: 99.2426 - val_mae: 7.9275 - lr: 0.0010\n",
      "Epoch 9/10\n",
      "7479/7479 [==============================] - ETA: 0s - loss: 75.8964 - mse: 75.8964 - mae: 6.8676INFO:tensorflow:Assets written to: data/models/resnet-age-2023-10-20_13-03-55/assets\n"
     ]
    },
    {
     "name": "stderr",
     "output_type": "stream",
     "text": [
      "INFO:tensorflow:Assets written to: data/models/resnet-age-2023-10-20_13-03-55/assets\n"
     ]
    },
    {
     "name": "stdout",
     "output_type": "stream",
     "text": [
      "7479/7479 [==============================] - 642s 86ms/step - loss: 75.8964 - mse: 75.8964 - mae: 6.8676 - val_loss: 87.6635 - val_mse: 87.6635 - val_mae: 7.4072 - lr: 0.0010\n",
      "Epoch 10/10\n",
      "7479/7479 [==============================] - ETA: 0s - loss: 71.8023 - mse: 71.8023 - mae: 6.6899INFO:tensorflow:Assets written to: data/models/resnet-age-2023-10-20_13-03-55/assets\n"
     ]
    },
    {
     "name": "stderr",
     "output_type": "stream",
     "text": [
      "INFO:tensorflow:Assets written to: data/models/resnet-age-2023-10-20_13-03-55/assets\n"
     ]
    },
    {
     "name": "stdout",
     "output_type": "stream",
     "text": [
      "7479/7479 [==============================] - 641s 86ms/step - loss: 71.8023 - mse: 71.8023 - mae: 6.6899 - val_loss: 89.7037 - val_mse: 89.7037 - val_mae: 7.4743 - lr: 0.0010\n"
     ]
    },
    {
     "data": {
      "text/plain": [
       "<keras.src.callbacks.History at 0x7ff580667d30>"
      ]
     },
     "execution_count": 22,
     "metadata": {},
     "output_type": "execute_result"
    }
   ],
   "source": [
    "callbacks = [\n",
    "    tf.keras.callbacks.TerminateOnNaN(),\n",
    "    tf.keras.callbacks.ReduceLROnPlateau(),\n",
    "    tf.keras.callbacks.ModelCheckpoint(make_checkpoint_dir(\"data/models\", \"resnet-age\"))\n",
    "]\n",
    "\n",
    "model.fit(train_dataset, epochs=10, validation_data=val_dataset, callbacks=callbacks)"
   ]
  },
  {
   "cell_type": "code",
   "execution_count": 23,
   "metadata": {},
   "outputs": [],
   "source": [
    "model.save(\"data/models/resnet-age2.keras\")"
   ]
  },
  {
   "cell_type": "code",
   "execution_count": null,
   "metadata": {},
   "outputs": [],
   "source": []
  }
 ],
 "metadata": {
  "kernelspec": {
   "display_name": "Tensorflow 2.13.0",
   "language": "python",
   "name": "tensorflow-2.13.0"
  },
  "language_info": {
   "codemirror_mode": {
    "name": "ipython",
    "version": 3
   },
   "file_extension": ".py",
   "mimetype": "text/x-python",
   "name": "python",
   "nbconvert_exporter": "python",
   "pygments_lexer": "ipython3",
   "version": "3.10.12"
  }
 },
 "nbformat": 4,
 "nbformat_minor": 4
}
