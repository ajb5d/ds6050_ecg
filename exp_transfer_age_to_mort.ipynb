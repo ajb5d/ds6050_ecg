{
 "cells": [
  {
   "cell_type": "code",
   "execution_count": 1,
   "metadata": {},
   "outputs": [
    {
     "name": "stderr",
     "output_type": "stream",
     "text": [
      "2023-12-05 10:39:03.015352: I tensorflow/core/platform/cpu_feature_guard.cc:183] This TensorFlow binary is optimized to use available CPU instructions in performance-critical operations.\n",
      "To enable the following instructions: SSE3 SSE4.1 SSE4.2 AVX, in other operations, rebuild TensorFlow with the appropriate compiler flags.\n"
     ]
    }
   ],
   "source": [
    "import tensorflow as tf\n",
    "from tensorflow import keras\n",
    "import numpy as np\n",
    "from pathlib import Path"
   ]
  },
  {
   "cell_type": "code",
   "execution_count": 11,
   "metadata": {},
   "outputs": [],
   "source": [
    "DATA_PATH = Path(\"/scratch/ajb5d/ecg/tfrecords/\")\n",
    "TRAIN_RECS = list(DATA_PATH.glob(\"train*.tfrecords\"))\n",
    "VAL_RECS = list(DATA_PATH.glob(\"val*.tfrecords\"))\n",
    "\n",
    "BATCH_SIZE = 64\n",
    "\n",
    "record_format = {\n",
    "    'ecg/data': tf.io.FixedLenSequenceFeature([], tf.float32, allow_missing=True),\n",
    "    'age': tf.io.FixedLenFeature([], tf.float32),\n",
    "    'gender': tf.io.FixedLenFeature([], tf.int64),\n",
    "    'hospital_expire_flag': tf.io.FixedLenFeature([], tf.float32),\n",
    "    'icu_expire_flag': tf.io.FixedLenFeature([], tf.float32),\n",
    "}\n",
    "\n",
    "def _parse_record(record):\n",
    "    example = tf.io.parse_single_example(record, record_format)\n",
    "    ecg_data = tf.reshape(example['ecg/data'], [5000,12])\n",
    "    label = example['icu_expire_flag']\n",
    "    return (ecg_data, example['age'], example['gender']), label\n",
    "\n",
    "@tf.function\n",
    "def drop_na_labels(x,y):\n",
    "    return not tf.math.reduce_any(tf.math.is_nan(y))\n",
    "\n",
    "@tf.function\n",
    "def drop_na_age(x,y):\n",
    "    return not tf.math.reduce_any(tf.math.is_nan(x[1]))\n",
    "\n",
    "def load_dataset(filenames):\n",
    "    ignore_order = tf.data.Options()\n",
    "    ignore_order.experimental_deterministic = False\n",
    "    dataset = tf.data.TFRecordDataset(filenames)\n",
    "    dataset = dataset.with_options(ignore_order)\n",
    "    dataset = dataset.map(_parse_record, num_parallel_calls=tf.data.AUTOTUNE)\n",
    "    dataset = dataset.filter(drop_na_labels)\n",
    "    dataset = dataset.filter(drop_na_age)\n",
    "    return dataset\n",
    "\n",
    "def get_dataset(filenames, labeled=True):\n",
    "    dataset = load_dataset(filenames)\n",
    "    dataset = dataset.shuffle(2048)\n",
    "    dataset = dataset.prefetch(buffer_size=tf.data.AUTOTUNE)\n",
    "    dataset = dataset.batch(BATCH_SIZE)\n",
    "    return dataset\n",
    "\n",
    "train_dataset = get_dataset(TRAIN_RECS)\n",
    "val_dataset = get_dataset(VAL_RECS)"
   ]
  },
  {
   "cell_type": "code",
   "execution_count": 12,
   "metadata": {},
   "outputs": [],
   "source": [
    "model = keras.models.load_model(\"data/models/resnet-age.keras\")"
   ]
  },
  {
   "cell_type": "code",
   "execution_count": 13,
   "metadata": {},
   "outputs": [],
   "source": [
    "for i in range(len(model.layers)):\n",
    "    model.layers[i].trainable = False"
   ]
  },
  {
   "cell_type": "code",
   "execution_count": 14,
   "metadata": {},
   "outputs": [
    {
     "data": {
      "text/plain": [
       "<keras.src.layers.reshaping.flatten.Flatten at 0x7f226c64ce80>"
      ]
     },
     "execution_count": 14,
     "metadata": {},
     "output_type": "execute_result"
    }
   ],
   "source": [
    "model.layers[-2]"
   ]
  },
  {
   "cell_type": "code",
   "execution_count": 15,
   "metadata": {},
   "outputs": [],
   "source": [
    "x = model.layers[-2].output\n",
    "age_input = tf.keras.layers.Input(shape=(1,), name=\"age_input\")\n",
    "gender_input = tf.keras.layers.Input(shape=(1,), name=\"gender_input\")\n",
    "x = keras.layers.Add(name=\"merge\")([x, age_input, gender_input])\n",
    "x = tf.keras.layers.Dense(512, name=\"tl_dense_3\")(x)\n",
    "x = tf.keras.layers.Dense(1, activation='sigmoid', name = \"tl_dense_4\")(x)\n",
    "\n",
    "new_model = keras.Model([model.input, age_input, gender_input],outputs=x)\n",
    "\n",
    "new_model.compile(\n",
    "    optimizer='adam',\n",
    "    loss=tf.keras.losses.BinaryCrossentropy(),\n",
    "    metrics=['accuracy', tf.keras.metrics.AUC()]\n",
    ")"
   ]
  },
  {
   "cell_type": "code",
   "execution_count": 16,
   "metadata": {},
   "outputs": [
    {
     "name": "stdout",
     "output_type": "stream",
     "text": [
      "Model: tl-age-mort Run Path: data/models/tl-age-mort-2023-12-05_11-01-07\n"
     ]
    }
   ],
   "source": [
    "from datetime import datetime\n",
    "import os\n",
    "\n",
    "def make_checkpoint_dir(data_path, label):\n",
    "    current_datetime = datetime.now()\n",
    "    formatted_datetime = current_datetime.strftime(\"%Y-%m-%d_%H-%M-%S\")\n",
    "    output_dir = f\"{label}-{formatted_datetime}\"\n",
    "    output_path = f\"{data_path}/{output_dir}\"\n",
    "    \n",
    "    if not os.path.exists(output_path):\n",
    "        os.makedirs(output_path)\n",
    "    \n",
    "    return output_path\n",
    "\n",
    "model_name = \"tl-age-mort\"\n",
    "output_path = make_checkpoint_dir(\"data/models\", model_name)\n",
    "\n",
    "print(f\"Model: {model_name} Run Path: {output_path}\")"
   ]
  },
  {
   "cell_type": "code",
   "execution_count": 17,
   "metadata": {},
   "outputs": [
    {
     "name": "stdout",
     "output_type": "stream",
     "text": [
      "Epoch 1/10\n",
      "    453/Unknown - 56s 109ms/step - loss: 135.5873 - accuracy: 0.7430 - auc_1: 0.4978INFO:tensorflow:Assets written to: data/models/tl-age-mort-2023-12-05_11-01-07/assets\n"
     ]
    },
    {
     "name": "stderr",
     "output_type": "stream",
     "text": [
      "INFO:tensorflow:Assets written to: data/models/tl-age-mort-2023-12-05_11-01-07/assets\n"
     ]
    },
    {
     "name": "stdout",
     "output_type": "stream",
     "text": [
      "453/453 [==============================] - 80s 162ms/step - loss: 135.5873 - accuracy: 0.7430 - auc_1: 0.4978 - val_loss: 0.4474 - val_accuracy: 0.8493 - val_auc_1: 0.4757 - lr: 0.0010\n",
      "Epoch 2/10\n",
      "453/453 [==============================] - ETA: 0s - loss: 0.5127 - accuracy: 0.8314 - auc_1: 0.4966INFO:tensorflow:Assets written to: data/models/tl-age-mort-2023-12-05_11-01-07/assets\n"
     ]
    },
    {
     "name": "stderr",
     "output_type": "stream",
     "text": [
      "INFO:tensorflow:Assets written to: data/models/tl-age-mort-2023-12-05_11-01-07/assets\n"
     ]
    },
    {
     "name": "stdout",
     "output_type": "stream",
     "text": [
      "453/453 [==============================] - 76s 161ms/step - loss: 0.5127 - accuracy: 0.8314 - auc_1: 0.4966 - val_loss: 0.4384 - val_accuracy: 0.8493 - val_auc_1: 0.4750 - lr: 0.0010\n",
      "Epoch 3/10\n",
      "453/453 [==============================] - ETA: 0s - loss: 0.4713 - accuracy: 0.8404 - auc_1: 0.4902INFO:tensorflow:Assets written to: data/models/tl-age-mort-2023-12-05_11-01-07/assets\n"
     ]
    },
    {
     "name": "stderr",
     "output_type": "stream",
     "text": [
      "INFO:tensorflow:Assets written to: data/models/tl-age-mort-2023-12-05_11-01-07/assets\n"
     ]
    },
    {
     "name": "stdout",
     "output_type": "stream",
     "text": [
      "453/453 [==============================] - 68s 141ms/step - loss: 0.4713 - accuracy: 0.8404 - auc_1: 0.4902 - val_loss: 0.4377 - val_accuracy: 0.8493 - val_auc_1: 0.4752 - lr: 0.0010\n",
      "Epoch 4/10\n",
      "453/453 [==============================] - ETA: 0s - loss: 0.4594 - accuracy: 0.8404 - auc_1: 0.4816INFO:tensorflow:Assets written to: data/models/tl-age-mort-2023-12-05_11-01-07/assets\n"
     ]
    },
    {
     "name": "stderr",
     "output_type": "stream",
     "text": [
      "INFO:tensorflow:Assets written to: data/models/tl-age-mort-2023-12-05_11-01-07/assets\n"
     ]
    },
    {
     "name": "stdout",
     "output_type": "stream",
     "text": [
      "453/453 [==============================] - 67s 141ms/step - loss: 0.4594 - accuracy: 0.8404 - auc_1: 0.4816 - val_loss: 0.4384 - val_accuracy: 0.8493 - val_auc_1: 0.4759 - lr: 0.0010\n",
      "Epoch 5/10\n",
      "453/453 [==============================] - ETA: 0s - loss: 0.4577 - accuracy: 0.8404 - auc_1: 0.4837INFO:tensorflow:Assets written to: data/models/tl-age-mort-2023-12-05_11-01-07/assets\n"
     ]
    },
    {
     "name": "stderr",
     "output_type": "stream",
     "text": [
      "INFO:tensorflow:Assets written to: data/models/tl-age-mort-2023-12-05_11-01-07/assets\n"
     ]
    },
    {
     "name": "stdout",
     "output_type": "stream",
     "text": [
      "453/453 [==============================] - 69s 143ms/step - loss: 0.4577 - accuracy: 0.8404 - auc_1: 0.4837 - val_loss: 0.4357 - val_accuracy: 0.8493 - val_auc_1: 0.4761 - lr: 0.0010\n",
      "Epoch 6/10\n",
      "453/453 [==============================] - ETA: 0s - loss: 4.6857 - accuracy: 0.8267 - auc_1: 0.4896INFO:tensorflow:Assets written to: data/models/tl-age-mort-2023-12-05_11-01-07/assets\n"
     ]
    },
    {
     "name": "stderr",
     "output_type": "stream",
     "text": [
      "INFO:tensorflow:Assets written to: data/models/tl-age-mort-2023-12-05_11-01-07/assets\n"
     ]
    },
    {
     "name": "stdout",
     "output_type": "stream",
     "text": [
      "453/453 [==============================] - 116s 247ms/step - loss: 4.6857 - accuracy: 0.8267 - auc_1: 0.4896 - val_loss: 55.2917 - val_accuracy: 0.1507 - val_auc_1: 0.5000 - lr: 0.0010\n",
      "Epoch 7/10\n",
      "453/453 [==============================] - ETA: 0s - loss: 37.9607 - accuracy: 0.7347 - auc_1: 0.5032INFO:tensorflow:Assets written to: data/models/tl-age-mort-2023-12-05_11-01-07/assets\n"
     ]
    },
    {
     "name": "stderr",
     "output_type": "stream",
     "text": [
      "INFO:tensorflow:Assets written to: data/models/tl-age-mort-2023-12-05_11-01-07/assets\n"
     ]
    },
    {
     "name": "stdout",
     "output_type": "stream",
     "text": [
      "453/453 [==============================] - 155s 320ms/step - loss: 37.9607 - accuracy: 0.7347 - auc_1: 0.5032 - val_loss: 2.1571 - val_accuracy: 0.8493 - val_auc_1: 0.5033 - lr: 0.0010\n",
      "Epoch 8/10\n",
      "453/453 [==============================] - ETA: 0s - loss: 0.5531 - accuracy: 0.8257 - auc_1: 0.4869INFO:tensorflow:Assets written to: data/models/tl-age-mort-2023-12-05_11-01-07/assets\n"
     ]
    },
    {
     "name": "stderr",
     "output_type": "stream",
     "text": [
      "INFO:tensorflow:Assets written to: data/models/tl-age-mort-2023-12-05_11-01-07/assets\n"
     ]
    },
    {
     "name": "stdout",
     "output_type": "stream",
     "text": [
      "453/453 [==============================] - 137s 282ms/step - loss: 0.5531 - accuracy: 0.8257 - auc_1: 0.4869 - val_loss: 0.4347 - val_accuracy: 0.8493 - val_auc_1: 0.4760 - lr: 0.0010\n",
      "Epoch 9/10\n",
      "453/453 [==============================] - ETA: 0s - loss: 0.4742 - accuracy: 0.8404 - auc_1: 0.4874INFO:tensorflow:Assets written to: data/models/tl-age-mort-2023-12-05_11-01-07/assets\n"
     ]
    },
    {
     "name": "stderr",
     "output_type": "stream",
     "text": [
      "INFO:tensorflow:Assets written to: data/models/tl-age-mort-2023-12-05_11-01-07/assets\n"
     ]
    },
    {
     "name": "stdout",
     "output_type": "stream",
     "text": [
      "453/453 [==============================] - 88s 184ms/step - loss: 0.4742 - accuracy: 0.8404 - auc_1: 0.4874 - val_loss: 0.4475 - val_accuracy: 0.8493 - val_auc_1: 0.4755 - lr: 0.0010\n",
      "Epoch 10/10\n",
      "453/453 [==============================] - ETA: 0s - loss: 0.4648 - accuracy: 0.8404 - auc_1: 0.4899INFO:tensorflow:Assets written to: data/models/tl-age-mort-2023-12-05_11-01-07/assets\n"
     ]
    },
    {
     "name": "stderr",
     "output_type": "stream",
     "text": [
      "INFO:tensorflow:Assets written to: data/models/tl-age-mort-2023-12-05_11-01-07/assets\n"
     ]
    },
    {
     "name": "stdout",
     "output_type": "stream",
     "text": [
      "453/453 [==============================] - 82s 171ms/step - loss: 0.4648 - accuracy: 0.8404 - auc_1: 0.4899 - val_loss: 0.4399 - val_accuracy: 0.8493 - val_auc_1: 0.4755 - lr: 0.0010\n"
     ]
    }
   ],
   "source": [
    "callbacks = [\n",
    "    tf.keras.callbacks.TerminateOnNaN(),\n",
    "    tf.keras.callbacks.ReduceLROnPlateau(),\n",
    "    tf.keras.callbacks.ModelCheckpoint(output_path, save_best=True),\n",
    "    tf.keras.callbacks.CSVLogger(f\"data/models/{model_name}-history.csv\")\n",
    "]\n",
    "\n",
    "history = new_model.fit(train_dataset, epochs=10, validation_data=val_dataset, callbacks=callbacks)"
   ]
  },
  {
   "cell_type": "code",
   "execution_count": null,
   "metadata": {},
   "outputs": [],
   "source": []
  }
 ],
 "metadata": {
  "kernelspec": {
   "display_name": "Tensorflow 2.13.0",
   "language": "python",
   "name": "tensorflow-2.13.0"
  },
  "language_info": {
   "codemirror_mode": {
    "name": "ipython",
    "version": 3
   },
   "file_extension": ".py",
   "mimetype": "text/x-python",
   "name": "python",
   "nbconvert_exporter": "python",
   "pygments_lexer": "ipython3",
   "version": "3.10.12"
  }
 },
 "nbformat": 4,
 "nbformat_minor": 4
}
