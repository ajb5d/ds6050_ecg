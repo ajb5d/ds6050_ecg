{
 "cells": [
  {
   "cell_type": "code",
   "execution_count": 1,
   "metadata": {},
   "outputs": [
    {
     "name": "stderr",
     "output_type": "stream",
     "text": [
      "2023-10-24 12:36:18.352002: I tensorflow/core/platform/cpu_feature_guard.cc:183] This TensorFlow binary is optimized to use available CPU instructions in performance-critical operations.\n",
      "To enable the following instructions: SSE3 SSE4.1 SSE4.2 AVX, in other operations, rebuild TensorFlow with the appropriate compiler flags.\n"
     ]
    }
   ],
   "source": [
    "import tensorflow as tf\n",
    "from tensorflow.keras import layers\n",
    "import numpy as np\n",
    "from pathlib import Path"
   ]
  },
  {
   "cell_type": "code",
   "execution_count": 2,
   "metadata": {},
   "outputs": [],
   "source": [
    "DATA_PATH = Path(\"/scratch/ajb5d/ecg/tfrecords/\")\n",
    "TRAIN_RECS = list(DATA_PATH.glob(\"train*.tfrecords\"))\n",
    "VAL_RECS = list(DATA_PATH.glob(\"val*.tfrecords\"))"
   ]
  },
  {
   "cell_type": "code",
   "execution_count": 3,
   "metadata": {},
   "outputs": [],
   "source": [
    "BATCH_SIZE = 64\n",
    "\n",
    "record_format = {\n",
    "    'ecg/data': tf.io.FixedLenSequenceFeature([], tf.float32, allow_missing=True),\n",
    "    'age': tf.io.FixedLenFeature([], tf.float32),\n",
    "    'gender': tf.io.FixedLenFeature([], tf.int64),\n",
    "}\n",
    "\n",
    "def _parse_record(record):\n",
    "    example = tf.io.parse_single_example(record, record_format)\n",
    "    ecg_data = tf.reshape(example['ecg/data'], [5000,12])\n",
    "    label = example['age']\n",
    "    return ecg_data, label\n",
    "\n",
    "def drop_na_ages(x,y):\n",
    "    return not tf.math.reduce_any(tf.math.is_nan(y))\n",
    "\n",
    "def age_lt_90(x,y):\n",
    "    return tf.math.reduce_all(tf.math.less_equal(y, tf.constant([90.0])))\n",
    "\n",
    "def load_dataset(filenames):\n",
    "    ignore_order = tf.data.Options()\n",
    "    ignore_order.experimental_deterministic = False\n",
    "    dataset = tf.data.TFRecordDataset(filenames)\n",
    "    dataset = dataset.with_options(ignore_order)\n",
    "    dataset = dataset.map(_parse_record, num_parallel_calls=tf.data.AUTOTUNE)\n",
    "    dataset = dataset.filter(drop_na_ages)\n",
    "    dataset = dataset.filter(age_lt_90)\n",
    "    return dataset\n",
    "\n",
    "def get_dataset(filenames, labeled=True):\n",
    "    dataset = load_dataset(filenames)\n",
    "    dataset = dataset.shuffle(2048)\n",
    "    dataset = dataset.prefetch(buffer_size=tf.data.AUTOTUNE)\n",
    "    dataset = dataset.batch(BATCH_SIZE)\n",
    "    return dataset"
   ]
  },
  {
   "cell_type": "code",
   "execution_count": 4,
   "metadata": {},
   "outputs": [
    {
     "name": "stderr",
     "output_type": "stream",
     "text": [
      "2023-10-24 12:36:23.448270: I tensorflow/core/common_runtime/gpu/gpu_device.cc:1636] Created device /job:localhost/replica:0/task:0/device:GPU:0 with 38005 MB memory:  -> device: 0, name: NVIDIA A100-SXM4-40GB, pci bus id: 0000:07:00.0, compute capability: 8.0\n"
     ]
    }
   ],
   "source": [
    "train_dataset = get_dataset(TRAIN_RECS)\n",
    "val_dataset = get_dataset(VAL_RECS)"
   ]
  },
  {
   "cell_type": "code",
   "execution_count": 5,
   "metadata": {},
   "outputs": [],
   "source": [
    "from datetime import datetime\n",
    "import os\n",
    "\n",
    "def make_checkpoint_dir(data_path, label):\n",
    "    current_datetime = datetime.now()\n",
    "    formatted_datetime = current_datetime.strftime(\"%Y-%m-%d_%H-%M-%S\")\n",
    "    output_dir = f\"{label}-{formatted_datetime}\"\n",
    "    output_path = f\"{data_path}/{output_dir}\"\n",
    "    \n",
    "    if not os.path.exists(output_path):\n",
    "        os.makedirs(output_path)\n",
    "    \n",
    "    return output_path"
   ]
  },
  {
   "cell_type": "code",
   "execution_count": 6,
   "metadata": {},
   "outputs": [],
   "source": [
    "# tf.keras.mixed_precision.set_global_policy('mixed_float16')"
   ]
  },
  {
   "cell_type": "code",
   "execution_count": 7,
   "metadata": {},
   "outputs": [],
   "source": [
    "def residual_unit(x, y, n_samples_out, n_filters_out, prefix, kernel_size = 16):\n",
    "    n_samples_in = y.shape[1]\n",
    "    downsample = n_samples_in // n_samples_out\n",
    "    n_filters_in = y.shape[2]\n",
    "    \n",
    "    if downsample == 1:\n",
    "        y = y\n",
    "    else:\n",
    "        y = layers.MaxPooling1D(downsample, strides=downsample, padding='same', name = f\"{prefix}_mp_opt\")(y)\n",
    "        \n",
    "    if n_filters_in != n_filters_out:\n",
    "        y = layers.Conv1D(n_filters_out, 1, padding='same', use_bias=False, name = f\"{prefix}_conv_opt\")(y)\n",
    "        \n",
    "    x = layers.Conv1D(n_filters_out, kernel_size, padding='same', use_bias=False, name = f\"{prefix}_conv1\")(x)\n",
    "    x = layers.BatchNormalization(name = f\"{prefix}_bn1\")(x)\n",
    "    x = layers.Activation(\"relu\", name = f\"{prefix}_act1\")(x)\n",
    "    x = layers.Dropout(0.2, name = f\"{prefix}_dropout1\")(x)\n",
    "    x = layers.Conv1D(n_filters_out, kernel_size, strides=downsample, padding='same', use_bias=False, name = f\"{prefix}_conv2\")(x)\n",
    "\n",
    "    x = layers.Add(name = f\"{prefix}_add\")([x,y])\n",
    "    y = x\n",
    "    x = layers.BatchNormalization(name = f\"{prefix}_bn2\")(x)\n",
    "    x = layers.Activation(\"relu\", name = f\"{prefix}_act2\")(x)\n",
    "    x = layers.Dropout(0.2, name = f\"{prefix}_dropout2\")(x)\n",
    "    return (x,y)\n",
    "    \n",
    "input_layer = tf.keras.layers.Input(shape=(5000,12), name=\"input\")\n",
    "x = input_layer\n",
    "x = layers.Conv1D(64, 16, padding='same', use_bias=False, name = \"conv_1\")(x)\n",
    "x = layers.BatchNormalization(name=\"bn\")(x)\n",
    "x = layers.Activation(\"relu\", name=\"relu\")(x)\n",
    "\n",
    "x, y = residual_unit(x,x,1024,128, \"res1\")\n",
    "x, y = residual_unit(x,y,256,196, \"res2\")\n",
    "x, y = residual_unit(x,y,64,256, \"res3\")\n",
    "x, _ = residual_unit(x,y,16,320, \"res4\")\n",
    "\n",
    "x = tf.keras.layers.Flatten(name=\"flatten\")(x)\n",
    "x = tf.keras.layers.Dense(1, name=\"output\")(x)\n",
    "\n",
    "model = tf.keras.models.Model(input_layer, x)\n",
    "\n",
    "model.compile(\n",
    "    optimizer='adam',\n",
    "    loss=tf.keras.losses.MeanSquaredError(),\n",
    "    metrics=['mse', 'mae']\n",
    ")"
   ]
  },
  {
   "cell_type": "code",
   "execution_count": 8,
   "metadata": {},
   "outputs": [
    {
     "name": "stdout",
     "output_type": "stream",
     "text": [
      "Model: \"model\"\n",
      "__________________________________________________________________________________________________\n",
      " Layer (type)                Output Shape                 Param #   Connected to                  \n",
      "==================================================================================================\n",
      " input (InputLayer)          [(None, 5000, 12)]           0         []                            \n",
      "                                                                                                  \n",
      " conv_1 (Conv1D)             (None, 5000, 64)             12288     ['input[0][0]']               \n",
      "                                                                                                  \n",
      " bn (BatchNormalization)     (None, 5000, 64)             256       ['conv_1[0][0]']              \n",
      "                                                                                                  \n",
      " relu (Activation)           (None, 5000, 64)             0         ['bn[0][0]']                  \n",
      "                                                                                                  \n",
      " res1_conv1 (Conv1D)         (None, 5000, 128)            131072    ['relu[0][0]']                \n",
      "                                                                                                  \n",
      " res1_bn1 (BatchNormalizati  (None, 5000, 128)            512       ['res1_conv1[0][0]']          \n",
      " on)                                                                                              \n",
      "                                                                                                  \n",
      " res1_act1 (Activation)      (None, 5000, 128)            0         ['res1_bn1[0][0]']            \n",
      "                                                                                                  \n",
      " res1_dropout1 (Dropout)     (None, 5000, 128)            0         ['res1_act1[0][0]']           \n",
      "                                                                                                  \n",
      " res1_mp_opt (MaxPooling1D)  (None, 1250, 64)             0         ['relu[0][0]']                \n",
      "                                                                                                  \n",
      " res1_conv2 (Conv1D)         (None, 1250, 128)            262144    ['res1_dropout1[0][0]']       \n",
      "                                                                                                  \n",
      " res1_conv_opt (Conv1D)      (None, 1250, 128)            8192      ['res1_mp_opt[0][0]']         \n",
      "                                                                                                  \n",
      " res1_add (Add)              (None, 1250, 128)            0         ['res1_conv2[0][0]',          \n",
      "                                                                     'res1_conv_opt[0][0]']       \n",
      "                                                                                                  \n",
      " res1_bn2 (BatchNormalizati  (None, 1250, 128)            512       ['res1_add[0][0]']            \n",
      " on)                                                                                              \n",
      "                                                                                                  \n",
      " res1_act2 (Activation)      (None, 1250, 128)            0         ['res1_bn2[0][0]']            \n",
      "                                                                                                  \n",
      " res1_dropout2 (Dropout)     (None, 1250, 128)            0         ['res1_act2[0][0]']           \n",
      "                                                                                                  \n",
      " res2_conv1 (Conv1D)         (None, 1250, 196)            401408    ['res1_dropout2[0][0]']       \n",
      "                                                                                                  \n",
      " res2_bn1 (BatchNormalizati  (None, 1250, 196)            784       ['res2_conv1[0][0]']          \n",
      " on)                                                                                              \n",
      "                                                                                                  \n",
      " res2_act1 (Activation)      (None, 1250, 196)            0         ['res2_bn1[0][0]']            \n",
      "                                                                                                  \n",
      " res2_dropout1 (Dropout)     (None, 1250, 196)            0         ['res2_act1[0][0]']           \n",
      "                                                                                                  \n",
      " res2_mp_opt (MaxPooling1D)  (None, 313, 128)             0         ['res1_add[0][0]']            \n",
      "                                                                                                  \n",
      " res2_conv2 (Conv1D)         (None, 313, 196)             614656    ['res2_dropout1[0][0]']       \n",
      "                                                                                                  \n",
      " res2_conv_opt (Conv1D)      (None, 313, 196)             25088     ['res2_mp_opt[0][0]']         \n",
      "                                                                                                  \n",
      " res2_add (Add)              (None, 313, 196)             0         ['res2_conv2[0][0]',          \n",
      "                                                                     'res2_conv_opt[0][0]']       \n",
      "                                                                                                  \n",
      " res2_bn2 (BatchNormalizati  (None, 313, 196)             784       ['res2_add[0][0]']            \n",
      " on)                                                                                              \n",
      "                                                                                                  \n",
      " res2_act2 (Activation)      (None, 313, 196)             0         ['res2_bn2[0][0]']            \n",
      "                                                                                                  \n",
      " res2_dropout2 (Dropout)     (None, 313, 196)             0         ['res2_act2[0][0]']           \n",
      "                                                                                                  \n",
      " res3_conv1 (Conv1D)         (None, 313, 256)             802816    ['res2_dropout2[0][0]']       \n",
      "                                                                                                  \n",
      " res3_bn1 (BatchNormalizati  (None, 313, 256)             1024      ['res3_conv1[0][0]']          \n",
      " on)                                                                                              \n",
      "                                                                                                  \n",
      " res3_act1 (Activation)      (None, 313, 256)             0         ['res3_bn1[0][0]']            \n",
      "                                                                                                  \n",
      " res3_dropout1 (Dropout)     (None, 313, 256)             0         ['res3_act1[0][0]']           \n",
      "                                                                                                  \n",
      " res3_mp_opt (MaxPooling1D)  (None, 79, 196)              0         ['res2_add[0][0]']            \n",
      "                                                                                                  \n",
      " res3_conv2 (Conv1D)         (None, 79, 256)              1048576   ['res3_dropout1[0][0]']       \n",
      "                                                                                                  \n",
      " res3_conv_opt (Conv1D)      (None, 79, 256)              50176     ['res3_mp_opt[0][0]']         \n",
      "                                                                                                  \n",
      " res3_add (Add)              (None, 79, 256)              0         ['res3_conv2[0][0]',          \n",
      "                                                                     'res3_conv_opt[0][0]']       \n",
      "                                                                                                  \n",
      " res3_bn2 (BatchNormalizati  (None, 79, 256)              1024      ['res3_add[0][0]']            \n",
      " on)                                                                                              \n",
      "                                                                                                  \n",
      " res3_act2 (Activation)      (None, 79, 256)              0         ['res3_bn2[0][0]']            \n",
      "                                                                                                  \n",
      " res3_dropout2 (Dropout)     (None, 79, 256)              0         ['res3_act2[0][0]']           \n",
      "                                                                                                  \n",
      " res4_conv1 (Conv1D)         (None, 79, 320)              1310720   ['res3_dropout2[0][0]']       \n",
      "                                                                                                  \n",
      " res4_bn1 (BatchNormalizati  (None, 79, 320)              1280      ['res4_conv1[0][0]']          \n",
      " on)                                                                                              \n",
      "                                                                                                  \n",
      " res4_act1 (Activation)      (None, 79, 320)              0         ['res4_bn1[0][0]']            \n",
      "                                                                                                  \n",
      " res4_dropout1 (Dropout)     (None, 79, 320)              0         ['res4_act1[0][0]']           \n",
      "                                                                                                  \n",
      " res4_mp_opt (MaxPooling1D)  (None, 20, 256)              0         ['res3_add[0][0]']            \n",
      "                                                                                                  \n",
      " res4_conv2 (Conv1D)         (None, 20, 320)              1638400   ['res4_dropout1[0][0]']       \n",
      "                                                                                                  \n",
      " res4_conv_opt (Conv1D)      (None, 20, 320)              81920     ['res4_mp_opt[0][0]']         \n",
      "                                                                                                  \n",
      " res4_add (Add)              (None, 20, 320)              0         ['res4_conv2[0][0]',          \n",
      "                                                                     'res4_conv_opt[0][0]']       \n",
      "                                                                                                  \n",
      " res4_bn2 (BatchNormalizati  (None, 20, 320)              1280      ['res4_add[0][0]']            \n",
      " on)                                                                                              \n",
      "                                                                                                  \n",
      " res4_act2 (Activation)      (None, 20, 320)              0         ['res4_bn2[0][0]']            \n",
      "                                                                                                  \n",
      " res4_dropout2 (Dropout)     (None, 20, 320)              0         ['res4_act2[0][0]']           \n",
      "                                                                                                  \n",
      " flatten (Flatten)           (None, 6400)                 0         ['res4_dropout2[0][0]']       \n",
      "                                                                                                  \n",
      " output (Dense)              (None, 1)                    6401      ['flatten[0][0]']             \n",
      "                                                                                                  \n",
      "==================================================================================================\n",
      "Total params: 6401313 (24.42 MB)\n",
      "Trainable params: 6397585 (24.40 MB)\n",
      "Non-trainable params: 3728 (14.56 KB)\n",
      "__________________________________________________________________________________________________\n"
     ]
    }
   ],
   "source": [
    "model.summary()"
   ]
  },
  {
   "cell_type": "code",
   "execution_count": 9,
   "metadata": {},
   "outputs": [
    {
     "name": "stdout",
     "output_type": "stream",
     "text": [
      "Epoch 1/10\n"
     ]
    },
    {
     "name": "stderr",
     "output_type": "stream",
     "text": [
      "2023-10-24 12:36:27.728031: I tensorflow/compiler/xla/stream_executor/cuda/cuda_dnn.cc:432] Loaded cuDNN version 8904\n",
      "2023-10-24 12:36:29.194262: I tensorflow/compiler/xla/stream_executor/cuda/cuda_blas.cc:625] TensorFloat-32 will be used for the matrix multiplication. This will only be logged once.\n",
      "2023-10-24 12:36:29.222634: I tensorflow/compiler/xla/service/service.cc:168] XLA service 0x556216f137e0 initialized for platform CUDA (this does not guarantee that XLA will be used). Devices:\n",
      "2023-10-24 12:36:29.222663: I tensorflow/compiler/xla/service/service.cc:176]   StreamExecutor device (0): NVIDIA A100-SXM4-40GB, Compute Capability 8.0\n",
      "2023-10-24 12:36:29.298468: I tensorflow/compiler/mlir/tensorflow/utils/dump_mlir_util.cc:255] disabling MLIR crash reproducer, set env var `MLIR_CRASH_REPRODUCER_DIRECTORY` to enable.\n",
      "2023-10-24 12:36:29.790534: I ./tensorflow/compiler/jit/device_compiler.h:186] Compiled cluster using XLA!  This line is logged at most once for the lifetime of the process.\n"
     ]
    },
    {
     "name": "stdout",
     "output_type": "stream",
     "text": [
      "   7479/Unknown - 348s 45ms/step - loss: 129.9415 - mse: 129.9415 - mae: 8.9620"
     ]
    },
    {
     "name": "stderr",
     "output_type": "stream",
     "text": [
      "2023-10-24 12:42:12.798313: I tensorflow/core/framework/local_rendezvous.cc:405] Local rendezvous recv item cancelled. Key hash: 867966964585679167\n",
      "2023-10-24 12:42:12.798380: I tensorflow/core/framework/local_rendezvous.cc:405] Local rendezvous recv item cancelled. Key hash: 10565485202109207819\n"
     ]
    },
    {
     "name": "stdout",
     "output_type": "stream",
     "text": [
      "INFO:tensorflow:Assets written to: data/models/resnet-age-2023-10-24_12-36-24/assets\n"
     ]
    },
    {
     "name": "stderr",
     "output_type": "stream",
     "text": [
      "INFO:tensorflow:Assets written to: data/models/resnet-age-2023-10-24_12-36-24/assets\n"
     ]
    },
    {
     "name": "stdout",
     "output_type": "stream",
     "text": [
      "7479/7479 [==============================] - 387s 50ms/step - loss: 129.9415 - mse: 129.9415 - mae: 8.9620 - val_loss: 252.8519 - val_mse: 252.8519 - val_mae: 13.0084 - lr: 0.0010\n",
      "Epoch 2/10\n",
      "7479/7479 [==============================] - ETA: 0s - loss: 109.7644 - mse: 109.7644 - mae: 8.2475INFO:tensorflow:Assets written to: data/models/resnet-age-2023-10-24_12-36-24/assets\n"
     ]
    },
    {
     "name": "stderr",
     "output_type": "stream",
     "text": [
      "INFO:tensorflow:Assets written to: data/models/resnet-age-2023-10-24_12-36-24/assets\n"
     ]
    },
    {
     "name": "stdout",
     "output_type": "stream",
     "text": [
      "7479/7479 [==============================] - 363s 48ms/step - loss: 109.7644 - mse: 109.7644 - mae: 8.2475 - val_loss: 135.6952 - val_mse: 135.6952 - val_mae: 9.2527 - lr: 0.0010\n",
      "Epoch 3/10\n",
      "7478/7479 [============================>.] - ETA: 0s - loss: 102.6697 - mse: 102.6697 - mae: 7.9748INFO:tensorflow:Assets written to: data/models/resnet-age-2023-10-24_12-36-24/assets\n"
     ]
    },
    {
     "name": "stderr",
     "output_type": "stream",
     "text": [
      "INFO:tensorflow:Assets written to: data/models/resnet-age-2023-10-24_12-36-24/assets\n"
     ]
    },
    {
     "name": "stdout",
     "output_type": "stream",
     "text": [
      "7479/7479 [==============================] - 371s 50ms/step - loss: 102.6657 - mse: 102.6657 - mae: 7.9746 - val_loss: 128.2000 - val_mse: 128.2000 - val_mae: 9.0251 - lr: 0.0010\n",
      "Epoch 4/10\n",
      "7478/7479 [============================>.] - ETA: 0s - loss: 97.4257 - mse: 97.4257 - mae: 7.7667INFO:tensorflow:Assets written to: data/models/resnet-age-2023-10-24_12-36-24/assets\n"
     ]
    },
    {
     "name": "stderr",
     "output_type": "stream",
     "text": [
      "INFO:tensorflow:Assets written to: data/models/resnet-age-2023-10-24_12-36-24/assets\n"
     ]
    },
    {
     "name": "stdout",
     "output_type": "stream",
     "text": [
      "7479/7479 [==============================] - 363s 48ms/step - loss: 97.4262 - mse: 97.4262 - mae: 7.7667 - val_loss: 131.8983 - val_mse: 131.8983 - val_mae: 9.0574 - lr: 0.0010\n",
      "Epoch 5/10\n",
      "7478/7479 [============================>.] - ETA: 0s - loss: 92.8206 - mse: 92.8206 - mae: 7.5770INFO:tensorflow:Assets written to: data/models/resnet-age-2023-10-24_12-36-24/assets\n"
     ]
    },
    {
     "name": "stderr",
     "output_type": "stream",
     "text": [
      "INFO:tensorflow:Assets written to: data/models/resnet-age-2023-10-24_12-36-24/assets\n"
     ]
    },
    {
     "name": "stdout",
     "output_type": "stream",
     "text": [
      "7479/7479 [==============================] - 369s 49ms/step - loss: 92.8187 - mse: 92.8187 - mae: 7.5770 - val_loss: 113.2140 - val_mse: 113.2140 - val_mae: 8.4107 - lr: 0.0010\n",
      "Epoch 6/10\n",
      "7479/7479 [==============================] - ETA: 0s - loss: 88.5645 - mse: 88.5645 - mae: 7.4010INFO:tensorflow:Assets written to: data/models/resnet-age-2023-10-24_12-36-24/assets\n"
     ]
    },
    {
     "name": "stderr",
     "output_type": "stream",
     "text": [
      "INFO:tensorflow:Assets written to: data/models/resnet-age-2023-10-24_12-36-24/assets\n"
     ]
    },
    {
     "name": "stdout",
     "output_type": "stream",
     "text": [
      "7479/7479 [==============================] - 372s 50ms/step - loss: 88.5645 - mse: 88.5645 - mae: 7.4010 - val_loss: 119.7956 - val_mse: 119.7956 - val_mae: 8.6928 - lr: 0.0010\n",
      "Epoch 7/10\n",
      "7479/7479 [==============================] - ETA: 0s - loss: 84.6062 - mse: 84.6062 - mae: 7.2331INFO:tensorflow:Assets written to: data/models/resnet-age-2023-10-24_12-36-24/assets\n"
     ]
    },
    {
     "name": "stderr",
     "output_type": "stream",
     "text": [
      "INFO:tensorflow:Assets written to: data/models/resnet-age-2023-10-24_12-36-24/assets\n"
     ]
    },
    {
     "name": "stdout",
     "output_type": "stream",
     "text": [
      "7479/7479 [==============================] - 372s 50ms/step - loss: 84.6062 - mse: 84.6062 - mae: 7.2331 - val_loss: 122.5776 - val_mse: 122.5776 - val_mae: 8.7607 - lr: 0.0010\n",
      "Epoch 8/10\n",
      "7478/7479 [============================>.] - ETA: 0s - loss: 80.7642 - mse: 80.7642 - mae: 7.0770INFO:tensorflow:Assets written to: data/models/resnet-age-2023-10-24_12-36-24/assets\n"
     ]
    },
    {
     "name": "stderr",
     "output_type": "stream",
     "text": [
      "INFO:tensorflow:Assets written to: data/models/resnet-age-2023-10-24_12-36-24/assets\n"
     ]
    },
    {
     "name": "stdout",
     "output_type": "stream",
     "text": [
      "7479/7479 [==============================] - 373s 50ms/step - loss: 80.7634 - mse: 80.7634 - mae: 7.0769 - val_loss: 115.9289 - val_mse: 115.9289 - val_mae: 8.4490 - lr: 0.0010\n",
      "Epoch 9/10\n",
      "7479/7479 [==============================] - ETA: 0s - loss: 76.8870 - mse: 76.8870 - mae: 6.9049INFO:tensorflow:Assets written to: data/models/resnet-age-2023-10-24_12-36-24/assets\n"
     ]
    },
    {
     "name": "stderr",
     "output_type": "stream",
     "text": [
      "INFO:tensorflow:Assets written to: data/models/resnet-age-2023-10-24_12-36-24/assets\n"
     ]
    },
    {
     "name": "stdout",
     "output_type": "stream",
     "text": [
      "7479/7479 [==============================] - 368s 49ms/step - loss: 76.8870 - mse: 76.8870 - mae: 6.9049 - val_loss: 131.3269 - val_mse: 131.3269 - val_mae: 9.1370 - lr: 0.0010\n",
      "Epoch 10/10\n",
      "7479/7479 [==============================] - ETA: 0s - loss: 73.4709 - mse: 73.4709 - mae: 6.7521INFO:tensorflow:Assets written to: data/models/resnet-age-2023-10-24_12-36-24/assets\n"
     ]
    },
    {
     "name": "stderr",
     "output_type": "stream",
     "text": [
      "INFO:tensorflow:Assets written to: data/models/resnet-age-2023-10-24_12-36-24/assets\n"
     ]
    },
    {
     "name": "stdout",
     "output_type": "stream",
     "text": [
      "7479/7479 [==============================] - 370s 49ms/step - loss: 73.4709 - mse: 73.4709 - mae: 6.7521 - val_loss: 115.5837 - val_mse: 115.5837 - val_mae: 8.4987 - lr: 0.0010\n"
     ]
    },
    {
     "data": {
      "text/plain": [
       "<keras.src.callbacks.History at 0x7f26405679a0>"
      ]
     },
     "execution_count": 9,
     "metadata": {},
     "output_type": "execute_result"
    }
   ],
   "source": [
    "callbacks = [\n",
    "    tf.keras.callbacks.TerminateOnNaN(),\n",
    "    tf.keras.callbacks.ReduceLROnPlateau(),\n",
    "    tf.keras.callbacks.ModelCheckpoint(make_checkpoint_dir(\"data/models\", \"resnet-age\"))\n",
    "]\n",
    "\n",
    "model.fit(train_dataset, epochs=10, validation_data=val_dataset, callbacks=callbacks)"
   ]
  },
  {
   "cell_type": "code",
   "execution_count": 10,
   "metadata": {},
   "outputs": [],
   "source": [
    "model.save(\"data/models/resnet-age.keras\")"
   ]
  },
  {
   "cell_type": "code",
   "execution_count": null,
   "metadata": {},
   "outputs": [],
   "source": []
  }
 ],
 "metadata": {
  "kernelspec": {
   "display_name": "Tensorflow 2.13.0",
   "language": "python",
   "name": "tensorflow-2.13.0"
  },
  "language_info": {
   "codemirror_mode": {
    "name": "ipython",
    "version": 3
   },
   "file_extension": ".py",
   "mimetype": "text/x-python",
   "name": "python",
   "nbconvert_exporter": "python",
   "pygments_lexer": "ipython3",
   "version": "3.10.12"
  }
 },
 "nbformat": 4,
 "nbformat_minor": 4
}
