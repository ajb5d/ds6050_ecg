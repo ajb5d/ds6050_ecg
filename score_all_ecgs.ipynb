{
 "cells": [
  {
   "cell_type": "code",
   "execution_count": 13,
   "metadata": {},
   "outputs": [],
   "source": [
    "import pandas as pd\n",
    "import tensorflow as tf\n",
    "from pathlib import Path\n",
    "import numpy as np\n",
    "from json import dump\n",
    "from pathlib import Path"
   ]
  },
  {
   "cell_type": "code",
   "execution_count": 14,
   "metadata": {},
   "outputs": [],
   "source": [
    "DATA_PATH = Path(\"/scratch/ajb5d/ecg/tfrecords/\")\n",
    "ALL_RECS = list(DATA_PATH.glob(\"*.tfrecords\"))"
   ]
  },
  {
   "cell_type": "code",
   "execution_count": 15,
   "metadata": {},
   "outputs": [],
   "source": [
    "BATCH_SIZE = 512\n",
    "\n",
    "record_format = {\n",
    "    'ecg/data': tf.io.FixedLenSequenceFeature([], tf.float32, allow_missing=True),\n",
    "    'file_name': tf.io.FixedLenFeature([], tf.int64),\n",
    "    'hospital_expire_flag': tf.io.FixedLenFeature([], tf.float32),\n",
    "}\n",
    "\n",
    "def _parse_record(record):\n",
    "    example = tf.io.parse_single_example(record, record_format)\n",
    "    ecg_data = tf.reshape(example['ecg/data'], [5000,12])\n",
    "    return ecg_data, example['file_name']\n",
    "\n",
    "def load_dataset(filenames):\n",
    "    ignore_order = tf.data.Options()\n",
    "    ignore_order.experimental_deterministic = False\n",
    "    dataset = tf.data.TFRecordDataset(filenames)\n",
    "    dataset = dataset.with_options(ignore_order)\n",
    "    dataset = dataset.map(_parse_record, num_parallel_calls=tf.data.AUTOTUNE)\n",
    "    return dataset\n",
    "\n",
    "def get_dataset(filenames, labeled=True):\n",
    "    dataset = load_dataset(filenames)\n",
    "    dataset = dataset.prefetch(buffer_size=tf.data.AUTOTUNE)\n",
    "    dataset = dataset.batch(BATCH_SIZE)\n",
    "    return dataset"
   ]
  },
  {
   "cell_type": "code",
   "execution_count": 16,
   "metadata": {},
   "outputs": [],
   "source": [
    "all_recs = get_dataset(ALL_RECS)"
   ]
  },
  {
   "cell_type": "code",
   "execution_count": 19,
   "metadata": {},
   "outputs": [
    {
     "name": "stdout",
     "output_type": "stream",
     "text": [
      "resnet-age\n",
      "skipping -- model is older than results\n",
      "cnn-age\n",
      "skipping -- model is older than results\n",
      "resnet-potassium\n",
      "skipping -- model is older than results\n",
      "cnn-potassium\n"
     ]
    },
    {
     "name": "stderr",
     "output_type": "stream",
     "text": [
      "2023-11-29 15:49:11.541725: I tensorflow/compiler/xla/service/service.cc:168] XLA service 0x7f71cf81a710 initialized for platform CUDA (this does not guarantee that XLA will be used). Devices:\n",
      "2023-11-29 15:49:11.541771: I tensorflow/compiler/xla/service/service.cc:176]   StreamExecutor device (0): NVIDIA A100-SXM4-80GB, Compute Capability 8.0\n",
      "2023-11-29 15:49:13.239398: I ./tensorflow/compiler/jit/device_compiler.h:186] Compiled cluster using XLA!  This line is logged at most once for the lifetime of the process.\n",
      "\n",
      "KeyboardInterrupt\n",
      "\n"
     ]
    }
   ],
   "source": [
    "MODELS = ['resnet-age', 'cnn-age', 'resnet-potassium', 'cnn-potassium', 'cnn-gender', 'resnet-gender', 'cnn-sodium', 'resnet-sodium']\n",
    "for model_name in MODELS:\n",
    "    input_path = Path(f\"data/models/{model_name}.keras\")\n",
    "    output_path = Path(f\"data/{model_name}-scores.json\")\n",
    "    \n",
    "    print(model_name)\n",
    "    if output_path.exists() and input_path.stat().st_mtime < output_path.stat().st_mtime:\n",
    "        print(\"skipping -- model is older than results\")\n",
    "        continue\n",
    "    \n",
    "    model = tf.keras.models.load_model(str(input_path))\n",
    "    \n",
    "    results = {}\n",
    "    for batch in all_recs:\n",
    "        preds = model.predict(batch[0], batch_size=BATCH_SIZE, verbose = 0)\n",
    "        for age, study in zip(preds, batch[1]):\n",
    "            results[study.numpy()] = age[0]\n",
    "\n",
    "    results2 = {}\n",
    "    for x in results.keys():\n",
    "        results2[int(x)] =  float(results[x])\n",
    "    \n",
    "    \n",
    "    with open(output_path, \"w\") as fh:\n",
    "        dump(results2, fh)"
   ]
  },
  {
   "cell_type": "code",
   "execution_count": null,
   "metadata": {},
   "outputs": [],
   "source": []
  }
 ],
 "metadata": {
  "kernelspec": {
   "display_name": "Tensorflow 2.13.0",
   "language": "python",
   "name": "tensorflow-2.13.0"
  },
  "language_info": {
   "codemirror_mode": {
    "name": "ipython",
    "version": 3
   },
   "file_extension": ".py",
   "mimetype": "text/x-python",
   "name": "python",
   "nbconvert_exporter": "python",
   "pygments_lexer": "ipython3",
   "version": "3.10.12"
  }
 },
 "nbformat": 4,
 "nbformat_minor": 4
}
