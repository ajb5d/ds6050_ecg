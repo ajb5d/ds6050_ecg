{
 "cells": [
  {
   "cell_type": "code",
   "execution_count": 1,
   "metadata": {},
   "outputs": [
    {
     "name": "stderr",
     "output_type": "stream",
     "text": [
      "2023-10-24 15:17:20.174559: I tensorflow/core/platform/cpu_feature_guard.cc:183] This TensorFlow binary is optimized to use available CPU instructions in performance-critical operations.\n",
      "To enable the following instructions: SSE3 SSE4.1 SSE4.2 AVX, in other operations, rebuild TensorFlow with the appropriate compiler flags.\n"
     ]
    }
   ],
   "source": [
    "import tensorflow as tf\n",
    "import numpy as np\n",
    "from pathlib import Path"
   ]
  },
  {
   "cell_type": "code",
   "execution_count": 2,
   "metadata": {},
   "outputs": [],
   "source": [
    "DATA_PATH = Path(\"/scratch/ajb5d/ecg/tfrecords/\")\n",
    "TRAIN_RECS = list(DATA_PATH.glob(\"train*.tfrecords\"))\n",
    "VAL_RECS = list(DATA_PATH.glob(\"val*.tfrecords\"))"
   ]
  },
  {
   "cell_type": "code",
   "execution_count": 3,
   "metadata": {},
   "outputs": [],
   "source": [
    "BATCH_SIZE = 64\n",
    "\n",
    "record_format = {\n",
    "    'ecg/data': tf.io.FixedLenSequenceFeature([], tf.float32, allow_missing=True),\n",
    "    'age': tf.io.FixedLenFeature([], tf.float32),\n",
    "    'gender': tf.io.FixedLenFeature([], tf.int64),\n",
    "}\n",
    "\n",
    "def _parse_record(record):\n",
    "    example = tf.io.parse_single_example(record, record_format)\n",
    "    ecg_data = tf.reshape(example['ecg/data'], [5000,12])\n",
    "    label = example['gender']\n",
    "    return ecg_data, label\n",
    "\n",
    "def load_dataset(filenames):\n",
    "    ignore_order = tf.data.Options()\n",
    "    ignore_order.experimental_deterministic = False\n",
    "    dataset = tf.data.TFRecordDataset(filenames)\n",
    "    dataset = dataset.with_options(ignore_order)\n",
    "    dataset = dataset.map(_parse_record, num_parallel_calls=tf.data.AUTOTUNE)\n",
    "    return dataset\n",
    "\n",
    "def get_dataset(filenames, labeled=True):\n",
    "    dataset = load_dataset(filenames)\n",
    "    dataset = dataset.shuffle(2048)\n",
    "    dataset = dataset.prefetch(buffer_size=tf.data.AUTOTUNE)\n",
    "    dataset = dataset.batch(BATCH_SIZE)\n",
    "    return dataset"
   ]
  },
  {
   "cell_type": "code",
   "execution_count": 4,
   "metadata": {},
   "outputs": [
    {
     "name": "stderr",
     "output_type": "stream",
     "text": [
      "2023-10-24 15:17:25.477253: I tensorflow/core/common_runtime/gpu/gpu_device.cc:1636] Created device /job:localhost/replica:0/task:0/device:GPU:0 with 38006 MB memory:  -> device: 0, name: NVIDIA A100-SXM4-40GB, pci bus id: 0000:07:00.0, compute capability: 8.0\n"
     ]
    }
   ],
   "source": [
    "train_dataset = get_dataset(TRAIN_RECS)\n",
    "val_dataset = get_dataset(VAL_RECS)"
   ]
  },
  {
   "cell_type": "code",
   "execution_count": 5,
   "metadata": {},
   "outputs": [],
   "source": [
    "def conv_block(x, n, k, mp):\n",
    "    x = tf.keras.layers.Conv1D(n, k, padding='same', use_bias=False)(x)\n",
    "    x = tf.keras.layers.BatchNormalization()(x)\n",
    "    x = tf.keras.layers.Activation('relu')(x)\n",
    "    if mp:\n",
    "        x = tf.keras.layers.MaxPooling1D(mp)(x)\n",
    "\n",
    "    return x\n",
    "\n",
    "input_layer = tf.keras.layers.Input(shape=(5000,12))\n",
    "x = input_layer\n",
    "\n",
    "x = conv_block(x, 16, 7, 2)\n",
    "x = conv_block(x, 16, 5, 4)\n",
    "x = conv_block(x, 32, 5, 2)\n",
    "x = conv_block(x, 32, 5, 4)\n",
    "x = conv_block(x, 64, 5, 2)\n",
    "x = conv_block(x, 64, 3, 2)\n",
    "x = conv_block(x, 64, 3, 2)\n",
    "x = conv_block(x, 64, 3, 2)\n",
    "\n",
    "x = tf.keras.layers.Conv1D(128, 12, padding = 'same', data_format = 'channels_first')(x)\n",
    "x = tf.keras.layers.BatchNormalization()(x)\n",
    "x = tf.keras.layers.Activation('relu')(x)\n",
    "x = tf.keras.layers.MaxPooling1D()(x)\n",
    "\n",
    "x = tf.keras.layers.Flatten()(x)\n",
    "x = tf.keras.layers.Dense(128)(x)\n",
    "x = tf.keras.layers.BatchNormalization()(x)\n",
    "x = tf.keras.layers.Activation('relu')(x)\n",
    "x = tf.keras.layers.Dropout(0.5)(x)\n",
    "x = tf.keras.layers.Dense(64)(x)\n",
    "x = tf.keras.layers.BatchNormalization()(x)\n",
    "x = tf.keras.layers.Activation('relu')(x)\n",
    "x = tf.keras.layers.Dropout(0.5)(x)\n",
    "x = tf.keras.layers.Dense(1, activation='sigmoid')(x)\n",
    "\n",
    "model = tf.keras.models.Model(input_layer, x)\n",
    "\n",
    "model.compile(\n",
    "    optimizer='adam',\n",
    "    loss=tf.keras.losses.BinaryCrossentropy(),\n",
    "    metrics=['accuracy', tf.keras.metrics.AUC()]\n",
    ")"
   ]
  },
  {
   "cell_type": "code",
   "execution_count": 6,
   "metadata": {},
   "outputs": [],
   "source": [
    "from datetime import datetime\n",
    "import os\n",
    "\n",
    "def make_checkpoint_dir(data_path, label):\n",
    "    current_datetime = datetime.now()\n",
    "    formatted_datetime = current_datetime.strftime(\"%Y-%m-%d_%H-%M-%S\")\n",
    "    output_dir = f\"{label}-{formatted_datetime}\"\n",
    "    output_path = f\"{data_path}/{output_dir}\"\n",
    "    \n",
    "    if not os.path.exists(output_path):\n",
    "        os.makedirs(output_path)\n",
    "    \n",
    "    return output_path\n",
    "\n",
    "model_name = \"cnn-gender\"\n",
    "output_path = make_checkpoint_dir(\"data/models\", model_name)\n",
    "\n",
    "print(f\"Model: {model_name} Run Path: {output_path}\")"
   ]
  },
  {
   "cell_type": "code",
   "execution_count": 7,
   "metadata": {},
   "outputs": [
    {
     "name": "stdout",
     "output_type": "stream",
     "text": [
      "Epoch 1/10\n"
     ]
    },
    {
     "name": "stderr",
     "output_type": "stream",
     "text": [
      "2023-10-24 15:17:30.020665: I tensorflow/compiler/xla/stream_executor/cuda/cuda_dnn.cc:432] Loaded cuDNN version 8904\n",
      "2023-10-24 15:17:30.909698: I tensorflow/compiler/xla/stream_executor/cuda/cuda_blas.cc:625] TensorFloat-32 will be used for the matrix multiplication. This will only be logged once.\n",
      "2023-10-24 15:17:31.257657: I tensorflow/compiler/xla/service/service.cc:168] XLA service 0x7f18ad485fe0 initialized for platform CUDA (this does not guarantee that XLA will be used). Devices:\n",
      "2023-10-24 15:17:31.257717: I tensorflow/compiler/xla/service/service.cc:176]   StreamExecutor device (0): NVIDIA A100-SXM4-40GB, Compute Capability 8.0\n",
      "2023-10-24 15:17:31.333040: I tensorflow/compiler/mlir/tensorflow/utils/dump_mlir_util.cc:255] disabling MLIR crash reproducer, set env var `MLIR_CRASH_REPRODUCER_DIRECTORY` to enable.\n",
      "2023-10-24 15:17:31.824146: I ./tensorflow/compiler/jit/device_compiler.h:186] Compiled cluster using XLA!  This line is logged at most once for the lifetime of the process.\n"
     ]
    },
    {
     "name": "stdout",
     "output_type": "stream",
     "text": [
      "   7851/Unknown - 169s 20ms/step - loss: 0.5033 - accuracy: 0.7548 - auc: 0.8341"
     ]
    },
    {
     "name": "stderr",
     "output_type": "stream",
     "text": [
      "2023-10-24 15:20:15.403323: I tensorflow/core/framework/local_rendezvous.cc:405] Local rendezvous recv item cancelled. Key hash: 15189529740224460961\n",
      "2023-10-24 15:20:15.403405: I tensorflow/core/framework/local_rendezvous.cc:405] Local rendezvous recv item cancelled. Key hash: 14847708875366506006\n"
     ]
    },
    {
     "name": "stdout",
     "output_type": "stream",
     "text": [
      "INFO:tensorflow:Assets written to: data/models/cnn-gender-2023-10-24_15-17-26/assets\n"
     ]
    },
    {
     "name": "stderr",
     "output_type": "stream",
     "text": [
      "INFO:tensorflow:Assets written to: data/models/cnn-gender-2023-10-24_15-17-26/assets\n"
     ]
    },
    {
     "name": "stdout",
     "output_type": "stream",
     "text": [
      "7851/7851 [==============================] - 206s 25ms/step - loss: 0.5033 - accuracy: 0.7548 - auc: 0.8341 - val_loss: 0.5491 - val_accuracy: 0.7256 - val_auc: 0.8149 - lr: 0.0010\n",
      "Epoch 2/10\n",
      "7851/7851 [==============================] - ETA: 0s - loss: 0.4507 - accuracy: 0.7911 - auc: 0.8711INFO:tensorflow:Assets written to: data/models/cnn-gender-2023-10-24_15-17-26/assets\n"
     ]
    },
    {
     "name": "stderr",
     "output_type": "stream",
     "text": [
      "INFO:tensorflow:Assets written to: data/models/cnn-gender-2023-10-24_15-17-26/assets\n"
     ]
    },
    {
     "name": "stdout",
     "output_type": "stream",
     "text": [
      "7851/7851 [==============================] - 185s 24ms/step - loss: 0.4507 - accuracy: 0.7911 - auc: 0.8711 - val_loss: 0.5694 - val_accuracy: 0.7272 - val_auc: 0.8350 - lr: 0.0010\n",
      "Epoch 3/10\n",
      "7851/7851 [==============================] - ETA: 0s - loss: 0.4324 - accuracy: 0.8021 - auc: 0.8825INFO:tensorflow:Assets written to: data/models/cnn-gender-2023-10-24_15-17-26/assets\n"
     ]
    },
    {
     "name": "stderr",
     "output_type": "stream",
     "text": [
      "INFO:tensorflow:Assets written to: data/models/cnn-gender-2023-10-24_15-17-26/assets\n"
     ]
    },
    {
     "name": "stdout",
     "output_type": "stream",
     "text": [
      "7851/7851 [==============================] - 187s 24ms/step - loss: 0.4324 - accuracy: 0.8021 - auc: 0.8825 - val_loss: 0.4793 - val_accuracy: 0.7723 - val_auc: 0.8572 - lr: 0.0010\n",
      "Epoch 4/10\n",
      "7849/7851 [============================>.] - ETA: 0s - loss: 0.4206 - accuracy: 0.8091 - auc: 0.8892INFO:tensorflow:Assets written to: data/models/cnn-gender-2023-10-24_15-17-26/assets\n"
     ]
    },
    {
     "name": "stderr",
     "output_type": "stream",
     "text": [
      "INFO:tensorflow:Assets written to: data/models/cnn-gender-2023-10-24_15-17-26/assets\n"
     ]
    },
    {
     "name": "stdout",
     "output_type": "stream",
     "text": [
      "7851/7851 [==============================] - 183s 23ms/step - loss: 0.4206 - accuracy: 0.8091 - auc: 0.8892 - val_loss: 0.5008 - val_accuracy: 0.7656 - val_auc: 0.8636 - lr: 0.0010\n",
      "Epoch 5/10\n",
      "7850/7851 [============================>.] - ETA: 0s - loss: 0.4121 - accuracy: 0.8144 - auc: 0.8942INFO:tensorflow:Assets written to: data/models/cnn-gender-2023-10-24_15-17-26/assets\n"
     ]
    },
    {
     "name": "stderr",
     "output_type": "stream",
     "text": [
      "INFO:tensorflow:Assets written to: data/models/cnn-gender-2023-10-24_15-17-26/assets\n"
     ]
    },
    {
     "name": "stdout",
     "output_type": "stream",
     "text": [
      "7851/7851 [==============================] - 182s 23ms/step - loss: 0.4121 - accuracy: 0.8144 - auc: 0.8942 - val_loss: 0.4806 - val_accuracy: 0.7786 - val_auc: 0.8630 - lr: 0.0010\n",
      "Epoch 6/10\n",
      "7849/7851 [============================>.] - ETA: 0s - loss: 0.4037 - accuracy: 0.8194 - auc: 0.8987INFO:tensorflow:Assets written to: data/models/cnn-gender-2023-10-24_15-17-26/assets\n"
     ]
    },
    {
     "name": "stderr",
     "output_type": "stream",
     "text": [
      "INFO:tensorflow:Assets written to: data/models/cnn-gender-2023-10-24_15-17-26/assets\n"
     ]
    },
    {
     "name": "stdout",
     "output_type": "stream",
     "text": [
      "7851/7851 [==============================] - 180s 23ms/step - loss: 0.4037 - accuracy: 0.8194 - auc: 0.8987 - val_loss: 0.4626 - val_accuracy: 0.7862 - val_auc: 0.8699 - lr: 0.0010\n",
      "Epoch 7/10\n",
      "7850/7851 [============================>.] - ETA: 0s - loss: 0.3972 - accuracy: 0.8231 - auc: 0.9021INFO:tensorflow:Assets written to: data/models/cnn-gender-2023-10-24_15-17-26/assets\n"
     ]
    },
    {
     "name": "stderr",
     "output_type": "stream",
     "text": [
      "INFO:tensorflow:Assets written to: data/models/cnn-gender-2023-10-24_15-17-26/assets\n"
     ]
    },
    {
     "name": "stdout",
     "output_type": "stream",
     "text": [
      "7851/7851 [==============================] - 178s 23ms/step - loss: 0.3972 - accuracy: 0.8231 - auc: 0.9021 - val_loss: 0.5393 - val_accuracy: 0.7524 - val_auc: 0.8586 - lr: 0.0010\n",
      "Epoch 8/10\n",
      "7850/7851 [============================>.] - ETA: 0s - loss: 0.3914 - accuracy: 0.8268 - auc: 0.9051INFO:tensorflow:Assets written to: data/models/cnn-gender-2023-10-24_15-17-26/assets\n"
     ]
    },
    {
     "name": "stderr",
     "output_type": "stream",
     "text": [
      "INFO:tensorflow:Assets written to: data/models/cnn-gender-2023-10-24_15-17-26/assets\n"
     ]
    },
    {
     "name": "stdout",
     "output_type": "stream",
     "text": [
      "7851/7851 [==============================] - 186s 24ms/step - loss: 0.3914 - accuracy: 0.8268 - auc: 0.9051 - val_loss: 0.4730 - val_accuracy: 0.7841 - val_auc: 0.8691 - lr: 0.0010\n",
      "Epoch 9/10\n",
      "7849/7851 [============================>.] - ETA: 0s - loss: 0.3862 - accuracy: 0.8291 - auc: 0.9078INFO:tensorflow:Assets written to: data/models/cnn-gender-2023-10-24_15-17-26/assets\n"
     ]
    },
    {
     "name": "stderr",
     "output_type": "stream",
     "text": [
      "INFO:tensorflow:Assets written to: data/models/cnn-gender-2023-10-24_15-17-26/assets\n"
     ]
    },
    {
     "name": "stdout",
     "output_type": "stream",
     "text": [
      "7851/7851 [==============================] - 184s 23ms/step - loss: 0.3862 - accuracy: 0.8291 - auc: 0.9078 - val_loss: 0.4696 - val_accuracy: 0.7859 - val_auc: 0.8697 - lr: 0.0010\n",
      "Epoch 10/10\n",
      "7850/7851 [============================>.] - ETA: 0s - loss: 0.3814 - accuracy: 0.8317 - auc: 0.9101INFO:tensorflow:Assets written to: data/models/cnn-gender-2023-10-24_15-17-26/assets\n"
     ]
    },
    {
     "name": "stderr",
     "output_type": "stream",
     "text": [
      "INFO:tensorflow:Assets written to: data/models/cnn-gender-2023-10-24_15-17-26/assets\n"
     ]
    },
    {
     "name": "stdout",
     "output_type": "stream",
     "text": [
      "7851/7851 [==============================] - 188s 24ms/step - loss: 0.3814 - accuracy: 0.8317 - auc: 0.9101 - val_loss: 0.4827 - val_accuracy: 0.7774 - val_auc: 0.8658 - lr: 0.0010\n"
     ]
    },
    {
     "data": {
      "text/plain": [
       "<keras.src.callbacks.History at 0x7f1927f35f00>"
      ]
     },
     "execution_count": 7,
     "metadata": {},
     "output_type": "execute_result"
    }
   ],
   "source": [
    "callbacks = [\n",
    "    tf.keras.callbacks.TerminateOnNaN(),\n",
    "    tf.keras.callbacks.ReduceLROnPlateau(),\n",
    "    tf.keras.callbacks.ModelCheckpoint(output_path, save_best=True),\n",
    "    tf.keras.callbacks.CSVLogger(f\"data/models/{model_name}-history.csv\")\n",
    "]\n",
    "\n",
    "history = model.fit(train_dataset, epochs=50, validation_data=val_dataset, callbacks=callbacks)"
   ]
  },
  {
   "cell_type": "code",
   "execution_count": 8,
   "metadata": {},
   "outputs": [],
   "source": [
    "model.save(f\"data/models/{model_name}.keras\")"
   ]
  },
  {
   "cell_type": "code",
   "execution_count": null,
   "metadata": {},
   "outputs": [],
   "source": []
  }
 ],
 "metadata": {
  "kernelspec": {
   "display_name": "Tensorflow 2.13.0",
   "language": "python",
   "name": "tensorflow-2.13.0"
  },
  "language_info": {
   "codemirror_mode": {
    "name": "ipython",
    "version": 3
   },
   "file_extension": ".py",
   "mimetype": "text/x-python",
   "name": "python",
   "nbconvert_exporter": "python",
   "pygments_lexer": "ipython3",
   "version": "3.10.12"
  }
 },
 "nbformat": 4,
 "nbformat_minor": 4
}
