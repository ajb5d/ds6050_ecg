{
 "cells": [
  {
   "cell_type": "code",
   "execution_count": 1,
   "metadata": {},
   "outputs": [
    {
     "name": "stderr",
     "output_type": "stream",
     "text": [
      "2023-10-17 13:44:10.630426: I tensorflow/core/platform/cpu_feature_guard.cc:183] This TensorFlow binary is optimized to use available CPU instructions in performance-critical operations.\n",
      "To enable the following instructions: SSE3 SSE4.1 SSE4.2 AVX, in other operations, rebuild TensorFlow with the appropriate compiler flags.\n"
     ]
    }
   ],
   "source": [
    "import tensorflow as tf\n",
    "import numpy as np\n",
    "from pathlib import Path"
   ]
  },
  {
   "cell_type": "code",
   "execution_count": 2,
   "metadata": {},
   "outputs": [],
   "source": [
    "DATA_PATH = Path(\"/scratch/ajb5d/ecg/tfrecords/\")\n",
    "TRAIN_RECS = list(DATA_PATH.glob(\"train*.tfrecords\"))\n",
    "VAL_RECS = list(DATA_PATH.glob(\"train*.tfrecords\"))"
   ]
  },
  {
   "cell_type": "code",
   "execution_count": 3,
   "metadata": {},
   "outputs": [],
   "source": [
    "BATCH_SIZE = 64\n",
    "\n",
    "record_format = {\n",
    "    'ecg/data': tf.io.FixedLenSequenceFeature([], tf.float32, allow_missing=True),\n",
    "    'age': tf.io.FixedLenFeature([], tf.float32),\n",
    "    'gender': tf.io.FixedLenFeature([], tf.int64),\n",
    "}\n",
    "\n",
    "def _parse_record(record):\n",
    "    example = tf.io.parse_single_example(record, record_format)\n",
    "    ecg_data = tf.reshape(example['ecg/data'], [5000,12])\n",
    "    label = example['gender']\n",
    "    return ecg_data, label\n",
    "\n",
    "def load_dataset(filenames):\n",
    "    ignore_order = tf.data.Options()\n",
    "    ignore_order.experimental_deterministic = False\n",
    "    dataset = tf.data.TFRecordDataset(filenames)\n",
    "    dataset = dataset.with_options(ignore_order)\n",
    "    dataset = dataset.map(_parse_record, num_parallel_calls=tf.data.AUTOTUNE)\n",
    "    return dataset\n",
    "\n",
    "def get_dataset(filenames, labeled=True):\n",
    "    dataset = load_dataset(filenames)\n",
    "    dataset = dataset.shuffle(2048)\n",
    "    dataset = dataset.prefetch(buffer_size=tf.data.AUTOTUNE)\n",
    "    dataset = dataset.batch(BATCH_SIZE)\n",
    "    return dataset"
   ]
  },
  {
   "cell_type": "code",
   "execution_count": 4,
   "metadata": {},
   "outputs": [
    {
     "name": "stderr",
     "output_type": "stream",
     "text": [
      "2023-10-17 13:44:17.123973: I tensorflow/core/common_runtime/gpu/gpu_device.cc:1636] Created device /job:localhost/replica:0/task:0/device:GPU:0 with 46582 MB memory:  -> device: 0, name: NVIDIA RTX A6000, pci bus id: 0000:01:00.0, compute capability: 8.6\n"
     ]
    }
   ],
   "source": [
    "train_dataset = get_dataset(TRAIN_RECS)\n",
    "val_dataset = get_dataset(VAL_RECS)"
   ]
  },
  {
   "cell_type": "code",
   "execution_count": 8,
   "metadata": {},
   "outputs": [],
   "source": [
    "def conv_block(x, n, k, mp):\n",
    "    x = tf.keras.layers.Conv1D(n, k, padding='same', use_bias=False)(x)\n",
    "    x = tf.keras.layers.BatchNormalization()(x)\n",
    "    x = tf.keras.layers.Activation('relu')(x)\n",
    "    if mp:\n",
    "        x = tf.keras.layers.MaxPooling1D(mp)(x)\n",
    "\n",
    "    return x\n",
    "\n",
    "input_layer = tf.keras.layers.Input(shape=(5000,12))\n",
    "x = input_layer\n",
    "\n",
    "x = conv_block(x, 16, 7, 2)\n",
    "x = conv_block(x, 16, 5, 4)\n",
    "x = conv_block(x, 32, 5, 2)\n",
    "x = conv_block(x, 32, 5, 4)\n",
    "x = conv_block(x, 64, 5, 2)\n",
    "x = conv_block(x, 64, 3, 2)\n",
    "x = conv_block(x, 64, 3, 2)\n",
    "x = conv_block(x, 64, 3, 2)\n",
    "\n",
    "x = tf.keras.layers.Conv1D(128, 12, padding = 'same', data_format = 'channels_first')(x)\n",
    "x = tf.keras.layers.BatchNormalization()(x)\n",
    "x = tf.keras.layers.Activation('relu')(x)\n",
    "x = tf.keras.layers.MaxPooling1D()(x)\n",
    "\n",
    "x = tf.keras.layers.Flatten()(x)\n",
    "x = tf.keras.layers.Dense(128)(x)\n",
    "x = tf.keras.layers.BatchNormalization()(x)\n",
    "x = tf.keras.layers.Activation('relu')(x)\n",
    "x = tf.keras.layers.Dropout(0.5)(x)\n",
    "x = tf.keras.layers.Dense(64)(x)\n",
    "x = tf.keras.layers.BatchNormalization()(x)\n",
    "x = tf.keras.layers.Activation('relu')(x)\n",
    "x = tf.keras.layers.Dropout(0.5)(x)\n",
    "x = tf.keras.layers.Dense(1, activation='sigmoid')(x)\n",
    "\n",
    "model = tf.keras.models.Model(input_layer, x)\n",
    "\n",
    "model.compile(\n",
    "    optimizer='adam',\n",
    "    loss=tf.keras.losses.BinaryCrossentropy(),\n",
    "    metrics=['accuracy', tf.keras.metrics.AUC()]\n",
    ")"
   ]
  },
  {
   "cell_type": "code",
   "execution_count": 9,
   "metadata": {},
   "outputs": [],
   "source": [
    "from datetime import datetime\n",
    "import os\n",
    "\n",
    "def make_checkpoint_dir(data_path, label):\n",
    "    current_datetime = datetime.now()\n",
    "    formatted_datetime = current_datetime.strftime(\"%Y-%m-%d_%H-%M-%S\")\n",
    "    output_dir = f\"{label}-{formatted_datetime}\"\n",
    "    output_path = f\"{data_path}/{output_dir}\"\n",
    "    \n",
    "    if not os.path.exists(output_path):\n",
    "        os.makedirs(output_path)\n",
    "    \n",
    "    return output_path"
   ]
  },
  {
   "cell_type": "code",
   "execution_count": 10,
   "metadata": {},
   "outputs": [
    {
     "name": "stdout",
     "output_type": "stream",
     "text": [
      "Epoch 1/10\n"
     ]
    },
    {
     "name": "stderr",
     "output_type": "stream",
     "text": [
      "2023-10-17 13:44:58.472192: I tensorflow/compiler/xla/service/service.cc:168] XLA service 0x7f714e8b70b0 initialized for platform CUDA (this does not guarantee that XLA will be used). Devices:\n",
      "2023-10-17 13:44:58.472248: I tensorflow/compiler/xla/service/service.cc:176]   StreamExecutor device (0): NVIDIA RTX A6000, Compute Capability 8.6\n",
      "2023-10-17 13:44:58.655256: I tensorflow/compiler/mlir/tensorflow/utils/dump_mlir_util.cc:255] disabling MLIR crash reproducer, set env var `MLIR_CRASH_REPRODUCER_DIRECTORY` to enable.\n",
      "2023-10-17 13:44:59.682749: I ./tensorflow/compiler/jit/device_compiler.h:186] Compiled cluster using XLA!  This line is logged at most once for the lifetime of the process.\n"
     ]
    },
    {
     "name": "stdout",
     "output_type": "stream",
     "text": [
      "   7851/Unknown - 173s 21ms/step - loss: 0.5080 - accuracy: 0.7520 - auc_1: 0.8307"
     ]
    },
    {
     "name": "stderr",
     "output_type": "stream",
     "text": [
      "2023-10-17 13:47:47.407237: I tensorflow/core/framework/local_rendezvous.cc:405] Local rendezvous recv item cancelled. Key hash: 3989729919823237703\n",
      "2023-10-17 13:47:47.407319: I tensorflow/core/framework/local_rendezvous.cc:405] Local rendezvous recv item cancelled. Key hash: 16579930753945695078\n",
      "2023-10-17 13:49:12.753650: I tensorflow/core/framework/local_rendezvous.cc:405] Local rendezvous recv item cancelled. Key hash: 3989729919823237703\n",
      "2023-10-17 13:49:12.753714: I tensorflow/core/framework/local_rendezvous.cc:405] Local rendezvous recv item cancelled. Key hash: 16579930753945695078\n"
     ]
    },
    {
     "name": "stdout",
     "output_type": "stream",
     "text": [
      "INFO:tensorflow:Assets written to: data/models/cnn-gender-2023-10-17_13-44-53/assets\n"
     ]
    },
    {
     "name": "stderr",
     "output_type": "stream",
     "text": [
      "INFO:tensorflow:Assets written to: data/models/cnn-gender-2023-10-17_13-44-53/assets\n"
     ]
    },
    {
     "name": "stdout",
     "output_type": "stream",
     "text": [
      "7851/7851 [==============================] - 264s 32ms/step - loss: 0.5080 - accuracy: 0.7520 - auc_1: 0.8307 - val_loss: 0.5633 - val_accuracy: 0.7237 - val_auc_1: 0.8352 - lr: 0.0010\n",
      "Epoch 2/10\n",
      "7851/7851 [==============================] - ETA: 0s - loss: 0.4565 - accuracy: 0.7877 - auc_1: 0.8676INFO:tensorflow:Assets written to: data/models/cnn-gender-2023-10-17_13-44-53/assets\n"
     ]
    },
    {
     "name": "stderr",
     "output_type": "stream",
     "text": [
      "INFO:tensorflow:Assets written to: data/models/cnn-gender-2023-10-17_13-44-53/assets\n"
     ]
    },
    {
     "name": "stdout",
     "output_type": "stream",
     "text": [
      "7851/7851 [==============================] - 250s 32ms/step - loss: 0.4565 - accuracy: 0.7877 - auc_1: 0.8676 - val_loss: 0.5107 - val_accuracy: 0.7604 - val_auc_1: 0.8506 - lr: 0.0010\n",
      "Epoch 3/10\n",
      "7850/7851 [============================>.] - ETA: 0s - loss: 0.4365 - accuracy: 0.8002 - auc_1: 0.8801INFO:tensorflow:Assets written to: data/models/cnn-gender-2023-10-17_13-44-53/assets\n"
     ]
    },
    {
     "name": "stderr",
     "output_type": "stream",
     "text": [
      "INFO:tensorflow:Assets written to: data/models/cnn-gender-2023-10-17_13-44-53/assets\n"
     ]
    },
    {
     "name": "stdout",
     "output_type": "stream",
     "text": [
      "7851/7851 [==============================] - 267s 34ms/step - loss: 0.4365 - accuracy: 0.8002 - auc_1: 0.8801 - val_loss: 0.5635 - val_accuracy: 0.7356 - val_auc_1: 0.8570 - lr: 0.0010\n",
      "Epoch 4/10\n",
      "7849/7851 [============================>.] - ETA: 0s - loss: 0.4236 - accuracy: 0.8081 - auc_1: 0.8876INFO:tensorflow:Assets written to: data/models/cnn-gender-2023-10-17_13-44-53/assets\n"
     ]
    },
    {
     "name": "stderr",
     "output_type": "stream",
     "text": [
      "INFO:tensorflow:Assets written to: data/models/cnn-gender-2023-10-17_13-44-53/assets\n"
     ]
    },
    {
     "name": "stdout",
     "output_type": "stream",
     "text": [
      "7851/7851 [==============================] - 255s 32ms/step - loss: 0.4236 - accuracy: 0.8081 - auc_1: 0.8875 - val_loss: 0.4767 - val_accuracy: 0.7810 - val_auc_1: 0.8698 - lr: 0.0010\n",
      "Epoch 5/10\n",
      "7849/7851 [============================>.] - ETA: 0s - loss: 0.4145 - accuracy: 0.8128 - auc_1: 0.8928INFO:tensorflow:Assets written to: data/models/cnn-gender-2023-10-17_13-44-53/assets\n"
     ]
    },
    {
     "name": "stderr",
     "output_type": "stream",
     "text": [
      "INFO:tensorflow:Assets written to: data/models/cnn-gender-2023-10-17_13-44-53/assets\n"
     ]
    },
    {
     "name": "stdout",
     "output_type": "stream",
     "text": [
      "7851/7851 [==============================] - 254s 32ms/step - loss: 0.4145 - accuracy: 0.8128 - auc_1: 0.8928 - val_loss: 0.4453 - val_accuracy: 0.7924 - val_auc_1: 0.8792 - lr: 0.0010\n",
      "Epoch 6/10\n",
      "7849/7851 [============================>.] - ETA: 0s - loss: 0.4066 - accuracy: 0.8177 - auc_1: 0.8971INFO:tensorflow:Assets written to: data/models/cnn-gender-2023-10-17_13-44-53/assets\n"
     ]
    },
    {
     "name": "stderr",
     "output_type": "stream",
     "text": [
      "INFO:tensorflow:Assets written to: data/models/cnn-gender-2023-10-17_13-44-53/assets\n"
     ]
    },
    {
     "name": "stdout",
     "output_type": "stream",
     "text": [
      "7851/7851 [==============================] - 250s 32ms/step - loss: 0.4065 - accuracy: 0.8178 - auc_1: 0.8971 - val_loss: 0.4411 - val_accuracy: 0.7966 - val_auc_1: 0.8798 - lr: 0.0010\n",
      "Epoch 7/10\n",
      "7849/7851 [============================>.] - ETA: 0s - loss: 0.3995 - accuracy: 0.8218 - auc_1: 0.9009INFO:tensorflow:Assets written to: data/models/cnn-gender-2023-10-17_13-44-53/assets\n"
     ]
    },
    {
     "name": "stderr",
     "output_type": "stream",
     "text": [
      "INFO:tensorflow:Assets written to: data/models/cnn-gender-2023-10-17_13-44-53/assets\n"
     ]
    },
    {
     "name": "stdout",
     "output_type": "stream",
     "text": [
      "7851/7851 [==============================] - 252s 32ms/step - loss: 0.3995 - accuracy: 0.8218 - auc_1: 0.9009 - val_loss: 0.4459 - val_accuracy: 0.7976 - val_auc_1: 0.8820 - lr: 0.0010\n",
      "Epoch 8/10\n",
      "7850/7851 [============================>.] - ETA: 0s - loss: 0.3940 - accuracy: 0.8253 - auc_1: 0.9038INFO:tensorflow:Assets written to: data/models/cnn-gender-2023-10-17_13-44-53/assets\n"
     ]
    },
    {
     "name": "stderr",
     "output_type": "stream",
     "text": [
      "INFO:tensorflow:Assets written to: data/models/cnn-gender-2023-10-17_13-44-53/assets\n"
     ]
    },
    {
     "name": "stdout",
     "output_type": "stream",
     "text": [
      "7851/7851 [==============================] - 248s 32ms/step - loss: 0.3940 - accuracy: 0.8253 - auc_1: 0.9038 - val_loss: 0.4281 - val_accuracy: 0.8056 - val_auc_1: 0.8886 - lr: 0.0010\n",
      "Epoch 9/10\n",
      "7850/7851 [============================>.] - ETA: 0s - loss: 0.3873 - accuracy: 0.8286 - auc_1: 0.9072INFO:tensorflow:Assets written to: data/models/cnn-gender-2023-10-17_13-44-53/assets\n"
     ]
    },
    {
     "name": "stderr",
     "output_type": "stream",
     "text": [
      "INFO:tensorflow:Assets written to: data/models/cnn-gender-2023-10-17_13-44-53/assets\n"
     ]
    },
    {
     "name": "stdout",
     "output_type": "stream",
     "text": [
      "7851/7851 [==============================] - 248s 32ms/step - loss: 0.3873 - accuracy: 0.8286 - auc_1: 0.9072 - val_loss: 0.4294 - val_accuracy: 0.8055 - val_auc_1: 0.8879 - lr: 0.0010\n",
      "Epoch 10/10\n",
      "7851/7851 [==============================] - ETA: 0s - loss: 0.3828 - accuracy: 0.8314 - auc_1: 0.9095INFO:tensorflow:Assets written to: data/models/cnn-gender-2023-10-17_13-44-53/assets\n"
     ]
    },
    {
     "name": "stderr",
     "output_type": "stream",
     "text": [
      "INFO:tensorflow:Assets written to: data/models/cnn-gender-2023-10-17_13-44-53/assets\n"
     ]
    },
    {
     "name": "stdout",
     "output_type": "stream",
     "text": [
      "7851/7851 [==============================] - 267s 34ms/step - loss: 0.3828 - accuracy: 0.8314 - auc_1: 0.9095 - val_loss: 0.4478 - val_accuracy: 0.8044 - val_auc_1: 0.8870 - lr: 0.0010\n"
     ]
    },
    {
     "data": {
      "text/plain": [
       "<keras.src.callbacks.History at 0x7f7d74174460>"
      ]
     },
     "execution_count": 10,
     "metadata": {},
     "output_type": "execute_result"
    }
   ],
   "source": [
    "callbacks = [\n",
    "    tf.keras.callbacks.TerminateOnNaN(),\n",
    "    tf.keras.callbacks.ReduceLROnPlateau(),\n",
    "    tf.keras.callbacks.ModelCheckpoint(make_checkpoint_dir(\"data/models\", \"cnn-gender\"))\n",
    "]\n",
    "\n",
    "model.fit(train_dataset, epochs=10, validation_data=val_dataset, callbacks=callbacks)"
   ]
  },
  {
   "cell_type": "code",
   "execution_count": 11,
   "metadata": {},
   "outputs": [],
   "source": [
    "model.save(\"data/models/cnn-gender.keras\")"
   ]
  },
  {
   "cell_type": "code",
   "execution_count": null,
   "metadata": {},
   "outputs": [],
   "source": []
  }
 ],
 "metadata": {
  "kernelspec": {
   "display_name": "Tensorflow 2.13.0",
   "language": "python",
   "name": "tensorflow-2.13.0"
  },
  "language_info": {
   "codemirror_mode": {
    "name": "ipython",
    "version": 3
   },
   "file_extension": ".py",
   "mimetype": "text/x-python",
   "name": "python",
   "nbconvert_exporter": "python",
   "pygments_lexer": "ipython3",
   "version": "3.10.12"
  }
 },
 "nbformat": 4,
 "nbformat_minor": 4
}
