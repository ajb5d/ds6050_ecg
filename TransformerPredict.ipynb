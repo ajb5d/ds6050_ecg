{
 "cells": [
  {
   "cell_type": "code",
   "execution_count": 1,
   "metadata": {},
   "outputs": [
    {
     "name": "stderr",
     "output_type": "stream",
     "text": [
      "2023-12-02 20:56:13.219564: I tensorflow/core/platform/cpu_feature_guard.cc:193] This TensorFlow binary is optimized with oneAPI Deep Neural Network Library (oneDNN) to use the following CPU instructions in performance-critical operations:  AVX2 FMA\n",
      "To enable them in other operations, rebuild TensorFlow with the appropriate compiler flags.\n",
      "2023-12-02 20:56:13.859953: E tensorflow/stream_executor/cuda/cuda_blas.cc:2981] Unable to register cuBLAS factory: Attempting to register factory for plugin cuBLAS when one has already been registered\n"
     ]
    }
   ],
   "source": [
    "import tensorflow as tf\n",
    "import numpy as np\n",
    "from pathlib import Path\n",
    "from datetime import datetime\n",
    "import os"
   ]
  },
  {
   "cell_type": "code",
   "execution_count": 2,
   "metadata": {},
   "outputs": [],
   "source": [
    "DATA_PATH = Path(\"/scratch/ajk4yq/ecg/tfrecords/\")\n",
    "TEST_RECS = list(DATA_PATH.glob(\"test*.tfrecords\"))"
   ]
  },
  {
   "cell_type": "code",
   "execution_count": 3,
   "metadata": {},
   "outputs": [],
   "source": [
    "BATCH_SIZE = 8\n",
    "\n",
    "record_format = {\n",
    "    'ecg/data': tf.io.FixedLenSequenceFeature([], tf.float32, allow_missing=True),\n",
    "    'age': tf.io.FixedLenFeature([], tf.float32),\n",
    "    'gender': tf.io.FixedLenFeature([], tf.int64),\n",
    "    'hospital_expire_flag': tf.io.FixedLenFeature([], tf.float32)\n",
    "}\n",
    "\n",
    "def _parse_record(record):\n",
    "    example = tf.io.parse_single_example(record, record_format)\n",
    "    ecg_data = tf.reshape(example['ecg/data'], [5000,12])\n",
    "    label = example['age']\n",
    "    return ecg_data, label\n",
    "\n",
    "def drop_na_ages(x,y):\n",
    "    return not tf.math.reduce_any(tf.math.is_nan(y))\n",
    "\n",
    "def age_lt_90(x,y):\n",
    "    return tf.math.reduce_all(tf.math.less_equal(y, tf.constant([90.0])))\n",
    "\n",
    "def load_dataset(filenames):\n",
    "    ignore_order = tf.data.Options()\n",
    "    ignore_order.experimental_deterministic = False\n",
    "    dataset = tf.data.TFRecordDataset(filenames)\n",
    "    dataset = dataset.with_options(ignore_order)\n",
    "    dataset = dataset.map(_parse_record, num_parallel_calls=tf.data.AUTOTUNE)\n",
    "    dataset = dataset.filter(drop_na_ages)\n",
    "    dataset = dataset.filter(age_lt_90)\n",
    "    return dataset\n",
    "\n",
    "def get_dataset(filenames, labeled=True):\n",
    "    dataset = load_dataset(filenames)\n",
    "    dataset = dataset.shuffle(2048)\n",
    "    dataset = dataset.prefetch(buffer_size=tf.data.AUTOTUNE)\n",
    "    dataset = dataset.batch(BATCH_SIZE)\n",
    "    return dataset"
   ]
  },
  {
   "cell_type": "code",
   "execution_count": 5,
   "metadata": {},
   "outputs": [
    {
     "name": "stderr",
     "output_type": "stream",
     "text": [
      "2023-12-02 20:56:25.864709: I tensorflow/core/common_runtime/gpu/gpu_device.cc:1616] Created device /job:localhost/replica:0/task:0/device:GPU:0 with 78919 MB memory:  -> device: 0, name: NVIDIA A100-SXM4-80GB, pci bus id: 0000:bd:00.0, compute capability: 8.0\n"
     ]
    }
   ],
   "source": [
    "test_dataset = get_dataset(TEST_RECS)"
   ]
  },
  {
   "cell_type": "code",
   "execution_count": 6,
   "metadata": {},
   "outputs": [],
   "source": [
    "tform_model = tf.keras.models.load_model(\"data/models/transformer-age2-2023-11-26_21-33-04\")"
   ]
  },
  {
   "cell_type": "code",
   "execution_count": 7,
   "metadata": {},
   "outputs": [
    {
     "data": {
      "text/plain": [
       "-2"
      ]
     },
     "execution_count": 7,
     "metadata": {},
     "output_type": "execute_result"
    }
   ],
   "source": [
    "test_dataset.cardinality().numpy()"
   ]
  },
  {
   "cell_type": "code",
   "execution_count": 19,
   "metadata": {},
   "outputs": [
    {
     "name": "stdout",
     "output_type": "stream",
     "text": [
      "19045/19045 [==============================] - 2372s 125ms/step\n"
     ]
    }
   ],
   "source": [
    "preds=tform_model.predict(test_dataset)"
   ]
  },
  {
   "cell_type": "code",
   "execution_count": 21,
   "metadata": {},
   "outputs": [
    {
     "data": {
      "text/plain": [
       "array([[63.14621 ],\n",
       "       [73.340034],\n",
       "       [67.34243 ],\n",
       "       [62.81424 ],\n",
       "       [71.58188 ],\n",
       "       [68.42313 ],\n",
       "       [77.6653  ],\n",
       "       [56.88105 ],\n",
       "       [86.121895],\n",
       "       [47.363174],\n",
       "       [64.31592 ],\n",
       "       [63.711594],\n",
       "       [65.059616],\n",
       "       [64.31142 ],\n",
       "       [86.321106],\n",
       "       [44.48825 ],\n",
       "       [71.24527 ],\n",
       "       [45.09394 ],\n",
       "       [68.731064],\n",
       "       [44.36816 ],\n",
       "       [50.43182 ],\n",
       "       [56.95024 ],\n",
       "       [44.74236 ],\n",
       "       [75.04602 ],\n",
       "       [59.253418],\n",
       "       [44.36816 ],\n",
       "       [63.38672 ],\n",
       "       [46.14617 ],\n",
       "       [71.64195 ],\n",
       "       [68.76886 ],\n",
       "       [69.46737 ],\n",
       "       [49.045113],\n",
       "       [66.      ],\n",
       "       [60.22925 ],\n",
       "       [63.036522],\n",
       "       [75.677444],\n",
       "       [53.17782 ],\n",
       "       [76.009964],\n",
       "       [80.64572 ],\n",
       "       [62.29065 ],\n",
       "       [73.93593 ],\n",
       "       [54.96582 ],\n",
       "       [58.006958],\n",
       "       [74.888535],\n",
       "       [69.62785 ],\n",
       "       [68.37863 ],\n",
       "       [69.070564],\n",
       "       [66.92908 ],\n",
       "       [69.385704],\n",
       "       [80.56488 ]], dtype=float32)"
      ]
     },
     "execution_count": 21,
     "metadata": {},
     "output_type": "execute_result"
    }
   ],
   "source": [
    "preds[:50]"
   ]
  },
  {
   "cell_type": "code",
   "execution_count": null,
   "metadata": {},
   "outputs": [],
   "source": []
  }
 ],
 "metadata": {
  "kernelspec": {
   "display_name": "Tensorflow 2.10.0/Keras Py3.9",
   "language": "python",
   "name": "tensorflow-2.10.0"
  },
  "language_info": {
   "codemirror_mode": {
    "name": "ipython",
    "version": 3
   },
   "file_extension": ".py",
   "mimetype": "text/x-python",
   "name": "python",
   "nbconvert_exporter": "python",
   "pygments_lexer": "ipython3",
   "version": "3.9.14"
  }
 },
 "nbformat": 4,
 "nbformat_minor": 4
}
